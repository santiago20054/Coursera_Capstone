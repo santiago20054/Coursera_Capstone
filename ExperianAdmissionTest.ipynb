{
  "nbformat": 4,
  "nbformat_minor": 0,
  "metadata": {
    "colab": {
      "name": "ExperianAdmissionTest.ipynb",
      "provenance": [],
      "collapsed_sections": [],
      "toc_visible": true,
      "authorship_tag": "ABX9TyN6KAo7idA2YE0IQepFCPHS",
      "include_colab_link": true
    },
    "kernelspec": {
      "name": "python3",
      "display_name": "Python 3"
    },
    "language_info": {
      "name": "python"
    },
    "widgets": {
      "application/vnd.jupyter.widget-state+json": {
        "6d7241cfe93844b28f9cfbd15eb6db5e": {
          "model_module": "@jupyter-widgets/controls",
          "model_name": "VBoxModel",
          "model_module_version": "1.5.0",
          "state": {
            "_dom_classes": [
              "widget-interact"
            ],
            "_model_module": "@jupyter-widgets/controls",
            "_model_module_version": "1.5.0",
            "_model_name": "VBoxModel",
            "_view_count": null,
            "_view_module": "@jupyter-widgets/controls",
            "_view_module_version": "1.5.0",
            "_view_name": "VBoxView",
            "box_style": "",
            "children": [
              "IPY_MODEL_a7cc5af52ac44ceca5c62a08f09ed9c6",
              "IPY_MODEL_89344bc19ec54799be91daf5c0cf1650"
            ],
            "layout": "IPY_MODEL_ac93e995ebbb415f9f92d5a5684e92d5"
          }
        },
        "a7cc5af52ac44ceca5c62a08f09ed9c6": {
          "model_module": "@jupyter-widgets/controls",
          "model_name": "DropdownModel",
          "model_module_version": "1.5.0",
          "state": {
            "_dom_classes": [],
            "_model_module": "@jupyter-widgets/controls",
            "_model_module_version": "1.5.0",
            "_model_name": "DropdownModel",
            "_options_labels": [
              "DIAS0",
              "DIAS1",
              "DIAS2",
              "DIAS3",
              "DIAS4",
              "DIAS5",
              "DIAS6"
            ],
            "_view_count": null,
            "_view_module": "@jupyter-widgets/controls",
            "_view_module_version": "1.5.0",
            "_view_name": "DropdownView",
            "description": "Format",
            "description_tooltip": null,
            "disabled": false,
            "index": 0,
            "layout": "IPY_MODEL_ebe359d85e6f4d3ebfb6e5ab9fc4ed83",
            "style": "IPY_MODEL_91a9d4a3f319410bb4ab0e3111027f81"
          }
        },
        "89344bc19ec54799be91daf5c0cf1650": {
          "model_module": "@jupyter-widgets/output",
          "model_name": "OutputModel",
          "model_module_version": "1.0.0",
          "state": {
            "_dom_classes": [],
            "_model_module": "@jupyter-widgets/output",
            "_model_module_version": "1.0.0",
            "_model_name": "OutputModel",
            "_view_count": null,
            "_view_module": "@jupyter-widgets/output",
            "_view_module_version": "1.0.0",
            "_view_name": "OutputView",
            "layout": "IPY_MODEL_f41aae3f9cb74554bb3f3c34b2a35cd5",
            "msg_id": "",
            "outputs": [
              {
                "output_type": "display_data",
                "data": {
                  "text/html": "<html>\n<head><meta charset=\"utf-8\" /></head>\n<body>\n    <div>            <script src=\"https://cdnjs.cloudflare.com/ajax/libs/mathjax/2.7.5/MathJax.js?config=TeX-AMS-MML_SVG\"></script><script type=\"text/javascript\">if (window.MathJax) {MathJax.Hub.Config({SVG: {font: \"STIX-Web\"}});}</script>                <script type=\"text/javascript\">window.PlotlyConfig = {MathJaxConfig: 'local'};</script>\n        <script src=\"https://cdn.plot.ly/plotly-2.8.3.min.js\"></script>                <div id=\"6d2b228d-e17f-43f3-8501-bea597d74ab6\" class=\"plotly-graph-div\" style=\"height:525px; width:100%;\"></div>            <script type=\"text/javascript\">                                    window.PLOTLYENV=window.PLOTLYENV || {};                                    if (document.getElementById(\"6d2b228d-e17f-43f3-8501-bea597d74ab6\")) {                    Plotly.newPlot(                        \"6d2b228d-e17f-43f3-8501-bea597d74ab6\",                        [{\"hovertemplate\":\"A\\u00f1o=%{x}<br>Promedio de d\\u00edas en mora=%{y}<extra></extra>\",\"legendgroup\":\"\",\"line\":{\"color\":\"#636efa\",\"dash\":\"solid\"},\"marker\":{\"symbol\":\"circle\"},\"mode\":\"markers+lines\",\"name\":\"\",\"orientation\":\"v\",\"showlegend\":false,\"x\":[\"2017\",\"2018\"],\"xaxis\":\"x\",\"y\":[21.226041597458604,21.228489779829943],\"yaxis\":\"y\",\"type\":\"scatter\"}],                        {\"template\":{\"data\":{\"bar\":[{\"error_x\":{\"color\":\"#2a3f5f\"},\"error_y\":{\"color\":\"#2a3f5f\"},\"marker\":{\"line\":{\"color\":\"#E5ECF6\",\"width\":0.5},\"pattern\":{\"fillmode\":\"overlay\",\"size\":10,\"solidity\":0.2}},\"type\":\"bar\"}],\"barpolar\":[{\"marker\":{\"line\":{\"color\":\"#E5ECF6\",\"width\":0.5},\"pattern\":{\"fillmode\":\"overlay\",\"size\":10,\"solidity\":0.2}},\"type\":\"barpolar\"}],\"carpet\":[{\"aaxis\":{\"endlinecolor\":\"#2a3f5f\",\"gridcolor\":\"white\",\"linecolor\":\"white\",\"minorgridcolor\":\"white\",\"startlinecolor\":\"#2a3f5f\"},\"baxis\":{\"endlinecolor\":\"#2a3f5f\",\"gridcolor\":\"white\",\"linecolor\":\"white\",\"minorgridcolor\":\"white\",\"startlinecolor\":\"#2a3f5f\"},\"type\":\"carpet\"}],\"choropleth\":[{\"colorbar\":{\"outlinewidth\":0,\"ticks\":\"\"},\"type\":\"choropleth\"}],\"contour\":[{\"colorbar\":{\"outlinewidth\":0,\"ticks\":\"\"},\"colorscale\":[[0.0,\"#0d0887\"],[0.1111111111111111,\"#46039f\"],[0.2222222222222222,\"#7201a8\"],[0.3333333333333333,\"#9c179e\"],[0.4444444444444444,\"#bd3786\"],[0.5555555555555556,\"#d8576b\"],[0.6666666666666666,\"#ed7953\"],[0.7777777777777778,\"#fb9f3a\"],[0.8888888888888888,\"#fdca26\"],[1.0,\"#f0f921\"]],\"type\":\"contour\"}],\"contourcarpet\":[{\"colorbar\":{\"outlinewidth\":0,\"ticks\":\"\"},\"type\":\"contourcarpet\"}],\"heatmap\":[{\"colorbar\":{\"outlinewidth\":0,\"ticks\":\"\"},\"colorscale\":[[0.0,\"#0d0887\"],[0.1111111111111111,\"#46039f\"],[0.2222222222222222,\"#7201a8\"],[0.3333333333333333,\"#9c179e\"],[0.4444444444444444,\"#bd3786\"],[0.5555555555555556,\"#d8576b\"],[0.6666666666666666,\"#ed7953\"],[0.7777777777777778,\"#fb9f3a\"],[0.8888888888888888,\"#fdca26\"],[1.0,\"#f0f921\"]],\"type\":\"heatmap\"}],\"heatmapgl\":[{\"colorbar\":{\"outlinewidth\":0,\"ticks\":\"\"},\"colorscale\":[[0.0,\"#0d0887\"],[0.1111111111111111,\"#46039f\"],[0.2222222222222222,\"#7201a8\"],[0.3333333333333333,\"#9c179e\"],[0.4444444444444444,\"#bd3786\"],[0.5555555555555556,\"#d8576b\"],[0.6666666666666666,\"#ed7953\"],[0.7777777777777778,\"#fb9f3a\"],[0.8888888888888888,\"#fdca26\"],[1.0,\"#f0f921\"]],\"type\":\"heatmapgl\"}],\"histogram\":[{\"marker\":{\"pattern\":{\"fillmode\":\"overlay\",\"size\":10,\"solidity\":0.2}},\"type\":\"histogram\"}],\"histogram2d\":[{\"colorbar\":{\"outlinewidth\":0,\"ticks\":\"\"},\"colorscale\":[[0.0,\"#0d0887\"],[0.1111111111111111,\"#46039f\"],[0.2222222222222222,\"#7201a8\"],[0.3333333333333333,\"#9c179e\"],[0.4444444444444444,\"#bd3786\"],[0.5555555555555556,\"#d8576b\"],[0.6666666666666666,\"#ed7953\"],[0.7777777777777778,\"#fb9f3a\"],[0.8888888888888888,\"#fdca26\"],[1.0,\"#f0f921\"]],\"type\":\"histogram2d\"}],\"histogram2dcontour\":[{\"colorbar\":{\"outlinewidth\":0,\"ticks\":\"\"},\"colorscale\":[[0.0,\"#0d0887\"],[0.1111111111111111,\"#46039f\"],[0.2222222222222222,\"#7201a8\"],[0.3333333333333333,\"#9c179e\"],[0.4444444444444444,\"#bd3786\"],[0.5555555555555556,\"#d8576b\"],[0.6666666666666666,\"#ed7953\"],[0.7777777777777778,\"#fb9f3a\"],[0.8888888888888888,\"#fdca26\"],[1.0,\"#f0f921\"]],\"type\":\"histogram2dcontour\"}],\"mesh3d\":[{\"colorbar\":{\"outlinewidth\":0,\"ticks\":\"\"},\"type\":\"mesh3d\"}],\"parcoords\":[{\"line\":{\"colorbar\":{\"outlinewidth\":0,\"ticks\":\"\"}},\"type\":\"parcoords\"}],\"pie\":[{\"automargin\":true,\"type\":\"pie\"}],\"scatter\":[{\"marker\":{\"colorbar\":{\"outlinewidth\":0,\"ticks\":\"\"}},\"type\":\"scatter\"}],\"scatter3d\":[{\"line\":{\"colorbar\":{\"outlinewidth\":0,\"ticks\":\"\"}},\"marker\":{\"colorbar\":{\"outlinewidth\":0,\"ticks\":\"\"}},\"type\":\"scatter3d\"}],\"scattercarpet\":[{\"marker\":{\"colorbar\":{\"outlinewidth\":0,\"ticks\":\"\"}},\"type\":\"scattercarpet\"}],\"scattergeo\":[{\"marker\":{\"colorbar\":{\"outlinewidth\":0,\"ticks\":\"\"}},\"type\":\"scattergeo\"}],\"scattergl\":[{\"marker\":{\"colorbar\":{\"outlinewidth\":0,\"ticks\":\"\"}},\"type\":\"scattergl\"}],\"scattermapbox\":[{\"marker\":{\"colorbar\":{\"outlinewidth\":0,\"ticks\":\"\"}},\"type\":\"scattermapbox\"}],\"scatterpolar\":[{\"marker\":{\"colorbar\":{\"outlinewidth\":0,\"ticks\":\"\"}},\"type\":\"scatterpolar\"}],\"scatterpolargl\":[{\"marker\":{\"colorbar\":{\"outlinewidth\":0,\"ticks\":\"\"}},\"type\":\"scatterpolargl\"}],\"scatterternary\":[{\"marker\":{\"colorbar\":{\"outlinewidth\":0,\"ticks\":\"\"}},\"type\":\"scatterternary\"}],\"surface\":[{\"colorbar\":{\"outlinewidth\":0,\"ticks\":\"\"},\"colorscale\":[[0.0,\"#0d0887\"],[0.1111111111111111,\"#46039f\"],[0.2222222222222222,\"#7201a8\"],[0.3333333333333333,\"#9c179e\"],[0.4444444444444444,\"#bd3786\"],[0.5555555555555556,\"#d8576b\"],[0.6666666666666666,\"#ed7953\"],[0.7777777777777778,\"#fb9f3a\"],[0.8888888888888888,\"#fdca26\"],[1.0,\"#f0f921\"]],\"type\":\"surface\"}],\"table\":[{\"cells\":{\"fill\":{\"color\":\"#EBF0F8\"},\"line\":{\"color\":\"white\"}},\"header\":{\"fill\":{\"color\":\"#C8D4E3\"},\"line\":{\"color\":\"white\"}},\"type\":\"table\"}]},\"layout\":{\"annotationdefaults\":{\"arrowcolor\":\"#2a3f5f\",\"arrowhead\":0,\"arrowwidth\":1},\"autotypenumbers\":\"strict\",\"coloraxis\":{\"colorbar\":{\"outlinewidth\":0,\"ticks\":\"\"}},\"colorscale\":{\"diverging\":[[0,\"#8e0152\"],[0.1,\"#c51b7d\"],[0.2,\"#de77ae\"],[0.3,\"#f1b6da\"],[0.4,\"#fde0ef\"],[0.5,\"#f7f7f7\"],[0.6,\"#e6f5d0\"],[0.7,\"#b8e186\"],[0.8,\"#7fbc41\"],[0.9,\"#4d9221\"],[1,\"#276419\"]],\"sequential\":[[0.0,\"#0d0887\"],[0.1111111111111111,\"#46039f\"],[0.2222222222222222,\"#7201a8\"],[0.3333333333333333,\"#9c179e\"],[0.4444444444444444,\"#bd3786\"],[0.5555555555555556,\"#d8576b\"],[0.6666666666666666,\"#ed7953\"],[0.7777777777777778,\"#fb9f3a\"],[0.8888888888888888,\"#fdca26\"],[1.0,\"#f0f921\"]],\"sequentialminus\":[[0.0,\"#0d0887\"],[0.1111111111111111,\"#46039f\"],[0.2222222222222222,\"#7201a8\"],[0.3333333333333333,\"#9c179e\"],[0.4444444444444444,\"#bd3786\"],[0.5555555555555556,\"#d8576b\"],[0.6666666666666666,\"#ed7953\"],[0.7777777777777778,\"#fb9f3a\"],[0.8888888888888888,\"#fdca26\"],[1.0,\"#f0f921\"]]},\"colorway\":[\"#636efa\",\"#EF553B\",\"#00cc96\",\"#ab63fa\",\"#FFA15A\",\"#19d3f3\",\"#FF6692\",\"#B6E880\",\"#FF97FF\",\"#FECB52\"],\"font\":{\"color\":\"#2a3f5f\"},\"geo\":{\"bgcolor\":\"white\",\"lakecolor\":\"white\",\"landcolor\":\"#E5ECF6\",\"showlakes\":true,\"showland\":true,\"subunitcolor\":\"white\"},\"hoverlabel\":{\"align\":\"left\"},\"hovermode\":\"closest\",\"mapbox\":{\"style\":\"light\"},\"paper_bgcolor\":\"white\",\"plot_bgcolor\":\"#E5ECF6\",\"polar\":{\"angularaxis\":{\"gridcolor\":\"white\",\"linecolor\":\"white\",\"ticks\":\"\"},\"bgcolor\":\"#E5ECF6\",\"radialaxis\":{\"gridcolor\":\"white\",\"linecolor\":\"white\",\"ticks\":\"\"}},\"scene\":{\"xaxis\":{\"backgroundcolor\":\"#E5ECF6\",\"gridcolor\":\"white\",\"gridwidth\":2,\"linecolor\":\"white\",\"showbackground\":true,\"ticks\":\"\",\"zerolinecolor\":\"white\"},\"yaxis\":{\"backgroundcolor\":\"#E5ECF6\",\"gridcolor\":\"white\",\"gridwidth\":2,\"linecolor\":\"white\",\"showbackground\":true,\"ticks\":\"\",\"zerolinecolor\":\"white\"},\"zaxis\":{\"backgroundcolor\":\"#E5ECF6\",\"gridcolor\":\"white\",\"gridwidth\":2,\"linecolor\":\"white\",\"showbackground\":true,\"ticks\":\"\",\"zerolinecolor\":\"white\"}},\"shapedefaults\":{\"line\":{\"color\":\"#2a3f5f\"}},\"ternary\":{\"aaxis\":{\"gridcolor\":\"white\",\"linecolor\":\"white\",\"ticks\":\"\"},\"baxis\":{\"gridcolor\":\"white\",\"linecolor\":\"white\",\"ticks\":\"\"},\"bgcolor\":\"#E5ECF6\",\"caxis\":{\"gridcolor\":\"white\",\"linecolor\":\"white\",\"ticks\":\"\"}},\"title\":{\"x\":0.05},\"xaxis\":{\"automargin\":true,\"gridcolor\":\"white\",\"linecolor\":\"white\",\"ticks\":\"\",\"title\":{\"standoff\":15},\"zerolinecolor\":\"white\",\"zerolinewidth\":2},\"yaxis\":{\"automargin\":true,\"gridcolor\":\"white\",\"linecolor\":\"white\",\"ticks\":\"\",\"title\":{\"standoff\":15},\"zerolinecolor\":\"white\",\"zerolinewidth\":2}}},\"xaxis\":{\"anchor\":\"y\",\"domain\":[0.0,1.0],\"title\":{\"text\":\"A\\u00f1o\"}},\"yaxis\":{\"anchor\":\"x\",\"domain\":[0.0,1.0],\"title\":{\"text\":\"Promedio de d\\u00edas en mora\"}},\"legend\":{\"tracegroupgap\":0},\"title\":{\"text\":\"Promedio de d\\u00edas en mora de los clientes a traves del tiempo\"}},                        {\"responsive\": true}                    ).then(function(){\n                            \nvar gd = document.getElementById('6d2b228d-e17f-43f3-8501-bea597d74ab6');\nvar x = new MutationObserver(function (mutations, observer) {{\n        var display = window.getComputedStyle(gd).display;\n        if (!display || display === 'none') {{\n            console.log([gd, 'removed!']);\n            Plotly.purge(gd);\n            observer.disconnect();\n        }}\n}});\n\n// Listen for the removal of the full notebook cells\nvar notebookContainer = gd.closest('#notebook-container');\nif (notebookContainer) {{\n    x.observe(notebookContainer, {childList: true});\n}}\n\n// Listen for the clearing of the current output cell\nvar outputEl = gd.closest('.output');\nif (outputEl) {{\n    x.observe(outputEl, {childList: true});\n}}\n\n                        })                };                            </script>        </div>\n</body>\n</html>"
                },
                "metadata": {}
              }
            ]
          }
        },
        "ac93e995ebbb415f9f92d5a5684e92d5": {
          "model_module": "@jupyter-widgets/base",
          "model_name": "LayoutModel",
          "model_module_version": "1.2.0",
          "state": {
            "_model_module": "@jupyter-widgets/base",
            "_model_module_version": "1.2.0",
            "_model_name": "LayoutModel",
            "_view_count": null,
            "_view_module": "@jupyter-widgets/base",
            "_view_module_version": "1.2.0",
            "_view_name": "LayoutView",
            "align_content": null,
            "align_items": null,
            "align_self": null,
            "border": null,
            "bottom": null,
            "display": null,
            "flex": null,
            "flex_flow": null,
            "grid_area": null,
            "grid_auto_columns": null,
            "grid_auto_flow": null,
            "grid_auto_rows": null,
            "grid_column": null,
            "grid_gap": null,
            "grid_row": null,
            "grid_template_areas": null,
            "grid_template_columns": null,
            "grid_template_rows": null,
            "height": null,
            "justify_content": null,
            "justify_items": null,
            "left": null,
            "margin": null,
            "max_height": null,
            "max_width": null,
            "min_height": null,
            "min_width": null,
            "object_fit": null,
            "object_position": null,
            "order": null,
            "overflow": null,
            "overflow_x": null,
            "overflow_y": null,
            "padding": null,
            "right": null,
            "top": null,
            "visibility": null,
            "width": null
          }
        },
        "ebe359d85e6f4d3ebfb6e5ab9fc4ed83": {
          "model_module": "@jupyter-widgets/base",
          "model_name": "LayoutModel",
          "model_module_version": "1.2.0",
          "state": {
            "_model_module": "@jupyter-widgets/base",
            "_model_module_version": "1.2.0",
            "_model_name": "LayoutModel",
            "_view_count": null,
            "_view_module": "@jupyter-widgets/base",
            "_view_module_version": "1.2.0",
            "_view_name": "LayoutView",
            "align_content": null,
            "align_items": null,
            "align_self": null,
            "border": null,
            "bottom": null,
            "display": null,
            "flex": null,
            "flex_flow": null,
            "grid_area": null,
            "grid_auto_columns": null,
            "grid_auto_flow": null,
            "grid_auto_rows": null,
            "grid_column": null,
            "grid_gap": null,
            "grid_row": null,
            "grid_template_areas": null,
            "grid_template_columns": null,
            "grid_template_rows": null,
            "height": null,
            "justify_content": null,
            "justify_items": null,
            "left": null,
            "margin": null,
            "max_height": null,
            "max_width": null,
            "min_height": null,
            "min_width": null,
            "object_fit": null,
            "object_position": null,
            "order": null,
            "overflow": null,
            "overflow_x": null,
            "overflow_y": null,
            "padding": null,
            "right": null,
            "top": null,
            "visibility": null,
            "width": null
          }
        },
        "91a9d4a3f319410bb4ab0e3111027f81": {
          "model_module": "@jupyter-widgets/controls",
          "model_name": "DescriptionStyleModel",
          "model_module_version": "1.5.0",
          "state": {
            "_model_module": "@jupyter-widgets/controls",
            "_model_module_version": "1.5.0",
            "_model_name": "DescriptionStyleModel",
            "_view_count": null,
            "_view_module": "@jupyter-widgets/base",
            "_view_module_version": "1.2.0",
            "_view_name": "StyleView",
            "description_width": ""
          }
        },
        "f41aae3f9cb74554bb3f3c34b2a35cd5": {
          "model_module": "@jupyter-widgets/base",
          "model_name": "LayoutModel",
          "model_module_version": "1.2.0",
          "state": {
            "_model_module": "@jupyter-widgets/base",
            "_model_module_version": "1.2.0",
            "_model_name": "LayoutModel",
            "_view_count": null,
            "_view_module": "@jupyter-widgets/base",
            "_view_module_version": "1.2.0",
            "_view_name": "LayoutView",
            "align_content": null,
            "align_items": null,
            "align_self": null,
            "border": null,
            "bottom": null,
            "display": null,
            "flex": null,
            "flex_flow": null,
            "grid_area": null,
            "grid_auto_columns": null,
            "grid_auto_flow": null,
            "grid_auto_rows": null,
            "grid_column": null,
            "grid_gap": null,
            "grid_row": null,
            "grid_template_areas": null,
            "grid_template_columns": null,
            "grid_template_rows": null,
            "height": null,
            "justify_content": null,
            "justify_items": null,
            "left": null,
            "margin": null,
            "max_height": null,
            "max_width": null,
            "min_height": null,
            "min_width": null,
            "object_fit": null,
            "object_position": null,
            "order": null,
            "overflow": null,
            "overflow_x": null,
            "overflow_y": null,
            "padding": null,
            "right": null,
            "top": null,
            "visibility": null,
            "width": null
          }
        },
        "99837d72a7634e58b52d2b9d9c449dc0": {
          "model_module": "@jupyter-widgets/controls",
          "model_name": "VBoxModel",
          "model_module_version": "1.5.0",
          "state": {
            "_dom_classes": [
              "widget-interact"
            ],
            "_model_module": "@jupyter-widgets/controls",
            "_model_module_version": "1.5.0",
            "_model_name": "VBoxModel",
            "_view_count": null,
            "_view_module": "@jupyter-widgets/controls",
            "_view_module_version": "1.5.0",
            "_view_name": "VBoxView",
            "box_style": "",
            "children": [
              "IPY_MODEL_414d406181054effb1602fe924974380",
              "IPY_MODEL_26f1e9185b26478cad6692e96734885d"
            ],
            "layout": "IPY_MODEL_cf80d56205d54f64bb6204c752aaa34c"
          }
        },
        "414d406181054effb1602fe924974380": {
          "model_module": "@jupyter-widgets/controls",
          "model_name": "DropdownModel",
          "model_module_version": "1.5.0",
          "state": {
            "_dom_classes": [],
            "_model_module": "@jupyter-widgets/controls",
            "_model_module_version": "1.5.0",
            "_model_name": "DropdownModel",
            "_options_labels": [
              "Saldo_Mora1",
              "Saldo_Mora2",
              "Saldo_Mora3",
              "Saldo_Mora4",
              "Saldo_Mora5",
              "Saldo_Mora6"
            ],
            "_view_count": null,
            "_view_module": "@jupyter-widgets/controls",
            "_view_module_version": "1.5.0",
            "_view_name": "DropdownView",
            "description": "Format",
            "description_tooltip": null,
            "disabled": false,
            "index": 0,
            "layout": "IPY_MODEL_915c73b747da409bb81a88dee71c7138",
            "style": "IPY_MODEL_c07226bdef1c49a996580f98b421f805"
          }
        },
        "26f1e9185b26478cad6692e96734885d": {
          "model_module": "@jupyter-widgets/output",
          "model_name": "OutputModel",
          "model_module_version": "1.0.0",
          "state": {
            "_dom_classes": [],
            "_model_module": "@jupyter-widgets/output",
            "_model_module_version": "1.0.0",
            "_model_name": "OutputModel",
            "_view_count": null,
            "_view_module": "@jupyter-widgets/output",
            "_view_module_version": "1.0.0",
            "_view_name": "OutputView",
            "layout": "IPY_MODEL_346768beafb94c1295a46848f26423fc",
            "msg_id": "",
            "outputs": [
              {
                "output_type": "display_data",
                "data": {
                  "text/html": "<html>\n<head><meta charset=\"utf-8\" /></head>\n<body>\n    <div>            <script src=\"https://cdnjs.cloudflare.com/ajax/libs/mathjax/2.7.5/MathJax.js?config=TeX-AMS-MML_SVG\"></script><script type=\"text/javascript\">if (window.MathJax) {MathJax.Hub.Config({SVG: {font: \"STIX-Web\"}});}</script>                <script type=\"text/javascript\">window.PlotlyConfig = {MathJaxConfig: 'local'};</script>\n        <script src=\"https://cdn.plot.ly/plotly-2.8.3.min.js\"></script>                <div id=\"ffb85d06-9ae0-4f4c-ac23-7f0714400016\" class=\"plotly-graph-div\" style=\"height:525px; width:100%;\"></div>            <script type=\"text/javascript\">                                    window.PLOTLYENV=window.PLOTLYENV || {};                                    if (document.getElementById(\"ffb85d06-9ae0-4f4c-ac23-7f0714400016\")) {                    Plotly.newPlot(                        \"ffb85d06-9ae0-4f4c-ac23-7f0714400016\",                        [{\"hovertemplate\":\"A\\u00f1o=%{x}<br>Promedio de saldo en mora=%{y}<extra></extra>\",\"legendgroup\":\"\",\"line\":{\"color\":\"#636efa\",\"dash\":\"solid\"},\"marker\":{\"symbol\":\"circle\"},\"mode\":\"markers+lines\",\"name\":\"\",\"orientation\":\"v\",\"showlegend\":false,\"x\":[\"2017\",\"2018\"],\"xaxis\":\"x\",\"y\":[29217591.311771266,29107660.353081536],\"yaxis\":\"y\",\"type\":\"scatter\"}],                        {\"template\":{\"data\":{\"bar\":[{\"error_x\":{\"color\":\"#2a3f5f\"},\"error_y\":{\"color\":\"#2a3f5f\"},\"marker\":{\"line\":{\"color\":\"#E5ECF6\",\"width\":0.5},\"pattern\":{\"fillmode\":\"overlay\",\"size\":10,\"solidity\":0.2}},\"type\":\"bar\"}],\"barpolar\":[{\"marker\":{\"line\":{\"color\":\"#E5ECF6\",\"width\":0.5},\"pattern\":{\"fillmode\":\"overlay\",\"size\":10,\"solidity\":0.2}},\"type\":\"barpolar\"}],\"carpet\":[{\"aaxis\":{\"endlinecolor\":\"#2a3f5f\",\"gridcolor\":\"white\",\"linecolor\":\"white\",\"minorgridcolor\":\"white\",\"startlinecolor\":\"#2a3f5f\"},\"baxis\":{\"endlinecolor\":\"#2a3f5f\",\"gridcolor\":\"white\",\"linecolor\":\"white\",\"minorgridcolor\":\"white\",\"startlinecolor\":\"#2a3f5f\"},\"type\":\"carpet\"}],\"choropleth\":[{\"colorbar\":{\"outlinewidth\":0,\"ticks\":\"\"},\"type\":\"choropleth\"}],\"contour\":[{\"colorbar\":{\"outlinewidth\":0,\"ticks\":\"\"},\"colorscale\":[[0.0,\"#0d0887\"],[0.1111111111111111,\"#46039f\"],[0.2222222222222222,\"#7201a8\"],[0.3333333333333333,\"#9c179e\"],[0.4444444444444444,\"#bd3786\"],[0.5555555555555556,\"#d8576b\"],[0.6666666666666666,\"#ed7953\"],[0.7777777777777778,\"#fb9f3a\"],[0.8888888888888888,\"#fdca26\"],[1.0,\"#f0f921\"]],\"type\":\"contour\"}],\"contourcarpet\":[{\"colorbar\":{\"outlinewidth\":0,\"ticks\":\"\"},\"type\":\"contourcarpet\"}],\"heatmap\":[{\"colorbar\":{\"outlinewidth\":0,\"ticks\":\"\"},\"colorscale\":[[0.0,\"#0d0887\"],[0.1111111111111111,\"#46039f\"],[0.2222222222222222,\"#7201a8\"],[0.3333333333333333,\"#9c179e\"],[0.4444444444444444,\"#bd3786\"],[0.5555555555555556,\"#d8576b\"],[0.6666666666666666,\"#ed7953\"],[0.7777777777777778,\"#fb9f3a\"],[0.8888888888888888,\"#fdca26\"],[1.0,\"#f0f921\"]],\"type\":\"heatmap\"}],\"heatmapgl\":[{\"colorbar\":{\"outlinewidth\":0,\"ticks\":\"\"},\"colorscale\":[[0.0,\"#0d0887\"],[0.1111111111111111,\"#46039f\"],[0.2222222222222222,\"#7201a8\"],[0.3333333333333333,\"#9c179e\"],[0.4444444444444444,\"#bd3786\"],[0.5555555555555556,\"#d8576b\"],[0.6666666666666666,\"#ed7953\"],[0.7777777777777778,\"#fb9f3a\"],[0.8888888888888888,\"#fdca26\"],[1.0,\"#f0f921\"]],\"type\":\"heatmapgl\"}],\"histogram\":[{\"marker\":{\"pattern\":{\"fillmode\":\"overlay\",\"size\":10,\"solidity\":0.2}},\"type\":\"histogram\"}],\"histogram2d\":[{\"colorbar\":{\"outlinewidth\":0,\"ticks\":\"\"},\"colorscale\":[[0.0,\"#0d0887\"],[0.1111111111111111,\"#46039f\"],[0.2222222222222222,\"#7201a8\"],[0.3333333333333333,\"#9c179e\"],[0.4444444444444444,\"#bd3786\"],[0.5555555555555556,\"#d8576b\"],[0.6666666666666666,\"#ed7953\"],[0.7777777777777778,\"#fb9f3a\"],[0.8888888888888888,\"#fdca26\"],[1.0,\"#f0f921\"]],\"type\":\"histogram2d\"}],\"histogram2dcontour\":[{\"colorbar\":{\"outlinewidth\":0,\"ticks\":\"\"},\"colorscale\":[[0.0,\"#0d0887\"],[0.1111111111111111,\"#46039f\"],[0.2222222222222222,\"#7201a8\"],[0.3333333333333333,\"#9c179e\"],[0.4444444444444444,\"#bd3786\"],[0.5555555555555556,\"#d8576b\"],[0.6666666666666666,\"#ed7953\"],[0.7777777777777778,\"#fb9f3a\"],[0.8888888888888888,\"#fdca26\"],[1.0,\"#f0f921\"]],\"type\":\"histogram2dcontour\"}],\"mesh3d\":[{\"colorbar\":{\"outlinewidth\":0,\"ticks\":\"\"},\"type\":\"mesh3d\"}],\"parcoords\":[{\"line\":{\"colorbar\":{\"outlinewidth\":0,\"ticks\":\"\"}},\"type\":\"parcoords\"}],\"pie\":[{\"automargin\":true,\"type\":\"pie\"}],\"scatter\":[{\"marker\":{\"colorbar\":{\"outlinewidth\":0,\"ticks\":\"\"}},\"type\":\"scatter\"}],\"scatter3d\":[{\"line\":{\"colorbar\":{\"outlinewidth\":0,\"ticks\":\"\"}},\"marker\":{\"colorbar\":{\"outlinewidth\":0,\"ticks\":\"\"}},\"type\":\"scatter3d\"}],\"scattercarpet\":[{\"marker\":{\"colorbar\":{\"outlinewidth\":0,\"ticks\":\"\"}},\"type\":\"scattercarpet\"}],\"scattergeo\":[{\"marker\":{\"colorbar\":{\"outlinewidth\":0,\"ticks\":\"\"}},\"type\":\"scattergeo\"}],\"scattergl\":[{\"marker\":{\"colorbar\":{\"outlinewidth\":0,\"ticks\":\"\"}},\"type\":\"scattergl\"}],\"scattermapbox\":[{\"marker\":{\"colorbar\":{\"outlinewidth\":0,\"ticks\":\"\"}},\"type\":\"scattermapbox\"}],\"scatterpolar\":[{\"marker\":{\"colorbar\":{\"outlinewidth\":0,\"ticks\":\"\"}},\"type\":\"scatterpolar\"}],\"scatterpolargl\":[{\"marker\":{\"colorbar\":{\"outlinewidth\":0,\"ticks\":\"\"}},\"type\":\"scatterpolargl\"}],\"scatterternary\":[{\"marker\":{\"colorbar\":{\"outlinewidth\":0,\"ticks\":\"\"}},\"type\":\"scatterternary\"}],\"surface\":[{\"colorbar\":{\"outlinewidth\":0,\"ticks\":\"\"},\"colorscale\":[[0.0,\"#0d0887\"],[0.1111111111111111,\"#46039f\"],[0.2222222222222222,\"#7201a8\"],[0.3333333333333333,\"#9c179e\"],[0.4444444444444444,\"#bd3786\"],[0.5555555555555556,\"#d8576b\"],[0.6666666666666666,\"#ed7953\"],[0.7777777777777778,\"#fb9f3a\"],[0.8888888888888888,\"#fdca26\"],[1.0,\"#f0f921\"]],\"type\":\"surface\"}],\"table\":[{\"cells\":{\"fill\":{\"color\":\"#EBF0F8\"},\"line\":{\"color\":\"white\"}},\"header\":{\"fill\":{\"color\":\"#C8D4E3\"},\"line\":{\"color\":\"white\"}},\"type\":\"table\"}]},\"layout\":{\"annotationdefaults\":{\"arrowcolor\":\"#2a3f5f\",\"arrowhead\":0,\"arrowwidth\":1},\"autotypenumbers\":\"strict\",\"coloraxis\":{\"colorbar\":{\"outlinewidth\":0,\"ticks\":\"\"}},\"colorscale\":{\"diverging\":[[0,\"#8e0152\"],[0.1,\"#c51b7d\"],[0.2,\"#de77ae\"],[0.3,\"#f1b6da\"],[0.4,\"#fde0ef\"],[0.5,\"#f7f7f7\"],[0.6,\"#e6f5d0\"],[0.7,\"#b8e186\"],[0.8,\"#7fbc41\"],[0.9,\"#4d9221\"],[1,\"#276419\"]],\"sequential\":[[0.0,\"#0d0887\"],[0.1111111111111111,\"#46039f\"],[0.2222222222222222,\"#7201a8\"],[0.3333333333333333,\"#9c179e\"],[0.4444444444444444,\"#bd3786\"],[0.5555555555555556,\"#d8576b\"],[0.6666666666666666,\"#ed7953\"],[0.7777777777777778,\"#fb9f3a\"],[0.8888888888888888,\"#fdca26\"],[1.0,\"#f0f921\"]],\"sequentialminus\":[[0.0,\"#0d0887\"],[0.1111111111111111,\"#46039f\"],[0.2222222222222222,\"#7201a8\"],[0.3333333333333333,\"#9c179e\"],[0.4444444444444444,\"#bd3786\"],[0.5555555555555556,\"#d8576b\"],[0.6666666666666666,\"#ed7953\"],[0.7777777777777778,\"#fb9f3a\"],[0.8888888888888888,\"#fdca26\"],[1.0,\"#f0f921\"]]},\"colorway\":[\"#636efa\",\"#EF553B\",\"#00cc96\",\"#ab63fa\",\"#FFA15A\",\"#19d3f3\",\"#FF6692\",\"#B6E880\",\"#FF97FF\",\"#FECB52\"],\"font\":{\"color\":\"#2a3f5f\"},\"geo\":{\"bgcolor\":\"white\",\"lakecolor\":\"white\",\"landcolor\":\"#E5ECF6\",\"showlakes\":true,\"showland\":true,\"subunitcolor\":\"white\"},\"hoverlabel\":{\"align\":\"left\"},\"hovermode\":\"closest\",\"mapbox\":{\"style\":\"light\"},\"paper_bgcolor\":\"white\",\"plot_bgcolor\":\"#E5ECF6\",\"polar\":{\"angularaxis\":{\"gridcolor\":\"white\",\"linecolor\":\"white\",\"ticks\":\"\"},\"bgcolor\":\"#E5ECF6\",\"radialaxis\":{\"gridcolor\":\"white\",\"linecolor\":\"white\",\"ticks\":\"\"}},\"scene\":{\"xaxis\":{\"backgroundcolor\":\"#E5ECF6\",\"gridcolor\":\"white\",\"gridwidth\":2,\"linecolor\":\"white\",\"showbackground\":true,\"ticks\":\"\",\"zerolinecolor\":\"white\"},\"yaxis\":{\"backgroundcolor\":\"#E5ECF6\",\"gridcolor\":\"white\",\"gridwidth\":2,\"linecolor\":\"white\",\"showbackground\":true,\"ticks\":\"\",\"zerolinecolor\":\"white\"},\"zaxis\":{\"backgroundcolor\":\"#E5ECF6\",\"gridcolor\":\"white\",\"gridwidth\":2,\"linecolor\":\"white\",\"showbackground\":true,\"ticks\":\"\",\"zerolinecolor\":\"white\"}},\"shapedefaults\":{\"line\":{\"color\":\"#2a3f5f\"}},\"ternary\":{\"aaxis\":{\"gridcolor\":\"white\",\"linecolor\":\"white\",\"ticks\":\"\"},\"baxis\":{\"gridcolor\":\"white\",\"linecolor\":\"white\",\"ticks\":\"\"},\"bgcolor\":\"#E5ECF6\",\"caxis\":{\"gridcolor\":\"white\",\"linecolor\":\"white\",\"ticks\":\"\"}},\"title\":{\"x\":0.05},\"xaxis\":{\"automargin\":true,\"gridcolor\":\"white\",\"linecolor\":\"white\",\"ticks\":\"\",\"title\":{\"standoff\":15},\"zerolinecolor\":\"white\",\"zerolinewidth\":2},\"yaxis\":{\"automargin\":true,\"gridcolor\":\"white\",\"linecolor\":\"white\",\"ticks\":\"\",\"title\":{\"standoff\":15},\"zerolinecolor\":\"white\",\"zerolinewidth\":2}}},\"xaxis\":{\"anchor\":\"y\",\"domain\":[0.0,1.0],\"title\":{\"text\":\"A\\u00f1o\"}},\"yaxis\":{\"anchor\":\"x\",\"domain\":[0.0,1.0],\"title\":{\"text\":\"Promedio de saldo en mora\"}},\"legend\":{\"tracegroupgap\":0},\"title\":{\"text\":\"Promedio de saldo en mora de los clientes a traves del tiempo\"}},                        {\"responsive\": true}                    ).then(function(){\n                            \nvar gd = document.getElementById('ffb85d06-9ae0-4f4c-ac23-7f0714400016');\nvar x = new MutationObserver(function (mutations, observer) {{\n        var display = window.getComputedStyle(gd).display;\n        if (!display || display === 'none') {{\n            console.log([gd, 'removed!']);\n            Plotly.purge(gd);\n            observer.disconnect();\n        }}\n}});\n\n// Listen for the removal of the full notebook cells\nvar notebookContainer = gd.closest('#notebook-container');\nif (notebookContainer) {{\n    x.observe(notebookContainer, {childList: true});\n}}\n\n// Listen for the clearing of the current output cell\nvar outputEl = gd.closest('.output');\nif (outputEl) {{\n    x.observe(outputEl, {childList: true});\n}}\n\n                        })                };                            </script>        </div>\n</body>\n</html>"
                },
                "metadata": {}
              }
            ]
          }
        },
        "cf80d56205d54f64bb6204c752aaa34c": {
          "model_module": "@jupyter-widgets/base",
          "model_name": "LayoutModel",
          "model_module_version": "1.2.0",
          "state": {
            "_model_module": "@jupyter-widgets/base",
            "_model_module_version": "1.2.0",
            "_model_name": "LayoutModel",
            "_view_count": null,
            "_view_module": "@jupyter-widgets/base",
            "_view_module_version": "1.2.0",
            "_view_name": "LayoutView",
            "align_content": null,
            "align_items": null,
            "align_self": null,
            "border": null,
            "bottom": null,
            "display": null,
            "flex": null,
            "flex_flow": null,
            "grid_area": null,
            "grid_auto_columns": null,
            "grid_auto_flow": null,
            "grid_auto_rows": null,
            "grid_column": null,
            "grid_gap": null,
            "grid_row": null,
            "grid_template_areas": null,
            "grid_template_columns": null,
            "grid_template_rows": null,
            "height": null,
            "justify_content": null,
            "justify_items": null,
            "left": null,
            "margin": null,
            "max_height": null,
            "max_width": null,
            "min_height": null,
            "min_width": null,
            "object_fit": null,
            "object_position": null,
            "order": null,
            "overflow": null,
            "overflow_x": null,
            "overflow_y": null,
            "padding": null,
            "right": null,
            "top": null,
            "visibility": null,
            "width": null
          }
        },
        "915c73b747da409bb81a88dee71c7138": {
          "model_module": "@jupyter-widgets/base",
          "model_name": "LayoutModel",
          "model_module_version": "1.2.0",
          "state": {
            "_model_module": "@jupyter-widgets/base",
            "_model_module_version": "1.2.0",
            "_model_name": "LayoutModel",
            "_view_count": null,
            "_view_module": "@jupyter-widgets/base",
            "_view_module_version": "1.2.0",
            "_view_name": "LayoutView",
            "align_content": null,
            "align_items": null,
            "align_self": null,
            "border": null,
            "bottom": null,
            "display": null,
            "flex": null,
            "flex_flow": null,
            "grid_area": null,
            "grid_auto_columns": null,
            "grid_auto_flow": null,
            "grid_auto_rows": null,
            "grid_column": null,
            "grid_gap": null,
            "grid_row": null,
            "grid_template_areas": null,
            "grid_template_columns": null,
            "grid_template_rows": null,
            "height": null,
            "justify_content": null,
            "justify_items": null,
            "left": null,
            "margin": null,
            "max_height": null,
            "max_width": null,
            "min_height": null,
            "min_width": null,
            "object_fit": null,
            "object_position": null,
            "order": null,
            "overflow": null,
            "overflow_x": null,
            "overflow_y": null,
            "padding": null,
            "right": null,
            "top": null,
            "visibility": null,
            "width": null
          }
        },
        "c07226bdef1c49a996580f98b421f805": {
          "model_module": "@jupyter-widgets/controls",
          "model_name": "DescriptionStyleModel",
          "model_module_version": "1.5.0",
          "state": {
            "_model_module": "@jupyter-widgets/controls",
            "_model_module_version": "1.5.0",
            "_model_name": "DescriptionStyleModel",
            "_view_count": null,
            "_view_module": "@jupyter-widgets/base",
            "_view_module_version": "1.2.0",
            "_view_name": "StyleView",
            "description_width": ""
          }
        },
        "346768beafb94c1295a46848f26423fc": {
          "model_module": "@jupyter-widgets/base",
          "model_name": "LayoutModel",
          "model_module_version": "1.2.0",
          "state": {
            "_model_module": "@jupyter-widgets/base",
            "_model_module_version": "1.2.0",
            "_model_name": "LayoutModel",
            "_view_count": null,
            "_view_module": "@jupyter-widgets/base",
            "_view_module_version": "1.2.0",
            "_view_name": "LayoutView",
            "align_content": null,
            "align_items": null,
            "align_self": null,
            "border": null,
            "bottom": null,
            "display": null,
            "flex": null,
            "flex_flow": null,
            "grid_area": null,
            "grid_auto_columns": null,
            "grid_auto_flow": null,
            "grid_auto_rows": null,
            "grid_column": null,
            "grid_gap": null,
            "grid_row": null,
            "grid_template_areas": null,
            "grid_template_columns": null,
            "grid_template_rows": null,
            "height": null,
            "justify_content": null,
            "justify_items": null,
            "left": null,
            "margin": null,
            "max_height": null,
            "max_width": null,
            "min_height": null,
            "min_width": null,
            "object_fit": null,
            "object_position": null,
            "order": null,
            "overflow": null,
            "overflow_x": null,
            "overflow_y": null,
            "padding": null,
            "right": null,
            "top": null,
            "visibility": null,
            "width": null
          }
        }
      }
    }
  },
  "cells": [
    {
      "cell_type": "markdown",
      "metadata": {
        "id": "view-in-github",
        "colab_type": "text"
      },
      "source": [
        "<a href=\"https://colab.research.google.com/github/santiago20054/Coursera_Capstone/blob/master/ExperianAdmissionTest.ipynb\" target=\"_parent\"><img src=\"https://colab.research.google.com/assets/colab-badge.svg\" alt=\"Open In Colab\"/></a>"
      ]
    },
    {
      "cell_type": "markdown",
      "source": [
        "# Librerías"
      ],
      "metadata": {
        "id": "X216kmRHuRE_"
      }
    },
    {
      "cell_type": "code",
      "execution_count": 71,
      "metadata": {
        "id": "Cl8GWst4p3uO"
      },
      "outputs": [],
      "source": [
        "import pandas as pd\n",
        "import re\n",
        "import matplotlib.pyplot as plt\n",
        "import seaborn as sns\n",
        "import plotly.express as px\n",
        "import ipywidgets as widgets\n",
        "import collections\n",
        "from ipywidgets import interact, interactive, fixed, interact_manual\n",
        "import numpy as np\n",
        "from datetime import datetime\n",
        "\n",
        "from sklearn.model_selection import GridSearchCV\n",
        "from sklearn.linear_model import LogisticRegression\n",
        "from sklearn.model_selection import train_test_split\n",
        "from sklearn.metrics import accuracy_score, classification_report, roc_auc_score, roc_curve, precision_recall_curve, confusion_matrix\n",
        "from sklearn.metrics import f1_score, precision_score, recall_score, fbeta_score\n",
        "from sklearn.preprocessing import StandardScaler\n",
        "\n",
        "\n",
        "import warnings\n",
        "warnings.filterwarnings(\"ignore\")"
      ]
    },
    {
      "cell_type": "markdown",
      "source": [
        "#Análisis descriptivo"
      ],
      "metadata": {
        "id": "65G7X-5puVgH"
      }
    },
    {
      "cell_type": "markdown",
      "source": [
        "Empezamos por leer la base de datos. Para esto la importamos a pandas para convertirla en un objeto dataframe."
      ],
      "metadata": {
        "id": "W-9x9C6fuaOe"
      }
    },
    {
      "cell_type": "code",
      "source": [
        "df = pd.read_csv('Anonimizada_BasePruebaIngreso.csv')\n",
        "df_original=df.copy()"
      ],
      "metadata": {
        "id": "6qhEbj73rOmi"
      },
      "execution_count": 2,
      "outputs": []
    },
    {
      "cell_type": "markdown",
      "source": [
        "Observamos las primeras 5 filas del dataframe"
      ],
      "metadata": {
        "id": "cZoku8Qlug6f"
      }
    },
    {
      "cell_type": "code",
      "source": [
        "df.head()"
      ],
      "metadata": {
        "colab": {
          "base_uri": "https://localhost:8080/",
          "height": 299
        },
        "id": "4ILC0tMjrcZx",
        "outputId": "6b37c038-693b-4d9e-dd2b-205d299b27e9"
      },
      "execution_count": 3,
      "outputs": [
        {
          "output_type": "execute_result",
          "data": {
            "text/plain": [
              "   Identificador  periodo  DIAS1  DIAS2  DIAS3  DIAS4  DIAS5  DIAS6  DIAS0  \\\n",
              "0    92966525716   201709    7.0    6.0    0.0    0.0    0.0    4.0      5   \n",
              "1    92967390638   201709    0.0    0.0    0.0    0.0    0.0    0.0      0   \n",
              "2    92967489284   201712    0.0    0.0    0.0    0.0    0.0    0.0      0   \n",
              "3    92966459151   201809    0.0    0.0    0.0    0.0    0.0    NaN      0   \n",
              "4    92966529824   201712    0.0    0.0    0.0    0.0    0.0    5.0      4   \n",
              "\n",
              "   Numero_Producto  ...       Saldo1 Saldo_Mora3       Saldo2 Saldo_Mora4  \\\n",
              "0                1  ...          NaN         NaN          NaN         NaN   \n",
              "1                1  ...  14493557,79   294570,52  14383360,76   294569,96   \n",
              "2                1  ...          NaN           0            0       12262   \n",
              "3                2  ...   9738321.38       32433        32433       32433   \n",
              "4                1  ...          NaN         NaN          NaN         NaN   \n",
              "\n",
              "        Saldo3 Saldo_Mora5       Saldo4 Saldo_Mora6       Saldo5       Saldo6  \n",
              "0          NaN         NaN          NaN         NaN          NaN          NaN  \n",
              "1  14271872,86   294569,05  14159078,99   294567,62  14044963,84  13929511,94  \n",
              "2      3524442       49553    3516034,8       41122   2989794,73   2830734,73  \n",
              "3        32433       32433        32433       32433        32433            0  \n",
              "4          NaN         NaN          NaN         NaN          NaN          NaN  \n",
              "\n",
              "[5 rows x 24 columns]"
            ],
            "text/html": [
              "\n",
              "  <div id=\"df-126758b7-d2cc-4ac8-a82d-91294cc34ac5\">\n",
              "    <div class=\"colab-df-container\">\n",
              "      <div>\n",
              "<style scoped>\n",
              "    .dataframe tbody tr th:only-of-type {\n",
              "        vertical-align: middle;\n",
              "    }\n",
              "\n",
              "    .dataframe tbody tr th {\n",
              "        vertical-align: top;\n",
              "    }\n",
              "\n",
              "    .dataframe thead th {\n",
              "        text-align: right;\n",
              "    }\n",
              "</style>\n",
              "<table border=\"1\" class=\"dataframe\">\n",
              "  <thead>\n",
              "    <tr style=\"text-align: right;\">\n",
              "      <th></th>\n",
              "      <th>Identificador</th>\n",
              "      <th>periodo</th>\n",
              "      <th>DIAS1</th>\n",
              "      <th>DIAS2</th>\n",
              "      <th>DIAS3</th>\n",
              "      <th>DIAS4</th>\n",
              "      <th>DIAS5</th>\n",
              "      <th>DIAS6</th>\n",
              "      <th>DIAS0</th>\n",
              "      <th>Numero_Producto</th>\n",
              "      <th>...</th>\n",
              "      <th>Saldo1</th>\n",
              "      <th>Saldo_Mora3</th>\n",
              "      <th>Saldo2</th>\n",
              "      <th>Saldo_Mora4</th>\n",
              "      <th>Saldo3</th>\n",
              "      <th>Saldo_Mora5</th>\n",
              "      <th>Saldo4</th>\n",
              "      <th>Saldo_Mora6</th>\n",
              "      <th>Saldo5</th>\n",
              "      <th>Saldo6</th>\n",
              "    </tr>\n",
              "  </thead>\n",
              "  <tbody>\n",
              "    <tr>\n",
              "      <th>0</th>\n",
              "      <td>92966525716</td>\n",
              "      <td>201709</td>\n",
              "      <td>7.0</td>\n",
              "      <td>6.0</td>\n",
              "      <td>0.0</td>\n",
              "      <td>0.0</td>\n",
              "      <td>0.0</td>\n",
              "      <td>4.0</td>\n",
              "      <td>5</td>\n",
              "      <td>1</td>\n",
              "      <td>...</td>\n",
              "      <td>NaN</td>\n",
              "      <td>NaN</td>\n",
              "      <td>NaN</td>\n",
              "      <td>NaN</td>\n",
              "      <td>NaN</td>\n",
              "      <td>NaN</td>\n",
              "      <td>NaN</td>\n",
              "      <td>NaN</td>\n",
              "      <td>NaN</td>\n",
              "      <td>NaN</td>\n",
              "    </tr>\n",
              "    <tr>\n",
              "      <th>1</th>\n",
              "      <td>92967390638</td>\n",
              "      <td>201709</td>\n",
              "      <td>0.0</td>\n",
              "      <td>0.0</td>\n",
              "      <td>0.0</td>\n",
              "      <td>0.0</td>\n",
              "      <td>0.0</td>\n",
              "      <td>0.0</td>\n",
              "      <td>0</td>\n",
              "      <td>1</td>\n",
              "      <td>...</td>\n",
              "      <td>14493557,79</td>\n",
              "      <td>294570,52</td>\n",
              "      <td>14383360,76</td>\n",
              "      <td>294569,96</td>\n",
              "      <td>14271872,86</td>\n",
              "      <td>294569,05</td>\n",
              "      <td>14159078,99</td>\n",
              "      <td>294567,62</td>\n",
              "      <td>14044963,84</td>\n",
              "      <td>13929511,94</td>\n",
              "    </tr>\n",
              "    <tr>\n",
              "      <th>2</th>\n",
              "      <td>92967489284</td>\n",
              "      <td>201712</td>\n",
              "      <td>0.0</td>\n",
              "      <td>0.0</td>\n",
              "      <td>0.0</td>\n",
              "      <td>0.0</td>\n",
              "      <td>0.0</td>\n",
              "      <td>0.0</td>\n",
              "      <td>0</td>\n",
              "      <td>1</td>\n",
              "      <td>...</td>\n",
              "      <td>NaN</td>\n",
              "      <td>0</td>\n",
              "      <td>0</td>\n",
              "      <td>12262</td>\n",
              "      <td>3524442</td>\n",
              "      <td>49553</td>\n",
              "      <td>3516034,8</td>\n",
              "      <td>41122</td>\n",
              "      <td>2989794,73</td>\n",
              "      <td>2830734,73</td>\n",
              "    </tr>\n",
              "    <tr>\n",
              "      <th>3</th>\n",
              "      <td>92966459151</td>\n",
              "      <td>201809</td>\n",
              "      <td>0.0</td>\n",
              "      <td>0.0</td>\n",
              "      <td>0.0</td>\n",
              "      <td>0.0</td>\n",
              "      <td>0.0</td>\n",
              "      <td>NaN</td>\n",
              "      <td>0</td>\n",
              "      <td>2</td>\n",
              "      <td>...</td>\n",
              "      <td>9738321.38</td>\n",
              "      <td>32433</td>\n",
              "      <td>32433</td>\n",
              "      <td>32433</td>\n",
              "      <td>32433</td>\n",
              "      <td>32433</td>\n",
              "      <td>32433</td>\n",
              "      <td>32433</td>\n",
              "      <td>32433</td>\n",
              "      <td>0</td>\n",
              "    </tr>\n",
              "    <tr>\n",
              "      <th>4</th>\n",
              "      <td>92966529824</td>\n",
              "      <td>201712</td>\n",
              "      <td>0.0</td>\n",
              "      <td>0.0</td>\n",
              "      <td>0.0</td>\n",
              "      <td>0.0</td>\n",
              "      <td>0.0</td>\n",
              "      <td>5.0</td>\n",
              "      <td>4</td>\n",
              "      <td>1</td>\n",
              "      <td>...</td>\n",
              "      <td>NaN</td>\n",
              "      <td>NaN</td>\n",
              "      <td>NaN</td>\n",
              "      <td>NaN</td>\n",
              "      <td>NaN</td>\n",
              "      <td>NaN</td>\n",
              "      <td>NaN</td>\n",
              "      <td>NaN</td>\n",
              "      <td>NaN</td>\n",
              "      <td>NaN</td>\n",
              "    </tr>\n",
              "  </tbody>\n",
              "</table>\n",
              "<p>5 rows × 24 columns</p>\n",
              "</div>\n",
              "      <button class=\"colab-df-convert\" onclick=\"convertToInteractive('df-126758b7-d2cc-4ac8-a82d-91294cc34ac5')\"\n",
              "              title=\"Convert this dataframe to an interactive table.\"\n",
              "              style=\"display:none;\">\n",
              "        \n",
              "  <svg xmlns=\"http://www.w3.org/2000/svg\" height=\"24px\"viewBox=\"0 0 24 24\"\n",
              "       width=\"24px\">\n",
              "    <path d=\"M0 0h24v24H0V0z\" fill=\"none\"/>\n",
              "    <path d=\"M18.56 5.44l.94 2.06.94-2.06 2.06-.94-2.06-.94-.94-2.06-.94 2.06-2.06.94zm-11 1L8.5 8.5l.94-2.06 2.06-.94-2.06-.94L8.5 2.5l-.94 2.06-2.06.94zm10 10l.94 2.06.94-2.06 2.06-.94-2.06-.94-.94-2.06-.94 2.06-2.06.94z\"/><path d=\"M17.41 7.96l-1.37-1.37c-.4-.4-.92-.59-1.43-.59-.52 0-1.04.2-1.43.59L10.3 9.45l-7.72 7.72c-.78.78-.78 2.05 0 2.83L4 21.41c.39.39.9.59 1.41.59.51 0 1.02-.2 1.41-.59l7.78-7.78 2.81-2.81c.8-.78.8-2.07 0-2.86zM5.41 20L4 18.59l7.72-7.72 1.47 1.35L5.41 20z\"/>\n",
              "  </svg>\n",
              "      </button>\n",
              "      \n",
              "  <style>\n",
              "    .colab-df-container {\n",
              "      display:flex;\n",
              "      flex-wrap:wrap;\n",
              "      gap: 12px;\n",
              "    }\n",
              "\n",
              "    .colab-df-convert {\n",
              "      background-color: #E8F0FE;\n",
              "      border: none;\n",
              "      border-radius: 50%;\n",
              "      cursor: pointer;\n",
              "      display: none;\n",
              "      fill: #1967D2;\n",
              "      height: 32px;\n",
              "      padding: 0 0 0 0;\n",
              "      width: 32px;\n",
              "    }\n",
              "\n",
              "    .colab-df-convert:hover {\n",
              "      background-color: #E2EBFA;\n",
              "      box-shadow: 0px 1px 2px rgba(60, 64, 67, 0.3), 0px 1px 3px 1px rgba(60, 64, 67, 0.15);\n",
              "      fill: #174EA6;\n",
              "    }\n",
              "\n",
              "    [theme=dark] .colab-df-convert {\n",
              "      background-color: #3B4455;\n",
              "      fill: #D2E3FC;\n",
              "    }\n",
              "\n",
              "    [theme=dark] .colab-df-convert:hover {\n",
              "      background-color: #434B5C;\n",
              "      box-shadow: 0px 1px 3px 1px rgba(0, 0, 0, 0.15);\n",
              "      filter: drop-shadow(0px 1px 2px rgba(0, 0, 0, 0.3));\n",
              "      fill: #FFFFFF;\n",
              "    }\n",
              "  </style>\n",
              "\n",
              "      <script>\n",
              "        const buttonEl =\n",
              "          document.querySelector('#df-126758b7-d2cc-4ac8-a82d-91294cc34ac5 button.colab-df-convert');\n",
              "        buttonEl.style.display =\n",
              "          google.colab.kernel.accessAllowed ? 'block' : 'none';\n",
              "\n",
              "        async function convertToInteractive(key) {\n",
              "          const element = document.querySelector('#df-126758b7-d2cc-4ac8-a82d-91294cc34ac5');\n",
              "          const dataTable =\n",
              "            await google.colab.kernel.invokeFunction('convertToInteractive',\n",
              "                                                     [key], {});\n",
              "          if (!dataTable) return;\n",
              "\n",
              "          const docLinkHtml = 'Like what you see? Visit the ' +\n",
              "            '<a target=\"_blank\" href=https://colab.research.google.com/notebooks/data_table.ipynb>data table notebook</a>'\n",
              "            + ' to learn more about interactive tables.';\n",
              "          element.innerHTML = '';\n",
              "          dataTable['output_type'] = 'display_data';\n",
              "          await google.colab.output.renderOutput(dataTable, element);\n",
              "          const docLink = document.createElement('div');\n",
              "          docLink.innerHTML = docLinkHtml;\n",
              "          element.appendChild(docLink);\n",
              "        }\n",
              "      </script>\n",
              "    </div>\n",
              "  </div>\n",
              "  "
            ]
          },
          "metadata": {},
          "execution_count": 3
        }
      ]
    },
    {
      "cell_type": "markdown",
      "source": [
        "Observamos algunas características de las columnas de la base"
      ],
      "metadata": {
        "id": "SMgIAzGLusKu"
      }
    },
    {
      "cell_type": "code",
      "source": [
        "df.info()\n",
        "print(df.shape)"
      ],
      "metadata": {
        "colab": {
          "base_uri": "https://localhost:8080/"
        },
        "id": "MxFJ0DWJtXI7",
        "outputId": "adb0e3a5-b490-4004-9fa4-20ed395c4d27"
      },
      "execution_count": 4,
      "outputs": [
        {
          "output_type": "stream",
          "name": "stdout",
          "text": [
            "<class 'pandas.core.frame.DataFrame'>\n",
            "RangeIndex: 30000 entries, 0 to 29999\n",
            "Data columns (total 24 columns):\n",
            " #   Column           Non-Null Count  Dtype  \n",
            "---  ------           --------------  -----  \n",
            " 0   Identificador    30000 non-null  int64  \n",
            " 1   periodo          30000 non-null  int64  \n",
            " 2   DIAS1            29213 non-null  float64\n",
            " 3   DIAS2            28616 non-null  float64\n",
            " 4   DIAS3            28070 non-null  float64\n",
            " 5   DIAS4            27369 non-null  float64\n",
            " 6   DIAS5            26792 non-null  float64\n",
            " 7   DIAS6            22642 non-null  float64\n",
            " 8   DIAS0            30000 non-null  int64  \n",
            " 9   Numero_Producto  30000 non-null  int64  \n",
            " 10  GENERO           23819 non-null  object \n",
            " 11  Saldo_Mora1      21592 non-null  object \n",
            " 12  Cupo             21592 non-null  object \n",
            " 13  Saldo_Mora2      22213 non-null  object \n",
            " 14  Saldo1           22213 non-null  object \n",
            " 15  Saldo_Mora3      22877 non-null  object \n",
            " 16  Saldo2           22877 non-null  object \n",
            " 17  Saldo_Mora4      23543 non-null  object \n",
            " 18  Saldo3           23543 non-null  object \n",
            " 19  Saldo_Mora5      24157 non-null  object \n",
            " 20  Saldo4           24157 non-null  object \n",
            " 21  Saldo_Mora6      24889 non-null  object \n",
            " 22  Saldo5           24889 non-null  object \n",
            " 23  Saldo6           25604 non-null  object \n",
            "dtypes: float64(6), int64(4), object(14)\n",
            "memory usage: 5.5+ MB\n",
            "(30000, 24)\n"
          ]
        }
      ]
    },
    {
      "cell_type": "markdown",
      "source": [
        "Como podemos observar algunas columnas que deberían ser númericas están marcadas como objetos. Además de eso, tenemos varios datos nulos o vacíos. "
      ],
      "metadata": {
        "id": "bMvvSxs0uwjt"
      }
    },
    {
      "cell_type": "code",
      "source": [
        "df.isna().any()"
      ],
      "metadata": {
        "colab": {
          "base_uri": "https://localhost:8080/"
        },
        "id": "c4t3YGyetrHT",
        "outputId": "22cd9812-3e6c-4951-913d-2bbb63e19004"
      },
      "execution_count": 5,
      "outputs": [
        {
          "output_type": "execute_result",
          "data": {
            "text/plain": [
              "Identificador      False\n",
              "periodo            False\n",
              "DIAS1               True\n",
              "DIAS2               True\n",
              "DIAS3               True\n",
              "DIAS4               True\n",
              "DIAS5               True\n",
              "DIAS6               True\n",
              "DIAS0              False\n",
              "Numero_Producto    False\n",
              "GENERO              True\n",
              "Saldo_Mora1         True\n",
              "Cupo                True\n",
              "Saldo_Mora2         True\n",
              "Saldo1              True\n",
              "Saldo_Mora3         True\n",
              "Saldo2              True\n",
              "Saldo_Mora4         True\n",
              "Saldo3              True\n",
              "Saldo_Mora5         True\n",
              "Saldo4              True\n",
              "Saldo_Mora6         True\n",
              "Saldo5              True\n",
              "Saldo6              True\n",
              "dtype: bool"
            ]
          },
          "metadata": {},
          "execution_count": 5
        }
      ]
    },
    {
      "cell_type": "markdown",
      "source": [
        "## Limpieza de datos"
      ],
      "metadata": {
        "id": "YVMUmLvAvCOg"
      }
    },
    {
      "cell_type": "markdown",
      "source": [
        "Procedemos a limpiar la base de datos. Para esto, eliminarémos los datos vacíos o nulos"
      ],
      "metadata": {
        "id": "LmHRIelFu7nW"
      }
    },
    {
      "cell_type": "code",
      "source": [
        "for i in range(0, df.shape[1]):\n",
        "  df.dropna(axis=0, how='all', subset=[df.iloc[:,i].name], inplace=True)"
      ],
      "metadata": {
        "id": "Oa3MuCavvaX3"
      },
      "execution_count": 6,
      "outputs": []
    },
    {
      "cell_type": "markdown",
      "source": [
        "Verificamos si tenemos algún dato nulo en el data frame"
      ],
      "metadata": {
        "id": "jIru-jmbvlxV"
      }
    },
    {
      "cell_type": "code",
      "source": [
        "df.isnull().sum()"
      ],
      "metadata": {
        "colab": {
          "base_uri": "https://localhost:8080/"
        },
        "id": "mLOSo4B9vi1T",
        "outputId": "9c616be9-5e20-4dee-900a-cb44543d2fa5"
      },
      "execution_count": 7,
      "outputs": [
        {
          "output_type": "execute_result",
          "data": {
            "text/plain": [
              "Identificador      0\n",
              "periodo            0\n",
              "DIAS1              0\n",
              "DIAS2              0\n",
              "DIAS3              0\n",
              "DIAS4              0\n",
              "DIAS5              0\n",
              "DIAS6              0\n",
              "DIAS0              0\n",
              "Numero_Producto    0\n",
              "GENERO             0\n",
              "Saldo_Mora1        0\n",
              "Cupo               0\n",
              "Saldo_Mora2        0\n",
              "Saldo1             0\n",
              "Saldo_Mora3        0\n",
              "Saldo2             0\n",
              "Saldo_Mora4        0\n",
              "Saldo3             0\n",
              "Saldo_Mora5        0\n",
              "Saldo4             0\n",
              "Saldo_Mora6        0\n",
              "Saldo5             0\n",
              "Saldo6             0\n",
              "dtype: int64"
            ]
          },
          "metadata": {},
          "execution_count": 7
        }
      ]
    },
    {
      "cell_type": "code",
      "source": [
        "df.shape"
      ],
      "metadata": {
        "colab": {
          "base_uri": "https://localhost:8080/"
        },
        "id": "hYH792ywvkp1",
        "outputId": "259b6386-f5b9-4e6f-8451-34853bbc6457"
      },
      "execution_count": 8,
      "outputs": [
        {
          "output_type": "execute_result",
          "data": {
            "text/plain": [
              "(13227, 24)"
            ]
          },
          "metadata": {},
          "execution_count": 8
        }
      ]
    },
    {
      "cell_type": "markdown",
      "source": [
        "Los registros pasaron de 30000 a 13227 eliminando filas con valores vacíos.\n",
        "Vamos ahora a eliminar valores duplicados por ID."
      ],
      "metadata": {
        "id": "KqgkwpQ2wFD3"
      }
    },
    {
      "cell_type": "code",
      "source": [
        "df=df.drop_duplicates(['Identificador'], keep='last')\n",
        "df=df.reset_index()\n",
        "df=df.drop(columns=['index'])\n",
        "print(df.shape)"
      ],
      "metadata": {
        "colab": {
          "base_uri": "https://localhost:8080/"
        },
        "id": "bwjGoO9qvqUN",
        "outputId": "c7d3d682-7218-49d0-c528-5c2401f3a5eb"
      },
      "execution_count": 9,
      "outputs": [
        {
          "output_type": "stream",
          "name": "stdout",
          "text": [
            "(10034, 24)\n"
          ]
        }
      ]
    },
    {
      "cell_type": "markdown",
      "source": [
        "Ahora, removiendo los duplicados, pasamos a tener 10034 registros.\n",
        "Continuamos a convertir las variables mal clasificadas en enteras y float."
      ],
      "metadata": {
        "id": "pKDveKF7yNCK"
      }
    },
    {
      "cell_type": "code",
      "source": [
        "def string_to_float(string): \n",
        "  return float(re.sub(r'[^\\w\\s]','',string))\n",
        "for i in range(11, 24):\n",
        "  df.iloc[:,i]=df.iloc[:, i].apply(string_to_float)\n",
        "for i in range(2, 8):\n",
        "  df.iloc[:,i]=df.iloc[:, i].astype(int)"
      ],
      "metadata": {
        "id": "-AVVoNAGyzM2"
      },
      "execution_count": 10,
      "outputs": []
    },
    {
      "cell_type": "code",
      "source": [
        "df.info()"
      ],
      "metadata": {
        "colab": {
          "base_uri": "https://localhost:8080/"
        },
        "id": "O7lQLB8J8rZb",
        "outputId": "f96aba00-d3d1-4540-f64e-a36dbec9cda2"
      },
      "execution_count": 11,
      "outputs": [
        {
          "output_type": "stream",
          "name": "stdout",
          "text": [
            "<class 'pandas.core.frame.DataFrame'>\n",
            "RangeIndex: 10034 entries, 0 to 10033\n",
            "Data columns (total 24 columns):\n",
            " #   Column           Non-Null Count  Dtype  \n",
            "---  ------           --------------  -----  \n",
            " 0   Identificador    10034 non-null  int64  \n",
            " 1   periodo          10034 non-null  int64  \n",
            " 2   DIAS1            10034 non-null  int64  \n",
            " 3   DIAS2            10034 non-null  int64  \n",
            " 4   DIAS3            10034 non-null  int64  \n",
            " 5   DIAS4            10034 non-null  int64  \n",
            " 6   DIAS5            10034 non-null  int64  \n",
            " 7   DIAS6            10034 non-null  int64  \n",
            " 8   DIAS0            10034 non-null  int64  \n",
            " 9   Numero_Producto  10034 non-null  int64  \n",
            " 10  GENERO           10034 non-null  object \n",
            " 11  Saldo_Mora1      10034 non-null  float64\n",
            " 12  Cupo             10034 non-null  float64\n",
            " 13  Saldo_Mora2      10034 non-null  float64\n",
            " 14  Saldo1           10034 non-null  float64\n",
            " 15  Saldo_Mora3      10034 non-null  float64\n",
            " 16  Saldo2           10034 non-null  float64\n",
            " 17  Saldo_Mora4      10034 non-null  float64\n",
            " 18  Saldo3           10034 non-null  float64\n",
            " 19  Saldo_Mora5      10034 non-null  float64\n",
            " 20  Saldo4           10034 non-null  float64\n",
            " 21  Saldo_Mora6      10034 non-null  float64\n",
            " 22  Saldo5           10034 non-null  float64\n",
            " 23  Saldo6           10034 non-null  float64\n",
            "dtypes: float64(13), int64(10), object(1)\n",
            "memory usage: 1.8+ MB\n"
          ]
        }
      ]
    },
    {
      "cell_type": "markdown",
      "source": [
        "Ahora, ordenamos las columnas de la forma en cómo se presentan en la descripción. "
      ],
      "metadata": {
        "id": "-VnF56tO_MkK"
      }
    },
    {
      "cell_type": "code",
      "source": [
        "df = df.reindex(columns=['Identificador','periodo','DIAS0','DIAS1','DIAS2','DIAS3', 'DIAS4', 'DIAS5', 'DIAS6',\n",
        "                         'Numero_Producto', 'GENERO', 'Saldo_Mora1', 'Saldo_Mora2', 'Saldo_Mora3', 'Saldo_Mora4',\n",
        "                         'Saldo_Mora5', 'Saldo_Mora6', 'Cupo', 'Saldo1', 'Saldo2', 'Saldo3', 'Saldo4', 'Saldo5', 'Saldo6'])"
      ],
      "metadata": {
        "id": "ZXdgGWy88zPM"
      },
      "execution_count": 12,
      "outputs": []
    },
    {
      "cell_type": "markdown",
      "source": [
        "Pasemos a mirar algunas características descriptivas de nuestros datos."
      ],
      "metadata": {
        "id": "e5kOKnMg_mUo"
      }
    },
    {
      "cell_type": "code",
      "source": [
        "df.iloc[:,2:].describe()"
      ],
      "metadata": {
        "colab": {
          "base_uri": "https://localhost:8080/",
          "height": 394
        },
        "id": "GyyJZyvV_Ep6",
        "outputId": "e30cec41-5161-4a61-9653-495e961d9129"
      },
      "execution_count": 13,
      "outputs": [
        {
          "output_type": "execute_result",
          "data": {
            "text/plain": [
              "              DIAS0         DIAS1         DIAS2         DIAS3         DIAS4  \\\n",
              "count  10034.000000  10034.000000  10034.000000  10034.000000  10034.000000   \n",
              "mean      10.614212     11.162547     12.631652     13.906020     16.687961   \n",
              "std       19.834533     25.748757     31.037328     36.397534     43.178023   \n",
              "min        0.000000      0.000000      0.000000      0.000000      0.000000   \n",
              "25%        0.000000      0.000000      0.000000      0.000000      0.000000   \n",
              "50%        0.000000      0.000000      0.000000      0.000000      0.000000   \n",
              "75%       10.000000      3.000000      4.000000      2.000000      4.000000   \n",
              "max       90.000000    124.000000    154.000000    183.000000    215.000000   \n",
              "\n",
              "              DIAS5         DIAS6  Numero_Producto   Saldo_Mora1  \\\n",
              "count  10034.000000  10034.000000     10034.000000  1.003400e+04   \n",
              "mean      18.795994     20.922065         1.436217  1.457278e+07   \n",
              "std       49.914129     56.168051         0.972649  1.155137e+08   \n",
              "min        0.000000      0.000000         1.000000  0.000000e+00   \n",
              "25%        0.000000      0.000000         1.000000  0.000000e+00   \n",
              "50%        0.000000      0.000000         1.000000  1.486350e+04   \n",
              "75%        2.000000      3.000000         2.000000  9.180525e+04   \n",
              "max      246.000000    274.000000        14.000000  6.216763e+09   \n",
              "\n",
              "        Saldo_Mora2  ...   Saldo_Mora4   Saldo_Mora5   Saldo_Mora6  \\\n",
              "count  1.003400e+04  ...  1.003400e+04  1.003400e+04  1.003400e+04   \n",
              "mean   3.110904e+10  ...  1.063713e+11  7.568642e+10  7.420037e+10   \n",
              "std    2.252168e+12  ...  8.260151e+12  7.579718e+12  7.430854e+12   \n",
              "min    0.000000e+00  ...  0.000000e+00  0.000000e+00  0.000000e+00   \n",
              "25%    0.000000e+00  ...  0.000000e+00  0.000000e+00  0.000000e+00   \n",
              "50%    1.779850e+04  ...  1.930700e+04  2.065500e+04  2.145900e+04   \n",
              "75%    1.240805e+05  ...  1.224135e+05  1.628508e+05  1.605042e+05   \n",
              "max    1.893820e+14  ...  7.736272e+14  7.592592e+14  7.443476e+14   \n",
              "\n",
              "               Cupo        Saldo1        Saldo2        Saldo3        Saldo4  \\\n",
              "count  1.003400e+04  1.003400e+04  1.003400e+04  1.003400e+04  1.003400e+04   \n",
              "mean   5.297769e+11  3.893328e+11  6.034055e+11  2.329785e+11  1.792082e+11   \n",
              "std    1.996000e+13  1.403737e+13  1.981178e+13  9.246639e+12  7.347073e+12   \n",
              "min    0.000000e+00  0.000000e+00  0.000000e+00  0.000000e+00  0.000000e+00   \n",
              "25%    7.989245e+06  9.915256e+06  1.203272e+07  1.116191e+07  1.293424e+07   \n",
              "50%    2.524516e+08  2.574184e+08  2.629732e+08  2.636392e+08  2.668281e+08   \n",
              "75%    1.361345e+09  1.361551e+09  1.357375e+09  1.359062e+09  1.310278e+09   \n",
              "max    9.685770e+14  9.307980e+14  9.973579e+14  6.855217e+14  4.558653e+14   \n",
              "\n",
              "             Saldo5        Saldo6  \n",
              "count  1.003400e+04  1.003400e+04  \n",
              "mean   4.484168e+11  3.679107e+11  \n",
              "std    1.638041e+13  1.382161e+13  \n",
              "min    0.000000e+00  0.000000e+00  \n",
              "25%    1.467884e+07  1.488652e+07  \n",
              "50%    2.741291e+08  2.687241e+08  \n",
              "75%    1.334222e+09  1.290378e+09  \n",
              "max    9.888720e+14  9.007961e+14  \n",
              "\n",
              "[8 rows x 21 columns]"
            ],
            "text/html": [
              "\n",
              "  <div id=\"df-3be9d513-45cc-417a-ab9c-78127170e73c\">\n",
              "    <div class=\"colab-df-container\">\n",
              "      <div>\n",
              "<style scoped>\n",
              "    .dataframe tbody tr th:only-of-type {\n",
              "        vertical-align: middle;\n",
              "    }\n",
              "\n",
              "    .dataframe tbody tr th {\n",
              "        vertical-align: top;\n",
              "    }\n",
              "\n",
              "    .dataframe thead th {\n",
              "        text-align: right;\n",
              "    }\n",
              "</style>\n",
              "<table border=\"1\" class=\"dataframe\">\n",
              "  <thead>\n",
              "    <tr style=\"text-align: right;\">\n",
              "      <th></th>\n",
              "      <th>DIAS0</th>\n",
              "      <th>DIAS1</th>\n",
              "      <th>DIAS2</th>\n",
              "      <th>DIAS3</th>\n",
              "      <th>DIAS4</th>\n",
              "      <th>DIAS5</th>\n",
              "      <th>DIAS6</th>\n",
              "      <th>Numero_Producto</th>\n",
              "      <th>Saldo_Mora1</th>\n",
              "      <th>Saldo_Mora2</th>\n",
              "      <th>...</th>\n",
              "      <th>Saldo_Mora4</th>\n",
              "      <th>Saldo_Mora5</th>\n",
              "      <th>Saldo_Mora6</th>\n",
              "      <th>Cupo</th>\n",
              "      <th>Saldo1</th>\n",
              "      <th>Saldo2</th>\n",
              "      <th>Saldo3</th>\n",
              "      <th>Saldo4</th>\n",
              "      <th>Saldo5</th>\n",
              "      <th>Saldo6</th>\n",
              "    </tr>\n",
              "  </thead>\n",
              "  <tbody>\n",
              "    <tr>\n",
              "      <th>count</th>\n",
              "      <td>10034.000000</td>\n",
              "      <td>10034.000000</td>\n",
              "      <td>10034.000000</td>\n",
              "      <td>10034.000000</td>\n",
              "      <td>10034.000000</td>\n",
              "      <td>10034.000000</td>\n",
              "      <td>10034.000000</td>\n",
              "      <td>10034.000000</td>\n",
              "      <td>1.003400e+04</td>\n",
              "      <td>1.003400e+04</td>\n",
              "      <td>...</td>\n",
              "      <td>1.003400e+04</td>\n",
              "      <td>1.003400e+04</td>\n",
              "      <td>1.003400e+04</td>\n",
              "      <td>1.003400e+04</td>\n",
              "      <td>1.003400e+04</td>\n",
              "      <td>1.003400e+04</td>\n",
              "      <td>1.003400e+04</td>\n",
              "      <td>1.003400e+04</td>\n",
              "      <td>1.003400e+04</td>\n",
              "      <td>1.003400e+04</td>\n",
              "    </tr>\n",
              "    <tr>\n",
              "      <th>mean</th>\n",
              "      <td>10.614212</td>\n",
              "      <td>11.162547</td>\n",
              "      <td>12.631652</td>\n",
              "      <td>13.906020</td>\n",
              "      <td>16.687961</td>\n",
              "      <td>18.795994</td>\n",
              "      <td>20.922065</td>\n",
              "      <td>1.436217</td>\n",
              "      <td>1.457278e+07</td>\n",
              "      <td>3.110904e+10</td>\n",
              "      <td>...</td>\n",
              "      <td>1.063713e+11</td>\n",
              "      <td>7.568642e+10</td>\n",
              "      <td>7.420037e+10</td>\n",
              "      <td>5.297769e+11</td>\n",
              "      <td>3.893328e+11</td>\n",
              "      <td>6.034055e+11</td>\n",
              "      <td>2.329785e+11</td>\n",
              "      <td>1.792082e+11</td>\n",
              "      <td>4.484168e+11</td>\n",
              "      <td>3.679107e+11</td>\n",
              "    </tr>\n",
              "    <tr>\n",
              "      <th>std</th>\n",
              "      <td>19.834533</td>\n",
              "      <td>25.748757</td>\n",
              "      <td>31.037328</td>\n",
              "      <td>36.397534</td>\n",
              "      <td>43.178023</td>\n",
              "      <td>49.914129</td>\n",
              "      <td>56.168051</td>\n",
              "      <td>0.972649</td>\n",
              "      <td>1.155137e+08</td>\n",
              "      <td>2.252168e+12</td>\n",
              "      <td>...</td>\n",
              "      <td>8.260151e+12</td>\n",
              "      <td>7.579718e+12</td>\n",
              "      <td>7.430854e+12</td>\n",
              "      <td>1.996000e+13</td>\n",
              "      <td>1.403737e+13</td>\n",
              "      <td>1.981178e+13</td>\n",
              "      <td>9.246639e+12</td>\n",
              "      <td>7.347073e+12</td>\n",
              "      <td>1.638041e+13</td>\n",
              "      <td>1.382161e+13</td>\n",
              "    </tr>\n",
              "    <tr>\n",
              "      <th>min</th>\n",
              "      <td>0.000000</td>\n",
              "      <td>0.000000</td>\n",
              "      <td>0.000000</td>\n",
              "      <td>0.000000</td>\n",
              "      <td>0.000000</td>\n",
              "      <td>0.000000</td>\n",
              "      <td>0.000000</td>\n",
              "      <td>1.000000</td>\n",
              "      <td>0.000000e+00</td>\n",
              "      <td>0.000000e+00</td>\n",
              "      <td>...</td>\n",
              "      <td>0.000000e+00</td>\n",
              "      <td>0.000000e+00</td>\n",
              "      <td>0.000000e+00</td>\n",
              "      <td>0.000000e+00</td>\n",
              "      <td>0.000000e+00</td>\n",
              "      <td>0.000000e+00</td>\n",
              "      <td>0.000000e+00</td>\n",
              "      <td>0.000000e+00</td>\n",
              "      <td>0.000000e+00</td>\n",
              "      <td>0.000000e+00</td>\n",
              "    </tr>\n",
              "    <tr>\n",
              "      <th>25%</th>\n",
              "      <td>0.000000</td>\n",
              "      <td>0.000000</td>\n",
              "      <td>0.000000</td>\n",
              "      <td>0.000000</td>\n",
              "      <td>0.000000</td>\n",
              "      <td>0.000000</td>\n",
              "      <td>0.000000</td>\n",
              "      <td>1.000000</td>\n",
              "      <td>0.000000e+00</td>\n",
              "      <td>0.000000e+00</td>\n",
              "      <td>...</td>\n",
              "      <td>0.000000e+00</td>\n",
              "      <td>0.000000e+00</td>\n",
              "      <td>0.000000e+00</td>\n",
              "      <td>7.989245e+06</td>\n",
              "      <td>9.915256e+06</td>\n",
              "      <td>1.203272e+07</td>\n",
              "      <td>1.116191e+07</td>\n",
              "      <td>1.293424e+07</td>\n",
              "      <td>1.467884e+07</td>\n",
              "      <td>1.488652e+07</td>\n",
              "    </tr>\n",
              "    <tr>\n",
              "      <th>50%</th>\n",
              "      <td>0.000000</td>\n",
              "      <td>0.000000</td>\n",
              "      <td>0.000000</td>\n",
              "      <td>0.000000</td>\n",
              "      <td>0.000000</td>\n",
              "      <td>0.000000</td>\n",
              "      <td>0.000000</td>\n",
              "      <td>1.000000</td>\n",
              "      <td>1.486350e+04</td>\n",
              "      <td>1.779850e+04</td>\n",
              "      <td>...</td>\n",
              "      <td>1.930700e+04</td>\n",
              "      <td>2.065500e+04</td>\n",
              "      <td>2.145900e+04</td>\n",
              "      <td>2.524516e+08</td>\n",
              "      <td>2.574184e+08</td>\n",
              "      <td>2.629732e+08</td>\n",
              "      <td>2.636392e+08</td>\n",
              "      <td>2.668281e+08</td>\n",
              "      <td>2.741291e+08</td>\n",
              "      <td>2.687241e+08</td>\n",
              "    </tr>\n",
              "    <tr>\n",
              "      <th>75%</th>\n",
              "      <td>10.000000</td>\n",
              "      <td>3.000000</td>\n",
              "      <td>4.000000</td>\n",
              "      <td>2.000000</td>\n",
              "      <td>4.000000</td>\n",
              "      <td>2.000000</td>\n",
              "      <td>3.000000</td>\n",
              "      <td>2.000000</td>\n",
              "      <td>9.180525e+04</td>\n",
              "      <td>1.240805e+05</td>\n",
              "      <td>...</td>\n",
              "      <td>1.224135e+05</td>\n",
              "      <td>1.628508e+05</td>\n",
              "      <td>1.605042e+05</td>\n",
              "      <td>1.361345e+09</td>\n",
              "      <td>1.361551e+09</td>\n",
              "      <td>1.357375e+09</td>\n",
              "      <td>1.359062e+09</td>\n",
              "      <td>1.310278e+09</td>\n",
              "      <td>1.334222e+09</td>\n",
              "      <td>1.290378e+09</td>\n",
              "    </tr>\n",
              "    <tr>\n",
              "      <th>max</th>\n",
              "      <td>90.000000</td>\n",
              "      <td>124.000000</td>\n",
              "      <td>154.000000</td>\n",
              "      <td>183.000000</td>\n",
              "      <td>215.000000</td>\n",
              "      <td>246.000000</td>\n",
              "      <td>274.000000</td>\n",
              "      <td>14.000000</td>\n",
              "      <td>6.216763e+09</td>\n",
              "      <td>1.893820e+14</td>\n",
              "      <td>...</td>\n",
              "      <td>7.736272e+14</td>\n",
              "      <td>7.592592e+14</td>\n",
              "      <td>7.443476e+14</td>\n",
              "      <td>9.685770e+14</td>\n",
              "      <td>9.307980e+14</td>\n",
              "      <td>9.973579e+14</td>\n",
              "      <td>6.855217e+14</td>\n",
              "      <td>4.558653e+14</td>\n",
              "      <td>9.888720e+14</td>\n",
              "      <td>9.007961e+14</td>\n",
              "    </tr>\n",
              "  </tbody>\n",
              "</table>\n",
              "<p>8 rows × 21 columns</p>\n",
              "</div>\n",
              "      <button class=\"colab-df-convert\" onclick=\"convertToInteractive('df-3be9d513-45cc-417a-ab9c-78127170e73c')\"\n",
              "              title=\"Convert this dataframe to an interactive table.\"\n",
              "              style=\"display:none;\">\n",
              "        \n",
              "  <svg xmlns=\"http://www.w3.org/2000/svg\" height=\"24px\"viewBox=\"0 0 24 24\"\n",
              "       width=\"24px\">\n",
              "    <path d=\"M0 0h24v24H0V0z\" fill=\"none\"/>\n",
              "    <path d=\"M18.56 5.44l.94 2.06.94-2.06 2.06-.94-2.06-.94-.94-2.06-.94 2.06-2.06.94zm-11 1L8.5 8.5l.94-2.06 2.06-.94-2.06-.94L8.5 2.5l-.94 2.06-2.06.94zm10 10l.94 2.06.94-2.06 2.06-.94-2.06-.94-.94-2.06-.94 2.06-2.06.94z\"/><path d=\"M17.41 7.96l-1.37-1.37c-.4-.4-.92-.59-1.43-.59-.52 0-1.04.2-1.43.59L10.3 9.45l-7.72 7.72c-.78.78-.78 2.05 0 2.83L4 21.41c.39.39.9.59 1.41.59.51 0 1.02-.2 1.41-.59l7.78-7.78 2.81-2.81c.8-.78.8-2.07 0-2.86zM5.41 20L4 18.59l7.72-7.72 1.47 1.35L5.41 20z\"/>\n",
              "  </svg>\n",
              "      </button>\n",
              "      \n",
              "  <style>\n",
              "    .colab-df-container {\n",
              "      display:flex;\n",
              "      flex-wrap:wrap;\n",
              "      gap: 12px;\n",
              "    }\n",
              "\n",
              "    .colab-df-convert {\n",
              "      background-color: #E8F0FE;\n",
              "      border: none;\n",
              "      border-radius: 50%;\n",
              "      cursor: pointer;\n",
              "      display: none;\n",
              "      fill: #1967D2;\n",
              "      height: 32px;\n",
              "      padding: 0 0 0 0;\n",
              "      width: 32px;\n",
              "    }\n",
              "\n",
              "    .colab-df-convert:hover {\n",
              "      background-color: #E2EBFA;\n",
              "      box-shadow: 0px 1px 2px rgba(60, 64, 67, 0.3), 0px 1px 3px 1px rgba(60, 64, 67, 0.15);\n",
              "      fill: #174EA6;\n",
              "    }\n",
              "\n",
              "    [theme=dark] .colab-df-convert {\n",
              "      background-color: #3B4455;\n",
              "      fill: #D2E3FC;\n",
              "    }\n",
              "\n",
              "    [theme=dark] .colab-df-convert:hover {\n",
              "      background-color: #434B5C;\n",
              "      box-shadow: 0px 1px 3px 1px rgba(0, 0, 0, 0.15);\n",
              "      filter: drop-shadow(0px 1px 2px rgba(0, 0, 0, 0.3));\n",
              "      fill: #FFFFFF;\n",
              "    }\n",
              "  </style>\n",
              "\n",
              "      <script>\n",
              "        const buttonEl =\n",
              "          document.querySelector('#df-3be9d513-45cc-417a-ab9c-78127170e73c button.colab-df-convert');\n",
              "        buttonEl.style.display =\n",
              "          google.colab.kernel.accessAllowed ? 'block' : 'none';\n",
              "\n",
              "        async function convertToInteractive(key) {\n",
              "          const element = document.querySelector('#df-3be9d513-45cc-417a-ab9c-78127170e73c');\n",
              "          const dataTable =\n",
              "            await google.colab.kernel.invokeFunction('convertToInteractive',\n",
              "                                                     [key], {});\n",
              "          if (!dataTable) return;\n",
              "\n",
              "          const docLinkHtml = 'Like what you see? Visit the ' +\n",
              "            '<a target=\"_blank\" href=https://colab.research.google.com/notebooks/data_table.ipynb>data table notebook</a>'\n",
              "            + ' to learn more about interactive tables.';\n",
              "          element.innerHTML = '';\n",
              "          dataTable['output_type'] = 'display_data';\n",
              "          await google.colab.output.renderOutput(dataTable, element);\n",
              "          const docLink = document.createElement('div');\n",
              "          docLink.innerHTML = docLinkHtml;\n",
              "          element.appendChild(docLink);\n",
              "        }\n",
              "      </script>\n",
              "    </div>\n",
              "  </div>\n",
              "  "
            ]
          },
          "metadata": {},
          "execution_count": 13
        }
      ]
    },
    {
      "cell_type": "markdown",
      "source": [
        "Podemos ver algunas gráficas interesantes para describrir nuestros datos como el porcentaje de mujeres y hombres en nuesta base de datos."
      ],
      "metadata": {
        "id": "oewJTgUICgLg"
      }
    },
    {
      "cell_type": "code",
      "source": [
        "labels = 'F', 'M'\n",
        "sizes = [df['GENERO'].value_counts()[1],df['GENERO'].value_counts()[0]]\n",
        "colors = ['pink','blue']\n",
        "explode = (0, 0)\n",
        "fig1, ax1 = plt.subplots(figsize =(10,5.5))\n",
        "ax1.pie(sizes,colors = colors ,explode=explode, labels=labels, autopct='%1.1f%%',\n",
        "        shadow=True, startangle=90)\n",
        "ax1.axis('equal')\n",
        "plt.title(\"Género\")\n",
        "plt.show()"
      ],
      "metadata": {
        "colab": {
          "base_uri": "https://localhost:8080/",
          "height": 346
        },
        "id": "JVmw92jm_r7L",
        "outputId": "279a1b71-c3f2-4e38-a786-c56c0d3984c6"
      },
      "execution_count": 14,
      "outputs": [
        {
          "output_type": "display_data",
          "data": {
            "text/plain": [
              "<Figure size 720x396 with 1 Axes>"
            ],
            "image/png": "[encoded data removed]"
          },
          "metadata": {}
        }
      ]
    },
    {
      "cell_type": "markdown",
      "source": [
        "Tambien podemos ver cuántos productos se han adquirido por género."
      ],
      "metadata": {
        "id": "shrDPNzmC_pR"
      }
    },
    {
      "cell_type": "code",
      "source": [
        "data=[[\"Hombres\", df['Numero_Producto'][df['GENERO']=='M'].sum()],\n",
        "      [\"Mujeres\", df['Numero_Producto'][df['GENERO']=='F'].sum()],\n",
        "     ]\n",
        "df_2=pd.DataFrame(data,columns=[\"Genero\",\"Cantidad de productos\"])\n",
        "df_2.plot(x=\"Genero\", y=[\"Cantidad de productos\"], kind=\"bar\",figsize=(9,8))\n",
        "plt.title(\"Cantidad de productos por género\")\n",
        "plt.show()"
      ],
      "metadata": {
        "colab": {
          "base_uri": "https://localhost:8080/",
          "height": 547
        },
        "id": "zae7ZQPjF0-E",
        "outputId": "86a4e5ad-bc30-4e35-f20e-250b90f961cd"
      },
      "execution_count": 15,
      "outputs": [
        {
          "output_type": "display_data",
          "data": {
            "text/plain": [
              "<Figure size 648x576 with 1 Axes>"
            ],
            "image/png": "[encoded data removed]"
          },
          "metadata": {
            "needs_background": "light"
          }
        }
      ]
    },
    {
      "cell_type": "markdown",
      "source": [
        "También podemos observar de manera interactiva seleccionando diferentes tipos de dias y saldos, el promedio de días en mora y saldos de los clientes."
      ],
      "metadata": {
        "id": "Fst0JMLRBtju"
      }
    },
    {
      "cell_type": "code",
      "source": [
        "df['periodo']=df['periodo'].astype(int)\n",
        "table_2=['DIAS0',\t'DIAS1',\t'DIAS2',\t'DIAS3',\t'DIAS4',\t'DIAS5',\t'DIAS6']\n",
        "def f_2(Format):\n",
        "  x= ['2017', '2018']\n",
        "\n",
        "  if Format=='DIAS0':\n",
        "    y=[df['DIAS0'][df['periodo']==201709].mean()+df['DIAS0'][df['periodo']==201712].mean(), df['DIAS0'][df['periodo']==201803].mean()+\n",
        "       df['DIAS0'][df['periodo']==201806].mean()]\n",
        "\n",
        "  if Format=='DIAS1':\n",
        "    y=[df['DIAS1'][df['periodo']==201709].mean()+ df['DIAS1'][df['periodo']==201712].mean(), df['DIAS1'][df['periodo']==201803].mean()+\n",
        "       df['DIAS1'][df['periodo']==201806].mean()]\n",
        "\n",
        "  if Format=='DIAS2':\n",
        "    y=[df['DIAS2'][df['periodo']==201709].mean()+ df['DIAS2'][df['periodo']==201712].mean(), df['DIAS2'][df['periodo']==201803].mean()+\n",
        "       df['DIAS2'][df['periodo']==201806].mean()]\n",
        "\n",
        "  if Format=='DIAS3':\n",
        "    y=[df['DIAS3'][df['periodo']==201709].mean()+ df['DIAS3'][df['periodo']==201712].mean(), df['DIAS3'][df['periodo']==201803].mean()+\n",
        "       df['DIAS3'][df['periodo']==201806].mean()]\n",
        "\n",
        "  if Format=='DIAS4':\n",
        "    y=[df['DIAS4'][df['periodo']==201709].mean()+ df['DIAS4'][df['periodo']==201712].mean(), df['DIAS4'][df['periodo']==201803].mean()+\n",
        "       df['DIAS4'][df['periodo']==201806].mean()]\n",
        "\n",
        "  if Format=='DIAS5':\n",
        "    y=[df['DIAS5'][df['periodo']==201709].mean()+ df['DIAS5'][df['periodo']==201712].mean(), df['DIAS5'][df['periodo']==201803].mean()+\n",
        "       df['DIAS5'][df['periodo']==201806].mean()]\n",
        "  \n",
        "  if Format=='DIAS6':\n",
        "    y=[df['DIAS6'][df['periodo']==201709].mean()+ df['DIAS6'][df['periodo']==201712].mean(), df['DIAS6'][df['periodo']==201803].mean()+\n",
        "       df['DIAS6'][df['periodo']==201806].mean()]\n",
        "  \n",
        "\n",
        "  fig = px.line(x=x, y=y, markers=True, labels={\n",
        "                     \"x\":\"Año\",\n",
        "                      \"y\":\"Promedio de días en mora\"},\n",
        "               title=\"Promedio de días en mora de los clientes a traves del tiempo\")\n",
        "  fig.show()\n",
        "\n",
        "interact(f_2, Format=table_2)"
      ],
      "metadata": {
        "colab": {
          "base_uri": "https://localhost:8080/",
          "height": 591,
          "referenced_widgets": [
            "6d7241cfe93844b28f9cfbd15eb6db5e",
            "a7cc5af52ac44ceca5c62a08f09ed9c6",
            "89344bc19ec54799be91daf5c0cf1650",
            "ac93e995ebbb415f9f92d5a5684e92d5",
            "ebe359d85e6f4d3ebfb6e5ab9fc4ed83",
            "91a9d4a3f319410bb4ab0e3111027f81",
            "f41aae3f9cb74554bb3f3c34b2a35cd5"
          ]
        },
        "id": "KJzy0vs5KbNh",
        "outputId": "2af08220-33f0-4e3f-aefc-04502001c525"
      },
      "execution_count": 16,
      "outputs": [
        {
          "output_type": "display_data",
          "data": {
            "text/plain": [
              "interactive(children=(Dropdown(description='Format', options=('DIAS0', 'DIAS1', 'DIAS2', 'DIAS3', 'DIAS4', 'DI…"
            ],
            "application/vnd.jupyter.widget-view+json": {
              "version_major": 2,
              "version_minor": 0,
              "model_id": "6d7241cfe93844b28f9cfbd15eb6db5e"
            }
          },
          "metadata": {}
        },
        {
          "output_type": "execute_result",
          "data": {
            "text/plain": [
              "<function __main__.f_2>"
            ]
          },
          "metadata": {},
          "execution_count": 16
        }
      ]
    },
    {
      "cell_type": "code",
      "source": [
        "df['periodo']=df['periodo'].astype(int)\n",
        "table_2=['Saldo_Mora1',\t'Saldo_Mora2',\t'Saldo_Mora3','Saldo_Mora4',\t'Saldo_Mora5',\t'Saldo_Mora6']\n",
        "def f_2(Format):\n",
        "  x= ['2017', '2018']\n",
        "\n",
        "  if Format=='Saldo_Mora1':\n",
        "    y=[df['Saldo_Mora1'][df['periodo']==201709].mean()+df['Saldo_Mora1'][df['periodo']==201712].mean(), \n",
        "       df['Saldo_Mora1'][df['periodo']==201803].mean()+df['Saldo_Mora1'][df['periodo']==201806].mean()]\n",
        "\n",
        "  if Format=='Saldo_Mora2':\n",
        "    y=[df['Saldo_Mora2'][df['periodo']==201709].mean()+df['Saldo_Mora2'][df['periodo']==201712].mean(), \n",
        "       df['Saldo_Mora2'][df['periodo']==201803].mean()+df['Saldo_Mora2'][df['periodo']==201806].mean()]\n",
        "\n",
        "  if Format=='Saldo_Mora3':\n",
        "    y=[df['Saldo_Mora3'][df['periodo']==201709].mean()+df['Saldo_Mora3'][df['periodo']==201712].mean(), \n",
        "       df['Saldo_Mora3'][df['periodo']==201803].mean()+df['Saldo_Mora3'][df['periodo']==201806].mean()]\n",
        "\n",
        "  if Format=='Saldo_Mora4':\n",
        "    y=[df['Saldo_Mora4'][df['periodo']==201709].mean()+df['Saldo_Mora4'][df['periodo']==201712].mean(), \n",
        "       df['Saldo_Mora4'][df['periodo']==201803].mean()+df['Saldo_Mora4'][df['periodo']==201806].mean()]\n",
        "\n",
        "  if Format=='Saldo_Mora5':\n",
        "    y=[df['Saldo_Mora5'][df['periodo']==201709].mean()+df['Saldo_Mora5'][df['periodo']==201712].mean(), \n",
        "       df['Saldo_Mora5'][df['periodo']==201803].mean()+df['Saldo_Mora5'][df['periodo']==201806].mean()]\n",
        "\n",
        "  if Format=='Saldo_Mora6':\n",
        "    y=[df['Saldo_Mora6'][df['periodo']==201709].mean()+df['Saldo_Mora6'][df['periodo']==201712].mean(), \n",
        "       df['Saldo_Mora6'][df['periodo']==201803].mean()+df['Saldo_Mora6'][df['periodo']==201806].mean()]\n",
        "  \n",
        "\n",
        "  fig = px.line(x=x, y=y, markers=True, labels={\n",
        "                     \"x\":\"Año\",\n",
        "                      \"y\":\"Promedio de saldo en mora\"},\n",
        "               title=\"Promedio de saldo en mora de los clientes a traves del tiempo\")\n",
        "  fig.show()\n",
        "\n",
        "interact(f_2, Format=table_2)"
      ],
      "metadata": {
        "colab": {
          "base_uri": "https://localhost:8080/",
          "height": 66,
          "referenced_widgets": [
            "99837d72a7634e58b52d2b9d9c449dc0",
            "414d406181054effb1602fe924974380",
            "26f1e9185b26478cad6692e96734885d",
            "cf80d56205d54f64bb6204c752aaa34c",
            "915c73b747da409bb81a88dee71c7138",
            "c07226bdef1c49a996580f98b421f805",
            "346768beafb94c1295a46848f26423fc"
          ]
        },
        "id": "s255LJQcR45B",
        "outputId": "46a451c0-2b46-467f-dca3-e72772e96f8e"
      },
      "execution_count": 17,
      "outputs": [
        {
          "output_type": "display_data",
          "data": {
            "text/plain": [
              "interactive(children=(Dropdown(description='Format', options=('Saldo_Mora1', 'Saldo_Mora2', 'Saldo_Mora3', 'Sa…"
            ],
            "application/vnd.jupyter.widget-view+json": {
              "version_major": 2,
              "version_minor": 0,
              "model_id": "99837d72a7634e58b52d2b9d9c449dc0"
            }
          },
          "metadata": {}
        },
        {
          "output_type": "execute_result",
          "data": {
            "text/plain": [
              "<function __main__.f_2>"
            ]
          },
          "metadata": {},
          "execution_count": 17
        }
      ]
    },
    {
      "cell_type": "markdown",
      "source": [
        "# Construcción de variables"
      ],
      "metadata": {
        "id": "ADlNK3rxToRw"
      }
    },
    {
      "cell_type": "markdown",
      "source": [
        "## Saldo promedio de los últimos seis meses"
      ],
      "metadata": {
        "id": "pfeFpUqgVJW9"
      }
    },
    {
      "cell_type": "code",
      "source": [
        "df['Saldo promedio']=(df['Saldo1']+ df['Saldo2']+df['Saldo3']+df['Saldo4']+df['Saldo5']+df['Saldo6'])/6"
      ],
      "metadata": {
        "id": "KW10Z77VTHSk"
      },
      "execution_count": 18,
      "outputs": []
    },
    {
      "cell_type": "markdown",
      "source": [
        "##  Saldo máximo en el primer trimestre"
      ],
      "metadata": {
        "id": "MEp6TxrsVVjM"
      }
    },
    {
      "cell_type": "code",
      "source": [
        "df['Saldo max 1T'] = df[['Saldo1','Saldo2','Saldo3']].max(axis=1)"
      ],
      "metadata": {
        "id": "OyOcg_fgVTGG"
      },
      "execution_count": 19,
      "outputs": []
    },
    {
      "cell_type": "markdown",
      "source": [
        "## Antigüedad de la obligación en meses a 201908"
      ],
      "metadata": {
        "id": "0RdoNcK8XFva"
      }
    },
    {
      "cell_type": "code",
      "source": [
        "def diff_month(d1, d2):\n",
        "    return (d1.year - d2.year) * 12 + d1.month - d2.month\n",
        "\n",
        "def meses(F_inicio, F_final):\n",
        "  F_inicio = datetime.strptime(F_inicio, \"%Y%m\")\n",
        "  F_final = datetime.strptime(F_final, \"%Y%m\")\n",
        "\n",
        "  return diff_month(F_final, F_inicio)"
      ],
      "metadata": {
        "id": "HrAy-ygfebCs"
      },
      "execution_count": 20,
      "outputs": []
    },
    {
      "cell_type": "code",
      "source": [
        "df['periodo']=df['periodo'].astype(str)\n",
        "df['Antiguedad']=0"
      ],
      "metadata": {
        "id": "HDT1TYw8gFav"
      },
      "execution_count": 21,
      "outputs": []
    },
    {
      "cell_type": "code",
      "source": [
        "for i in range(0, len(df['periodo'])):\n",
        "  df['Antiguedad'][i]=meses(df['periodo'][i], '201908')"
      ],
      "metadata": {
        "id": "JhhDF-kqhAp9"
      },
      "execution_count": 22,
      "outputs": []
    },
    {
      "cell_type": "markdown",
      "source": [
        "## Cupo promedio de los primeros 3 meses, se calcula como Cupo/Número_Productos"
      ],
      "metadata": {
        "id": "wX9zTLRjihFF"
      }
    },
    {
      "cell_type": "code",
      "source": [
        "df['cupo promedio']=df['Cupo']/df['Numero_Producto']"
      ],
      "metadata": {
        "id": "SQGPLuKDicBI"
      },
      "execution_count": 23,
      "outputs": []
    },
    {
      "cell_type": "markdown",
      "source": [
        "## Flag género, tomando 1 es mujer y 0 es hombre."
      ],
      "metadata": {
        "id": "gDnrieVokdik"
      }
    },
    {
      "cell_type": "code",
      "source": [
        "df['flag genero']=df['GENERO'].replace(['F','M'],[1,0])"
      ],
      "metadata": {
        "id": "9r4CpqeCkRou"
      },
      "execution_count": 24,
      "outputs": []
    },
    {
      "cell_type": "markdown",
      "source": [
        "# Variables binarias"
      ],
      "metadata": {
        "id": "YAIjTkf6lT26"
      }
    },
    {
      "cell_type": "markdown",
      "source": [
        "## Clientes malos: Aquellos que luego de los 6 meses hayan alcanzado un máximo de 30 días en mora"
      ],
      "metadata": {
        "id": "qzMoaiEmlwV8"
      }
    },
    {
      "cell_type": "code",
      "source": [
        "df['calificacion']=np.where(df['DIAS6']>=30, 1, 0)"
      ],
      "metadata": {
        "id": "RfJhRuHblG-V"
      },
      "execution_count": 25,
      "outputs": []
    },
    {
      "cell_type": "markdown",
      "source": [
        "Se selecciona esta variable pues considero que 30 días en mora es suficiente tiempo para determinar si un cliente es bueno o malo. "
      ],
      "metadata": {
        "id": "Ptpjs6Q6BSY0"
      }
    },
    {
      "cell_type": "markdown",
      "source": [
        "# Regresión Logísitica"
      ],
      "metadata": {
        "id": "A7mdLImUnWbu"
      }
    },
    {
      "cell_type": "markdown",
      "source": [
        "Primero definimos las variables para el modelo"
      ],
      "metadata": {
        "id": "bX1hB1hrXC-J"
      }
    },
    {
      "cell_type": "code",
      "source": [
        "response = df['calificacion']\n",
        "dataset = df[['Saldo promedio', 'Saldo max 1T', 'Antiguedad', 'cupo promedio', 'flag genero']]"
      ],
      "metadata": {
        "id": "og3nBfsKnQGS"
      },
      "execution_count": 27,
      "outputs": []
    },
    {
      "cell_type": "code",
      "source": [
        "response.value_counts()"
      ],
      "metadata": {
        "colab": {
          "base_uri": "https://localhost:8080/"
        },
        "id": "2cZppVhsSOuF",
        "outputId": "6fd4e8b9-0a4e-46d1-f4a8-74c6aeb71586"
      },
      "execution_count": 45,
      "outputs": [
        {
          "output_type": "execute_result",
          "data": {
            "text/plain": [
              "0    8562\n",
              "1    1472\n",
              "Name: calificacion, dtype: int64"
            ]
          },
          "metadata": {},
          "execution_count": 45
        }
      ]
    },
    {
      "cell_type": "markdown",
      "source": [
        "Separamos la base en entrenamiento y validación"
      ],
      "metadata": {
        "id": "youHEK-LXGT0"
      }
    },
    {
      "cell_type": "code",
      "source": [
        "X_train, X_test, y_train, y_test = train_test_split(dataset, response, stratify=response, test_size = 0.2)\n",
        "\n",
        "print(\"Number transactions X_train dataset: \", X_train.shape)\n",
        "print(\"Number transactions y_train dataset: \", y_train.shape)\n",
        "print(\"Number transactions X_test dataset: \", X_test.shape)\n",
        "print(\"Number transactions y_test dataset: \", y_test.shape)"
      ],
      "metadata": {
        "colab": {
          "base_uri": "https://localhost:8080/"
        },
        "id": "0nrM5-nYoOSY",
        "outputId": "71287ac7-62d2-4246-8a92-a55f2db3b78a"
      },
      "execution_count": 28,
      "outputs": [
        {
          "output_type": "stream",
          "name": "stdout",
          "text": [
            "Number transactions X_train dataset:  (8027, 5)\n",
            "Number transactions y_train dataset:  (8027,)\n",
            "Number transactions X_test dataset:  (2007, 5)\n",
            "Number transactions y_test dataset:  (2007,)\n"
          ]
        }
      ]
    },
    {
      "cell_type": "markdown",
      "source": [
        "Estandarizamos los valores"
      ],
      "metadata": {
        "id": "Oe7inYI9XMQa"
      }
    },
    {
      "cell_type": "code",
      "source": [
        "sc_X = StandardScaler()\n",
        "X_train2 = pd.DataFrame(sc_X.fit_transform(X_train))\n",
        "X_train2.columns = X_train.columns.values\n",
        "X_train2.index = X_train.index.values\n",
        "X_train = X_train2\n",
        "X_test2 = pd.DataFrame(sc_X.transform(X_test))\n",
        "X_test2.columns = X_test.columns.values\n",
        "X_test2.index = X_test.index.values\n",
        "X_test = X_test2"
      ],
      "metadata": {
        "id": "Td29syW7o-CG"
      },
      "execution_count": 29,
      "outputs": []
    },
    {
      "cell_type": "markdown",
      "source": [
        "Corremos un primer modelo de regresión logística con todos los valores por defecto"
      ],
      "metadata": {
        "id": "10jQ_J_tXPtl"
      }
    },
    {
      "cell_type": "code",
      "source": [
        "classifier = LogisticRegression()\n",
        "classifier.fit(X_train, y_train)\n",
        "\n",
        "y_pred = classifier.predict(X_test)\n",
        "\n",
        "acc = accuracy_score(y_test, y_pred )\n",
        "prec = precision_score(y_test, y_pred )\n",
        "rec = recall_score(y_test, y_pred )\n",
        "f1 = f1_score(y_test, y_pred )\n",
        "f2 = fbeta_score(y_test, y_pred, beta=2.0)\n",
        "\n",
        "results = pd.DataFrame([['Logistic Regression', \n",
        "acc, prec, rec, f1, f2]], columns = ['Model', \n",
        "'Accuracy', 'Precision', 'Recall', 'F1 Score', \n",
        "'F2 Score'])\n",
        "results = results.sort_values([\"Precision\", \n",
        "\"Recall\", \"F2 Score\"], ascending = False)\n",
        "print (results)"
      ],
      "metadata": {
        "colab": {
          "base_uri": "https://localhost:8080/"
        },
        "id": "WLmnv86AoSLo",
        "outputId": "a97f419e-7383-40ce-e4b9-357b9ca59229"
      },
      "execution_count": 35,
      "outputs": [
        {
          "output_type": "stream",
          "name": "stdout",
          "text": [
            "                 Model  Accuracy  Precision  Recall  F1 Score  F2 Score\n",
            "0  Logistic Regression  0.852018        0.0     0.0       0.0       0.0\n"
          ]
        }
      ]
    },
    {
      "cell_type": "code",
      "source": [
        "cm = confusion_matrix(y_test, y_pred) \n",
        "df_cm = pd.DataFrame(cm, index = (0, 1), columns = (0, 1))\n",
        "plt.figure(figsize = (28,20))\n",
        "fig, ax = plt.subplots()\n",
        "sns.set(font_scale=1.4)\n",
        "sns.heatmap(df_cm, annot=True, fmt='g'#,cmap=\"YlGnBu\" \n",
        "           )\n",
        "class_names=[0,1]\n",
        "tick_marks = np.arange(len(class_names))\n",
        "plt.tight_layout()\n",
        "plt.title('Confusion matrix\\n', y=1.1)\n",
        "plt.xticks(tick_marks, class_names)\n",
        "plt.yticks(tick_marks, class_names)\n",
        "ax.xaxis.set_label_position(\"top\")\n",
        "plt.ylabel('Actual label\\n')\n",
        "plt.xlabel('Predicted label\\n')"
      ],
      "metadata": {
        "colab": {
          "base_uri": "https://localhost:8080/",
          "height": 382
        },
        "id": "sxR5QK6wwB8H",
        "outputId": "4e23de83-1b56-478b-a661-5be3b06b25dd"
      },
      "execution_count": 31,
      "outputs": [
        {
          "output_type": "execute_result",
          "data": {
            "text/plain": [
              "Text(0.5, 15.0, 'Predicted label\\n')"
            ]
          },
          "metadata": {},
          "execution_count": 31
        },
        {
          "output_type": "display_data",
          "data": {
            "text/plain": [
              "<Figure size 2016x1440 with 0 Axes>"
            ]
          },
          "metadata": {}
        },
        {
          "output_type": "display_data",
          "data": {
            "text/plain": [
              "<Figure size 432x288 with 2 Axes>"
            ],
            "image/png": "[encoded data removed]"
          },
          "metadata": {
            "needs_background": "light"
          }
        }
      ]
    },
    {
      "cell_type": "code",
      "source": [
        "from sklearn.metrics import auc, roc_auc_score, roc_curve\n",
        "classifier.fit(X_train, y_train) \n",
        "probs = classifier.predict_proba(X_test) \n",
        "probs = probs[:, 1] \n",
        "classifier_roc_auc = accuracy_score(y_test, y_pred )\n",
        "rf_fpr, rf_tpr, rf_thresholds = roc_curve(y_test, classifier.predict_proba(X_test)[:,1])\n",
        "plt.figure(figsize=(14, 6))\n",
        "# Plot Logistic Regression ROC\n",
        "plt.plot(rf_fpr, rf_tpr, \n",
        "label='Logistic Regression (area = %0.2f)' % classifier_roc_auc)\n",
        "# Plot Base Rate ROC\n",
        "plt.plot([0,1], [0,1],label='Base Rate' 'k--')\n",
        "plt.xlim([0.0, 1.0])\n",
        "plt.ylim([0.0, 1.05])\n",
        "plt.ylabel('True Positive Rate \\n',horizontalalignment=\"center\",\n",
        "fontstyle = \"normal\", fontsize = \"medium\", \n",
        "fontfamily = \"sans-serif\")\n",
        "plt.xlabel('\\nFalse Positive Rate \\n',horizontalalignment=\"center\",\n",
        "fontstyle = \"normal\", fontsize = \"medium\", \n",
        "fontfamily = \"sans-serif\")\n",
        "plt.title('ROC Graph \\n',horizontalalignment=\"center\", \n",
        "fontstyle = \"normal\", fontsize = \"22\", \n",
        "fontfamily = \"sans-serif\")\n",
        "plt.legend(loc=\"lower right\", fontsize = \"medium\")\n",
        "plt.xticks(rotation=0, horizontalalignment=\"center\")\n",
        "plt.yticks(rotation=0, horizontalalignment=\"right\")\n",
        "plt.show()"
      ],
      "metadata": {
        "colab": {
          "base_uri": "https://localhost:8080/",
          "height": 490
        },
        "id": "hKNhBn1gwbZp",
        "outputId": "a92d110f-3372-4944-c376-b6ce28af3db5"
      },
      "execution_count": 32,
      "outputs": [
        {
          "output_type": "display_data",
          "data": {
            "text/plain": [
              "<Figure size 1008x432 with 1 Axes>"
            ],
            "image/png": "[encoded data removed]"
          },
          "metadata": {}
        }
      ]
    },
    {
      "cell_type": "code",
      "source": [
        "feature_importances = pd.concat([\n",
        "pd.DataFrame(dataset.columns, columns = [\"features\"]),\n",
        "pd.DataFrame(np.transpose(classifier.coef_), \n",
        "columns = [\"coef\"])],axis = 1)\n",
        "feature_importances.sort_values(\"coef\", ascending = False)"
      ],
      "metadata": {
        "colab": {
          "base_uri": "https://localhost:8080/",
          "height": 206
        },
        "id": "nJfeSb5kxcXp",
        "outputId": "535be848-71e9-4117-b293-bb35548298a0"
      },
      "execution_count": 33,
      "outputs": [
        {
          "output_type": "execute_result",
          "data": {
            "text/plain": [
              "         features      coef\n",
              "0  Saldo promedio  0.105244\n",
              "2      Antiguedad  0.073097\n",
              "3   cupo promedio  0.023502\n",
              "1    Saldo max 1T -0.027078\n",
              "4     flag genero -0.097360"
            ],
            "text/html": [
              "\n",
              "  <div id=\"df-1f746837-e600-4ed0-87d8-aa7842961fcb\">\n",
              "    <div class=\"colab-df-container\">\n",
              "      <div>\n",
              "<style scoped>\n",
              "    .dataframe tbody tr th:only-of-type {\n",
              "        vertical-align: middle;\n",
              "    }\n",
              "\n",
              "    .dataframe tbody tr th {\n",
              "        vertical-align: top;\n",
              "    }\n",
              "\n",
              "    .dataframe thead th {\n",
              "        text-align: right;\n",
              "    }\n",
              "</style>\n",
              "<table border=\"1\" class=\"dataframe\">\n",
              "  <thead>\n",
              "    <tr style=\"text-align: right;\">\n",
              "      <th></th>\n",
              "      <th>features</th>\n",
              "      <th>coef</th>\n",
              "    </tr>\n",
              "  </thead>\n",
              "  <tbody>\n",
              "    <tr>\n",
              "      <th>0</th>\n",
              "      <td>Saldo promedio</td>\n",
              "      <td>0.105244</td>\n",
              "    </tr>\n",
              "    <tr>\n",
              "      <th>2</th>\n",
              "      <td>Antiguedad</td>\n",
              "      <td>0.073097</td>\n",
              "    </tr>\n",
              "    <tr>\n",
              "      <th>3</th>\n",
              "      <td>cupo promedio</td>\n",
              "      <td>0.023502</td>\n",
              "    </tr>\n",
              "    <tr>\n",
              "      <th>1</th>\n",
              "      <td>Saldo max 1T</td>\n",
              "      <td>-0.027078</td>\n",
              "    </tr>\n",
              "    <tr>\n",
              "      <th>4</th>\n",
              "      <td>flag genero</td>\n",
              "      <td>-0.097360</td>\n",
              "    </tr>\n",
              "  </tbody>\n",
              "</table>\n",
              "</div>\n",
              "      <button class=\"colab-df-convert\" onclick=\"convertToInteractive('df-1f746837-e600-4ed0-87d8-aa7842961fcb')\"\n",
              "              title=\"Convert this dataframe to an interactive table.\"\n",
              "              style=\"display:none;\">\n",
              "        \n",
              "  <svg xmlns=\"http://www.w3.org/2000/svg\" height=\"24px\"viewBox=\"0 0 24 24\"\n",
              "       width=\"24px\">\n",
              "    <path d=\"M0 0h24v24H0V0z\" fill=\"none\"/>\n",
              "    <path d=\"M18.56 5.44l.94 2.06.94-2.06 2.06-.94-2.06-.94-.94-2.06-.94 2.06-2.06.94zm-11 1L8.5 8.5l.94-2.06 2.06-.94-2.06-.94L8.5 2.5l-.94 2.06-2.06.94zm10 10l.94 2.06.94-2.06 2.06-.94-2.06-.94-.94-2.06-.94 2.06-2.06.94z\"/><path d=\"M17.41 7.96l-1.37-1.37c-.4-.4-.92-.59-1.43-.59-.52 0-1.04.2-1.43.59L10.3 9.45l-7.72 7.72c-.78.78-.78 2.05 0 2.83L4 21.41c.39.39.9.59 1.41.59.51 0 1.02-.2 1.41-.59l7.78-7.78 2.81-2.81c.8-.78.8-2.07 0-2.86zM5.41 20L4 18.59l7.72-7.72 1.47 1.35L5.41 20z\"/>\n",
              "  </svg>\n",
              "      </button>\n",
              "      \n",
              "  <style>\n",
              "    .colab-df-container {\n",
              "      display:flex;\n",
              "      flex-wrap:wrap;\n",
              "      gap: 12px;\n",
              "    }\n",
              "\n",
              "    .colab-df-convert {\n",
              "      background-color: #E8F0FE;\n",
              "      border: none;\n",
              "      border-radius: 50%;\n",
              "      cursor: pointer;\n",
              "      display: none;\n",
              "      fill: #1967D2;\n",
              "      height: 32px;\n",
              "      padding: 0 0 0 0;\n",
              "      width: 32px;\n",
              "    }\n",
              "\n",
              "    .colab-df-convert:hover {\n",
              "      background-color: #E2EBFA;\n",
              "      box-shadow: 0px 1px 2px rgba(60, 64, 67, 0.3), 0px 1px 3px 1px rgba(60, 64, 67, 0.15);\n",
              "      fill: #174EA6;\n",
              "    }\n",
              "\n",
              "    [theme=dark] .colab-df-convert {\n",
              "      background-color: #3B4455;\n",
              "      fill: #D2E3FC;\n",
              "    }\n",
              "\n",
              "    [theme=dark] .colab-df-convert:hover {\n",
              "      background-color: #434B5C;\n",
              "      box-shadow: 0px 1px 3px 1px rgba(0, 0, 0, 0.15);\n",
              "      filter: drop-shadow(0px 1px 2px rgba(0, 0, 0, 0.3));\n",
              "      fill: #FFFFFF;\n",
              "    }\n",
              "  </style>\n",
              "\n",
              "      <script>\n",
              "        const buttonEl =\n",
              "          document.querySelector('#df-1f746837-e600-4ed0-87d8-aa7842961fcb button.colab-df-convert');\n",
              "        buttonEl.style.display =\n",
              "          google.colab.kernel.accessAllowed ? 'block' : 'none';\n",
              "\n",
              "        async function convertToInteractive(key) {\n",
              "          const element = document.querySelector('#df-1f746837-e600-4ed0-87d8-aa7842961fcb');\n",
              "          const dataTable =\n",
              "            await google.colab.kernel.invokeFunction('convertToInteractive',\n",
              "                                                     [key], {});\n",
              "          if (!dataTable) return;\n",
              "\n",
              "          const docLinkHtml = 'Like what you see? Visit the ' +\n",
              "            '<a target=\"_blank\" href=https://colab.research.google.com/notebooks/data_table.ipynb>data table notebook</a>'\n",
              "            + ' to learn more about interactive tables.';\n",
              "          element.innerHTML = '';\n",
              "          dataTable['output_type'] = 'display_data';\n",
              "          await google.colab.output.renderOutput(dataTable, element);\n",
              "          const docLink = document.createElement('div');\n",
              "          docLink.innerHTML = docLinkHtml;\n",
              "          element.appendChild(docLink);\n",
              "        }\n",
              "      </script>\n",
              "    </div>\n",
              "  </div>\n",
              "  "
            ]
          },
          "metadata": {},
          "execution_count": 33
        }
      ]
    },
    {
      "cell_type": "markdown",
      "source": [
        "Se puede observar que aunque el Saldo promedio es la variable que más resulta predictiva para el modelo, ninguna de las variables seleccionadas es capaz de tener un gran aporte en la predicción de la variable de respuesta. Así mismo, los valores de recall y precisión son muy bajos aunque el accuracy sea de 0.85\n",
        "\n",
        "Podemos ver que el modelo está calculando demasiados falsos negativos. No tenemos ningún verdadero negativo."
      ],
      "metadata": {
        "id": "j61rSGQvA_S7"
      }
    },
    {
      "cell_type": "markdown",
      "source": [
        "La tasa de malos de toda la tabla es la siguiente:"
      ],
      "metadata": {
        "id": "P5osTMJqR0Zt"
      }
    },
    {
      "cell_type": "code",
      "source": [
        "round((len(response[response==1])/len(response))*100,2)"
      ],
      "metadata": {
        "colab": {
          "base_uri": "https://localhost:8080/"
        },
        "id": "EZRvhhfETbrP",
        "outputId": "bb316b99-a707-4219-c926-625fa684b35b"
      },
      "execution_count": 61,
      "outputs": [
        {
          "output_type": "execute_result",
          "data": {
            "text/plain": [
              "14.67"
            ]
          },
          "metadata": {},
          "execution_count": 61
        }
      ]
    },
    {
      "cell_type": "markdown",
      "source": [
        "Usarémos GridSearchCV para encontrar los mejores parametros del modelo e intentarémos ejectuarlo de nuevo."
      ],
      "metadata": {
        "id": "My6wZMdsXn48"
      }
    },
    {
      "cell_type": "code",
      "source": [
        "def print_best_model(model):\n",
        "    \"\"\"\n",
        "    Prints the best parameteres, score and estimator for the model given.\n",
        "    \"\"\"\n",
        "    print(f\"The best parameters are: {model.best_params_}\")\n",
        "    print(f\"The best model score is: {model.best_score_}\")    \n",
        "    print(f\"The best estimator is: {model.best_estimator_}\")\n",
        "def get_scores(y, predicted, predicted_proba):\n",
        "    \"\"\"\n",
        "    returns the roc auc scores for the given predictions\n",
        "    \"\"\"\n",
        "    auc_score = roc_auc_score(y, predicted)\n",
        "    fpr_df, tpr_df, _ = roc_curve(y, predicted_proba) \n",
        "    return auc_score, fpr_df, tpr_df\n",
        "def get_confusion_matrix(y_test, y_predicted):\n",
        "    plt.figure()\n",
        "    random_confusion = confusion_matrix(y_test, y_predicted)\n",
        "    ax = sns.heatmap(random_confusion, annot=True, cmap=\"YlGnBu\");\n",
        "    ax.set_ylim([0,2]);"
      ],
      "metadata": {
        "id": "1MyjuTH9VaoV"
      },
      "execution_count": 62,
      "outputs": []
    },
    {
      "cell_type": "code",
      "source": [
        "param_grid_log = {\n",
        "    'C': [0.1, 1, 10, 50, 100, 200],\n",
        "    'max_iter': [200, 300],\n",
        "    'penalty': ['l2'],\n",
        "    'tol':[0.00001, 0.0001],\n",
        "}\n",
        "log_first = LogisticRegression(solver='lbfgs')\n",
        "log_grid = GridSearchCV(log_first, param_grid=param_grid_log, cv=10, verbose=1, n_jobs=-2)\n",
        "log_grid.fit(dataset, response)"
      ],
      "metadata": {
        "colab": {
          "base_uri": "https://localhost:8080/"
        },
        "id": "rgGzGygwVaru",
        "outputId": "787686b5-8d32-4bba-ff13-20c8b25a2916"
      },
      "execution_count": 67,
      "outputs": [
        {
          "output_type": "stream",
          "name": "stdout",
          "text": [
            "Fitting 10 folds for each of 24 candidates, totalling 240 fits\n"
          ]
        },
        {
          "output_type": "execute_result",
          "data": {
            "text/plain": [
              "GridSearchCV(cv=10, estimator=LogisticRegression(), n_jobs=-2,\n",
              "             param_grid={'C': [0.1, 1, 10, 50, 100, 200],\n",
              "                         'max_iter': [200, 300], 'penalty': ['l2'],\n",
              "                         'tol': [1e-05, 0.0001]},\n",
              "             verbose=1)"
            ]
          },
          "metadata": {},
          "execution_count": 67
        }
      ]
    },
    {
      "cell_type": "code",
      "source": [
        "print_best_model(log_grid)"
      ],
      "metadata": {
        "colab": {
          "base_uri": "https://localhost:8080/"
        },
        "id": "_-YGD_BuVauo",
        "outputId": "287cf222-cf5d-4791-b9ee-459f54f28709"
      },
      "execution_count": 68,
      "outputs": [
        {
          "output_type": "stream",
          "name": "stdout",
          "text": [
            "The best parameters are: {'C': 0.1, 'max_iter': 200, 'penalty': 'l2', 'tol': 1e-05}\n",
            "The best model score is: 0.8477156180859812\n",
            "The best estimator is: LogisticRegression(C=0.1, max_iter=200, tol=1e-05)\n"
          ]
        }
      ]
    },
    {
      "cell_type": "code",
      "source": [
        "best_log_estimator = LogisticRegression(C=100, \n",
        "                                        max_iter=200, \n",
        "                                        penalty='l2', \n",
        "                                        tol=1e-05, \n",
        "                                        solver='lbfgs')\n",
        "\n",
        "best_log_estimator.fit(X_train, y_train)"
      ],
      "metadata": {
        "colab": {
          "base_uri": "https://localhost:8080/"
        },
        "id": "CRg2ZDfiVaxe",
        "outputId": "1a5cc7b8-fefd-4838-998e-8de9d4518c61"
      },
      "execution_count": 69,
      "outputs": [
        {
          "output_type": "execute_result",
          "data": {
            "text/plain": [
              "LogisticRegression(C=100, max_iter=200, tol=1e-05)"
            ]
          },
          "metadata": {},
          "execution_count": 69
        }
      ]
    },
    {
      "cell_type": "code",
      "source": [
        "log_predict_test = best_log_estimator.predict(X_test)\n",
        "accuracy_score(y_test, log_predict_test)\n",
        "print(classification_report(y_test, log_predict_test))"
      ],
      "metadata": {
        "colab": {
          "base_uri": "https://localhost:8080/"
        },
        "id": "4r9EX5BqVaz5",
        "outputId": "b712cd05-6543-4de6-8288-d1a709e8dc85"
      },
      "execution_count": 72,
      "outputs": [
        {
          "output_type": "stream",
          "name": "stdout",
          "text": [
            "              precision    recall  f1-score   support\n",
            "\n",
            "           0       0.85      1.00      0.92      1713\n",
            "           1       0.00      0.00      0.00       294\n",
            "\n",
            "    accuracy                           0.85      2007\n",
            "   macro avg       0.43      0.50      0.46      2007\n",
            "weighted avg       0.73      0.85      0.79      2007\n",
            "\n"
          ]
        }
      ]
    },
    {
      "cell_type": "code",
      "source": [
        "get_confusion_matrix(y_test, log_predict_test)"
      ],
      "metadata": {
        "colab": {
          "base_uri": "https://localhost:8080/",
          "height": 273
        },
        "id": "LFgAeMmNWaid",
        "outputId": "e99fdbc2-e2e2-47de-f02d-75bb506ec4f7"
      },
      "execution_count": 73,
      "outputs": [
        {
          "output_type": "display_data",
          "data": {
            "text/plain": [
              "<Figure size 432x288 with 2 Axes>"
            ],
            "image/png": "[encoded data removed]"
          },
          "metadata": {}
        }
      ]
    },
    {
      "cell_type": "markdown",
      "source": [
        "Desafortunadamente, el desempeño del modelo no mejoró por lo que podríamos pensar que las variables seleccionadas no son las más adecuadas para predecir la variable de respuesta."
      ],
      "metadata": {
        "id": "gU9IvlpSX0BV"
      }
    },
    {
      "cell_type": "markdown",
      "source": [
        "# Tablas de validación"
      ],
      "metadata": {
        "id": "_Ewj7LZs_hb2"
      }
    },
    {
      "cell_type": "markdown",
      "source": [
        "**a. ¿Qué es un Score de Riesgo?**"
      ],
      "metadata": {
        "id": "21bGU_UN_peU"
      }
    },
    {
      "cell_type": "markdown",
      "source": [
        "Un Score de Riesgo consiste en asignarle un puntaje a un potencial deudor que a su vez, representa una estimación del desempeño del crédito para el banco. Se basa en la información del informe de crédito sobre las experiencias de crédito previas de un potencial deudor, como el historial de pago, las acciones de cobranza o las deudas pendientes, y determina qué tan viable es otorgar este crédito al solicitante. "
      ],
      "metadata": {
        "id": "nRi-7pc4_vZD"
      }
    },
    {
      "cell_type": "markdown",
      "source": [
        "**b. ¿Qué es una tabla de validación?**"
      ],
      "metadata": {
        "id": "3cPxt0kPD4IF"
      }
    },
    {
      "cell_type": "markdown",
      "source": [
        "Es una tabla de referencia en la que se comprueba el score de riesgo de un cliente. "
      ],
      "metadata": {
        "id": "Qow98p7GD72h"
      }
    },
    {
      "cell_type": "markdown",
      "source": [
        "**c. ¿Para qué sirven?**"
      ],
      "metadata": {
        "id": "2NrafCkmEL2f"
      }
    },
    {
      "cell_type": "markdown",
      "source": [
        "Estas tablas sirven para comprobar qué tan viable es otorgar un crédito a un cliente."
      ],
      "metadata": {
        "id": "Hlsr-aroEQSC"
      }
    },
    {
      "cell_type": "markdown",
      "source": [
        "**d. ¿Qué diferencia tiene una Tabla de Originación de una de Mantenimiento?**"
      ],
      "metadata": {
        "id": "UQ0z1e1fExeG"
      }
    },
    {
      "cell_type": "markdown",
      "source": [
        "La tabla de originicación califica la aptitud de un solicitante de crédito para cumplir contractualmente con las obligaciones de pago que asumiría si el crédito le fuera otorgado. La tabla muestra información brindada por el aspirante a crédito recibida a través de alguna solicitud, entrevista o documentos varios entregados y sometidos a validación. Mientras que la tabla de comportamiento permite dar seguimiento periódico al comportamiento del deudor a través de una calificación. Esta pretende calificar al deudor periódicamente, según su progresiva probabilidad de pago tras el otorgamiento."
      ],
      "metadata": {
        "id": "w0laD5jUE2A5"
      }
    },
    {
      "cell_type": "markdown",
      "source": [
        "**e. ¿En qué fechas fueron calculados los scores para la construcción de estas Tablas?**"
      ],
      "metadata": {
        "id": "bpJXQUu7GAqh"
      }
    },
    {
      "cell_type": "markdown",
      "source": [
        "Julio de 2017 y Julio de 2018."
      ],
      "metadata": {
        "id": "W0iDRo9jGEAL"
      }
    },
    {
      "cell_type": "markdown",
      "source": [
        "**f. Tomando como referencia la Tabla 2, cuál es la tasa de Morosidad (a Mora 90+) de la Cartera Bancaria a Julio de 2018**"
      ],
      "metadata": {
        "id": "PoRGl_dnGInl"
      }
    },
    {
      "cell_type": "markdown",
      "source": [
        "12.38%"
      ],
      "metadata": {
        "id": "AP2VDDAPHev8"
      }
    },
    {
      "cell_type": "markdown",
      "source": [
        "**g. ¿Qué es el KS?** "
      ],
      "metadata": {
        "id": "lzDglsvcHger"
      }
    },
    {
      "cell_type": "markdown",
      "source": [
        "Es el estadístico de Komogorov Smirnov. Consiste en medir cuan distintas son las funciones de distribución de buenos y malos clientes para cada valor de puntaje score. "
      ],
      "metadata": {
        "id": "nscSRHmlILnT"
      }
    },
    {
      "cell_type": "markdown",
      "source": [
        "**h. ¿Un KS de 42,05% para Originación es bueno o es malo?**"
      ],
      "metadata": {
        "id": "UFZjN8EOISYa"
      }
    },
    {
      "cell_type": "markdown",
      "source": [
        "Se considera que un modelo con un KS menor a 20% debe ser cuestionado y mayor a 70% sea, probablemente, muy bueno para ser cierto \n",
        "(Anderson 2007, 196). TransUnion, empresa líder en gestión de la información de crédito, mide la efectividad de sus scores de riesgos de acuerdo con los siguientes estándares internacionales: \n",
        "![Capture.JPG](data:image/jpeg;base64,/9j/4AAQSkZJRgABAQEAeAB4AAD/4RDuRXhpZgAATU0AKgAAAAgABAE7AAIAAAAMAAAISodpAAQAAAABAAAIVpydAAEAAAAYAAAQzuocAAcAAAgMAAAAPgAAAAAc6gAAAAgAAAAAAAAAAAAAAAAAAAAAAAAAAAAAAAAAAAAAAAAAAAAAAAAAAAAAAAAAAAAAAAAAAAAAAAAAAAAAAAAAAAAAAAAAAAAAAAAAAAAAAAAAAAAAAAAAAAAAAAAAAAAAAAAAAAAAAAAAAAAAAAAAAAAAAAAAAAAAAAAAAAAAAAAAAAAAAAAAAAAAAAAAAAAAAAAAAAAAAAAAAAAAAAAAAAAAAAAAAAAAAAAAAAAAAAAAAAAAAAAAAAAAAAAAAAAAAAAAAAAAAAAAAAAAAAAAAAAAAAAAAAAAAAAAAAAAAAAAAAAAAAAAAAAAAAAAAAAAAAAAAAAAAAAAAAAAAAAAAAAAAAAAAAAAAAAAAAAAAAAAAAAAAAAAAAAAAAAAAAAAAAAAAAAAAAAAAAAAAAAAAAAAAAAAAAAAAAAAAAAAAAAAAAAAAAAAAAAAAAAAAAAAAAAAAAAAAAAAAAAAAAAAAAAAAAAAAAAAAAAAAAAAAAAAAAAAAAAAAAAAAAAAAAAAAAAAAAAAAAAAAAAAAAAAAAAAAAAAAAAAAAAAAAAAAAAAAAAAAAAAAAAAAAAAAAAAAAAAAAAAAAAAAAAAAAAAAAAAAAAAAAAAAAAAAAAAAAAAAAAAAAAAAAAAAAAAAAAAAAAAAAAAAAAAAAAAAAAAAAAAAAAAAAAAAAAAAAAAAAAAAAAAAAAAAAAAAAAAAAAAAAAAAAAAAAAAAAAAAAAAAAAAAAAAAAAAAAAAAAAAAAAAAAAAAAAAAAAAAAAAAAAAAAAAAAAAAAAAAAAAAAAAAAAAAAAAAAAAAAAAAAAAAAAAAAAAAAAAAAAAAAAAAAAAAAAAAAAAAAAAAAAAAAAAAAAAAAAAAAAAAAAAAAAAAAAAAAAAAAAAAAAAAAAAAAAAAAAAAAAAAAAAAAAAAAAAAAAAAAAAAAAAAAAAAAAAAAAAAAAAAAAAAAAAAAAAAAAAAAAAAAAAAAAAAAAAAAAAAAAAAAAAAAAAAAAAAAAAAAAAAAAAAAAAAAAAAAAAAAAAAAAAAAAAAAAAAAAAAAAAAAAAAAAAAAAAAAAAAAAAAAAAAAAAAAAAAAAAAAAAAAAAAAAAAAAAAAAAAAAAAAAAAAAAAAAAAAAAAAAAAAAAAAAAAAAAAAAAAAAAAAAAAAAAAAAAAAAAAAAAAAAAAAAAAAAAAAAAAAAAAAAAAAAAAAAAAAAAAAAAAAAAAAAAAAAAAAAAAAAAAAAAAAAAAAAAAAAAAAAAAAAAAAAAAAAAAAAAAAAAAAAAAAAAAAAAAAAAAAAAAAAAAAAAAAAAAAAAAAAAAAAAAAAAAAAAAAAAAAAAAAAAAAAAAAAAAAAAAAAAAAAAAAAAAAAAAAAAAAAAAAAAAAAAAAAAAAAAAAAAAAAAAAAAAAAAAAAAAAAAAAAAAAAAAAAAAAAAAAAAAAAAAAAAAAAAAAAAAAAAAAAAAAAAAAAAAAAAAAAAAAAAAAAAAAAAAAAAAAAAAAAAAAAAAAAAAAAAAAAAAAAAAAAAAAAAAAAAAAAAAAAAAAAAAAAAAAAAAAAAAAAAAAAAAAAAAAAAAAAAAAAAAAAAAAAAAAAAAAAAAAAAAAAAAAAAAAAAAAAAAAAAAAAAAAAAAAAAAAAAAAAAAAAAAAAAAAAAAAAAAAAAAAAAAAAAAAAAAAAAAAAAAAAAAAAAAAAAAAAAAAAAAAAAAAAAAAAAAAAAAAAAAAAAAAAAAAAAAAAAAAAAAAAAAAAAAAAAAAAAAAAAAAAAAAAAAAAAAAAAAAAAAAAAAAAAAAAAAAAAAAAAAAAAAAAAAAAAAAAAAAAAAAAAAAAAAAAAAAAAAAAAAAAAAAAAAAAAAAAAAAAAAAAAAAAAAAAAAAAAAAAAAAAAAAAAAAAAAAAAAAAAAAAAAAAAAAAAAAAAAAAAAAAAAAAAAAAAAAAAAAAAAAAAAAAAAAAAAAAAAAAAAAAAAAAAAAAAAAAAAAAAAAAAAAAAAAAAAAAAAAAAAAAAAAAAAAAAAAAAAAAAAAAAAAAAAAAAAAAAAAAAAAAAAAAAAAAAAAAAAAAAAAAAAAAAAAAAAAAAAAAAAAAAAAAAAAAAAAAAAAAAAAAAAAAAAAAAAAAAAAAAAAAAAAAAAAAAAAAAAAAAAAAAAAAAAAAAAAAAAAAAAAAAAAAAAAAAAAAAAAAAAAAAAAAAAAAAAAAAAAAAAAAAAAAAAAAAAAAAAAAAAAAAAAAAAAAAAAAAAAAAAAAAAAAAAAAAAAAAAAAAAAAAAAAAAAAAAAAAAAAAAAAAAAAAAAAAAAAAAAAAAAAAAAAAAAAAAAAAAAAAAAAAAAAAAAAAAAAAAAAAAAAAAAAAAAAAAAAAAAAAAAAAAAAAAAAAAAAAAAAAAAAAAAAAAAAAAAAAAAAAAAAAAAAAAAAAAAAAAAAAAAAAAAAAAAAAAAAAAAAAAAAAAAAAAAAAAAAAAAAAAAAAAAAAAAAAAAAAAAAAAAAAAAAAAAAAAAAAAAAAAAAAAAAAAAAAAAAAAAAAAAAAAAAAAAAAAAAAAAAAAAAAAAAAAAAAAAAAAAAAAAAAAAAAAAAAAAAAAAAAAAAAAAAAAAAAAAAAAAAAAAAAAAAAAAAAAAAAAAAAAAAAAAAAAAAAAAAAAAAAAAAAAAAAAAAAAAAAAAAAAAAAAAAAAAAAAAAAAAAAAAAAAAAAAAAAAAAAAAAAAAAAAAAAAAAAAAAAAAAAAAAAAAAAAAAAAAAAAAAAAAAAAAAAAAAAAERhdmlkIE11bm96AAAFkAMAAgAAABQAABCkkAQAAgAAABQAABC4kpEAAgAAAAM2MwAAkpIAAgAAAAM2MwAA6hwABwAACAwAAAiYAAAAABzqAAAACAAAAAAAAAAAAAAAAAAAAAAAAAAAAAAAAAAAAAAAAAAAAAAAAAAAAAAAAAAAAAAAAAAAAAAAAAAAAAAAAAAAAAAAAAAAAAAAAAAAAAAAAAAAAAAAAAAAAAAAAAAAAAAAAAAAAAAAAAAAAAAAAAAAAAAAAAAAAAAAAAAAAAAAAAAAAAAAAAAAAAAAAAAAAAAAAAAAAAAAAAAAAAAAAAAAAAAAAAAAAAAAAAAAAAAAAAAAAAAAAAAAAAAAAAAAAAAAAAAAAAAAAAAAAAAAAAAAAAAAAAAAAAAAAAAAAAAAAAAAAAAAAAAAAAAAAAAAAAAAAAAAAAAAAAAAAAAAAAAAAAAAAAAAAAAAAAAAAAAAAAAAAAAAAAAAAAAAAAAAAAAAAAAAAAAAAAAAAAAAAAAAAAAAAAAAAAAAAAAAAAAAAAAAAAAAAAAAAAAAAAAAAAAAAAAAAAAAAAAAAAAAAAAAAAAAAAAAAAAAAAAAAAAAAAAAAAAAAAAAAAAAAAAAAAAAAAAAAAAAAAAAAAAAAAAAAAAAAAAAAAAAAAAAAAAAAAAAAAAAAAAAAAAAAAAAAAAAAAAAAAAAAAAAAAAAAAAAAAAAAAAAAAAAAAAAAAAAAAAAAAAAAAAAAAAAAAAAAAAAAAAAAAAAAAAAAAAAAAAAAAAAAAAAAAAAAAAAAAAAAAAAAAAAAAAAAAAAAAAAAAAAAAAAAAAAAAAAAAAAAAAAAAAAAAAAAAAAAAAAAAAAAAAAAAAAAAAAAAAAAAAAAAAAAAAAAAAAAAAAAAAAAAAAAAAAAAAAAAAAAAAAAAAAAAAAAAAAAAAAAAAAAAAAAAAAAAAAAAAAAAAAAAAAAAAAAAAAAAAAAAAAAAAAAAAAAAAAAAAAAAAAAAAAAAAAAAAAAAAAAAAAAAAAAAAAAAAAAAAAAAAAAAAAAAAAAAAAAAAAAAAAAAAAAAAAAAAAAAAAAAAAAAAAAAAAAAAAAAAAAAAAAAAAAAAAAAAAAAAAAAAAAAAAAAAAAAAAAAAAAAAAAAAAAAAAAAAAAAAAAAAAAAAAAAAAAAAAAAAAAAAAAAAAAAAAAAAAAAAAAAAAAAAAAAAAAAAAAAAAAAAAAAAAAAAAAAAAAAAAAAAAAAAAAAAAAAAAAAAAAAAAAAAAAAAAAAAAAAAAAAAAAAAAAAAAAAAAAAAAAAAAAAAAAAAAAAAAAAAAAAAAAAAAAAAAAAAAAAAAAAAAAAAAAAAAAAAAAAAAAAAAAAAAAAAAAAAAAAAAAAAAAAAAAAAAAAAAAAAAAAAAAAAAAAAAAAAAAAAAAAAAAAAAAAAAAAAAAAAAAAAAAAAAAAAAAAAAAAAAAAAAAAAAAAAAAAAAAAAAAAAAAAAAAAAAAAAAAAAAAAAAAAAAAAAAAAAAAAAAAAAAAAAAAAAAAAAAAAAAAAAAAAAAAAAAAAAAAAAAAAAAAAAAAAAAAAAAAAAAAAAAAAAAAAAAAAAAAAAAAAAAAAAAAAAAAAAAAAAAAAAAAAAAAAAAAAAAAAAAAAAAAAAAAAAAAAAAAAAAAAAAAAAAAAAAAAAAAAAAAAAAAAAAAAAAAAAAAAAAAAAAAAAAAAAAAAAAAAAAAAAAAAAAAAAAAAAAAAAAAAAAAAAAAAAAAAAAAAAAAAAAAAAAAAAAAAAAAAAAAAAAAAAAAAAAAAAAAAAAAAAAAAAAAAAAAAAAAAAAAAAAAAAAAAAAAAAAAAAAAAAAAAAAAAAAAAAAAAAAAAAAAAAAAAAAAAAAAAAAAAAAAAAAAAAAAAAAAAAAAAAAAAAAAAAAAAAAAAAAAAAAAAAAAAAAAAAAAAAAAAAAAAAAAAAAAAAAAAAAAAAAAAAAAAAAAAAAAAAAAAAAAAAAAAAAAAAAAAAAAAAAAAAAAAAAAAAAAAAAAAAAAAAAAAAAAAAAAAAAAAAAAAAAAAAAAAAAAAAAAAAAAAAAAAAAAAAAAAAAAAAAAAAAAAAAAAAAAAAAAAAAAAAAAAAAAAAAAAAAAAAAAAAAAAAAAAAAAAAAAAAAAAAAAAAAAAAAAAAAAAAAAAAAAAAAAAAAAAAAAAAAAAAAAAAAAAAAAAAAAAAAAAAAAAAAAAAAAAAAAAAAAAAAAAAAAAAAAAAAAAAAAAAAAAAAAAAAAAAAAAAAAAAAAAAAAAAAAAAAAAAAAAAAAAAAAAAAAAAAAAAAAAAAAAAAAAAAAAAAAAAAAAAAAAAAAAAAAAAAAAAAAAAAAAAAAAAAAAAAAAAAAAAAAAAAAAAAAAAAAAAAAAAAAAAAAAAAAAAAAAAAAAAAAAAAAAAAAAAAAAAAAAAAAAAAAAAAAAAAAAAAAAAAAAAAAAAAAAAAAAAAAAAAAAAAAAAAAAAAAAAAAAAAAAAAAAAAAAAAAAAAAAAAAAAAAAAAAAAAAAAAAAAAAAAAAAAAAAAAAAAAAAAAAAAAAAAAAAAAAAAAAAAAAAAAAAAAAAAAAAAAAAAAAAAAAAAAAAAAAAAAAAAAAAAAAAAAAAAAAAAAAAAAAAAAAAAAAAAAAAAAAAAAAAAAAAAAAAAAAAAAAAAAAAAAAAAAAAAAAAAAAAAAAAAAAAAAAAAAAAAAAAAAAAAAAAAAAAAAAAAAAAAAAAAAAAAAAAAAAAAAAAAAAAAAAAAAAAAAAAAAAAAAAAAAAAAAAAAAAAAAAAAAAAAAAAAAAAAAAAAAAAAAAAAAAAAAAAAAAAAAAAAAAAAAAAAAAAAAAAAAAAAAAAAAAAAAAAAAMjAyMjowNzoyOCAxMzo1Mjo0NQAyMDIyOjA3OjI4IDEzOjUyOjQ1AAAARABhAHYAaQBkACAATQB1AG4AbwB6AAAA/+ELHmh0dHA6Ly9ucy5hZG9iZS5jb20veGFwLzEuMC8APD94cGFja2V0IGJlZ2luPSfvu78nIGlkPSdXNU0wTXBDZWhpSHpyZVN6TlRjemtjOWQnPz4NCjx4OnhtcG1ldGEgeG1sbnM6eD0iYWRvYmU6bnM6bWV0YS8iPjxyZGY6UkRGIHhtbG5zOnJkZj0iaHR0cDovL3d3dy53My5vcmcvMTk5OS8wMi8yMi1yZGYtc3ludGF4LW5zIyI+PHJkZjpEZXNjcmlwdGlvbiByZGY6YWJvdXQ9InV1aWQ6ZmFmNWJkZDUtYmEzZC0xMWRhLWFkMzEtZDMzZDc1MTgyZjFiIiB4bWxuczpkYz0iaHR0cDovL3B1cmwub3JnL2RjL2VsZW1lbnRzLzEuMS8iLz48cmRmOkRlc2NyaXB0aW9uIHJkZjphYm91dD0idXVpZDpmYWY1YmRkNS1iYTNkLTExZGEtYWQzMS1kMzNkNzUxODJmMWIiIHhtbG5zOnhtcD0iaHR0cDovL25zLmFkb2JlLmNvbS94YXAvMS4wLyI+PHhtcDpDcmVhdGVEYXRlPjIwMjItMDctMjhUMTM6NTI6NDUuNjI2PC94bXA6Q3JlYXRlRGF0ZT48L3JkZjpEZXNjcmlwdGlvbj48cmRmOkRlc2NyaXB0aW9uIHJkZjphYm91dD0idXVpZDpmYWY1YmRkNS1iYTNkLTExZGEtYWQzMS1kMzNkNzUxODJmMWIiIHhtbG5zOmRjPSJodHRwOi8vcHVybC5vcmcvZGMvZWxlbWVudHMvMS4xLyI+PGRjOmNyZWF0b3I+PHJkZjpTZXEgeG1sbnM6cmRmPSJodHRwOi8vd3d3LnczLm9yZy8xOTk5LzAyLzIyLXJkZi1zeW50YXgtbnMjIj48cmRmOmxpPkRhdmlkIE11bm96PC9yZGY6bGk+PC9yZGY6U2VxPg0KCQkJPC9kYzpjcmVhdG9yPjwvcmRmOkRlc2NyaXB0aW9uPjwvcmRmOlJERj48L3g6eG1wbWV0YT4NCiAgICAgICAgICAgICAgICAgICAgICAgICAgICAgICAgICAgICAgICAgICAgICAgICAgICAgICAgICAgICAgICAgICAgICAgICAgICAgICAgICAgICAgICAgICAgICAgICAgICAKICAgICAgICAgICAgICAgICAgICAgICAgICAgICAgICAgICAgICAgICAgICAgICAgICAgICAgICAgICAgICAgICAgICAgICAgICAgICAgICAgICAgICAgICAgICAgICAgICAgIAogICAgICAgICAgICAgICAgICAgICAgICAgICAgICAgICAgICAgICAgICAgICAgICAgICAgICAgICAgICAgICAgICAgICAgICAgICAgICAgICAgICAgICAgICAgICAgICAgICAgCiAgICAgICAgICAgICAgICAgICAgICAgICAgICAgICAgICAgICAgICAgICAgICAgICAgICAgICAgICAgICAgICAgICAgICAgICAgICAgICAgICAgICAgICAgICAgICAgICAgICAKICAgICAgICAgICAgICAgICAgICAgICAgICAgICAgICAgICAgICAgICAgICAgICAgICAgICAgICAgICAgICAgICAgICAgICAgICAgICAgICAgICAgICAgICAgICAgICAgICAgIAogICAgICAgICAgICAgICAgICAgICAgICAgICAgICAgICAgICAgICAgICAgICAgICAgICAgICAgICAgICAgICAgICAgICAgICAgICAgICAgICAgICAgICAgICAgICAgICAgICAgCiAgICAgICAgICAgICAgICAgICAgICAgICAgICAgICAgICAgICAgICAgICAgICAgICAgICAgICAgICAgICAgICAgICAgICAgICAgICAgICAgICAgICAgICAgICAgICAgICAgICAKICAgICAgICAgICAgICAgICAgICAgICAgICAgICAgICAgICAgICAgICAgICAgICAgICAgICAgICAgICAgICAgICAgICAgICAgICAgICAgICAgICAgICAgICAgICAgICAgICAgIAogICAgICAgICAgICAgICAgICAgICAgICAgICAgICAgICAgICAgICAgICAgICAgICAgICAgICAgICAgICAgICAgICAgICAgICAgICAgICAgICAgICAgICAgICAgICAgICAgICAgCiAgICAgICAgICAgICAgICAgICAgICAgICAgICAgICAgICAgICAgICAgICAgICAgICAgICAgICAgICAgICAgICAgICAgICAgICAgICAgICAgICAgICAgICAgICAgICAgICAgICAKICAgICAgICAgICAgICAgICAgICAgICAgICAgICAgICAgICAgICAgICAgICAgICAgICAgICAgICAgICAgICAgICAgICAgICAgICAgICAgICAgICAgICAgICAgICAgICAgICAgIAogICAgICAgICAgICAgICAgICAgICAgICAgICAgICAgICAgICAgICAgICAgICAgICAgICAgICAgICAgICAgICAgICAgICAgICAgICAgICAgICAgICAgICAgICAgICAgICAgICAgCiAgICAgICAgICAgICAgICAgICAgICAgICAgICAgICAgICAgICAgICAgICAgICAgICAgICAgICAgICAgICAgICAgICAgICAgICAgICAgICAgICAgICAgICAgICAgICAgICAgICAKICAgICAgICAgICAgICAgICAgICAgICAgICAgICAgICAgICAgICAgICAgICAgICAgICAgICAgICAgICAgICAgICAgICAgICAgICAgICAgICAgICAgICAgICAgICAgICAgICAgIAogICAgICAgICAgICAgICAgICAgICAgICAgICAgICAgICAgICAgICAgICAgICAgICAgICAgICAgICAgICAgICAgICAgICAgICAgICAgICAgICAgICAgICAgICAgICAgICAgICAgCiAgICAgICAgICAgICAgICAgICAgICAgICAgICAgICAgICAgICAgICAgICAgICAgICAgICAgICAgICAgICAgICAgICAgICAgICAgICAgICAgICAgICAgICAgICAgICAgICAgICAKICAgICAgICAgICAgICAgICAgICAgICAgICAgICAgICAgICAgICAgICAgICAgICAgICAgICAgICAgICAgICAgICAgICAgICAgICAgICAgICAgICAgICAgICAgICAgICAgICAgIAogICAgICAgICAgICAgICAgICAgICAgICAgICAgICAgICAgICAgICAgICAgICAgICAgICAgICAgICAgICAgICAgICAgICAgICAgICAgICAgICAgICAgICAgICAgICAgICAgICAgCiAgICAgICAgICAgICAgICAgICAgICAgICAgICAgICAgICAgICAgICAgICAgICAgICAgICAgICAgICAgICAgICAgICAgICAgICAgICAgICAgICAgICAgICAgICAgICAgICAgICAKICAgICAgICAgICAgICAgICAgICAgICAgICAgICAgICAgICAgICAgICAgICAgICAgICAgICAgICAgICAgICAgICAgICAgICAgICAgICAgICAgICAgICAgICAgICAgICAgICAgIAogICAgICAgICAgICAgICAgICAgICAgICAgICAgPD94cGFja2V0IGVuZD0ndyc/Pv/bAEMABwUFBgUEBwYFBggHBwgKEQsKCQkKFQ8QDBEYFRoZGBUYFxseJyEbHSUdFxgiLiIlKCkrLCsaIC8zLyoyJyorKv/bAEMBBwgICgkKFAsLFCocGBwqKioqKioqKioqKioqKioqKioqKioqKioqKioqKioqKioqKioqKioqKioqKioqKioqKv/AABEIAJ0CkAMBIgACEQEDEQH/xAAfAAABBQEBAQEBAQAAAAAAAAAAAQIDBAUGBwgJCgv/xAC1EAACAQMDAgQDBQUEBAAAAX0BAgMABBEFEiExQQYTUWEHInEUMoGRoQgjQrHBFVLR8CQzYnKCCQoWFxgZGiUmJygpKjQ1Njc4OTpDREVGR0hJSlNUVVZXWFlaY2RlZmdoaWpzdHV2d3h5eoOEhYaHiImKkpOUlZaXmJmaoqOkpaanqKmqsrO0tba3uLm6wsPExcbHyMnK0tPU1dbX2Nna4eLj5OXm5+jp6vHy8/T19vf4+fr/xAAfAQADAQEBAQEBAQEBAAAAAAAAAQIDBAUGBwgJCgv/xAC1EQACAQIEBAMEBwUEBAABAncAAQIDEQQFITEGEkFRB2FxEyIygQgUQpGhscEJIzNS8BVictEKFiQ04SXxFxgZGiYnKCkqNTY3ODk6Q0RFRkdISUpTVFVWV1hZWmNkZWZnaGlqc3R1dnd4eXqCg4SFhoeIiYqSk5SVlpeYmZqio6Slpqeoqaqys7S1tre4ubrCw8TFxsfIycrS09TV1tfY2dri4+Tl5ufo6ery8/T19vf4+fr/2gAMAwEAAhEDEQA/APpGiiigAooooAKKKKACiiigAooooAKKKKACiiigAooooAKKKKACiiigAooooAKKKKACiiigAooooAK5b4jeKrrwT4HvfENnbQ3RsthaCUld4ZwvDDpjdnoa6mvN/j9PFF8FNcSWVEaRYlRWYAufNTgetRUbUbouCTkkzR0bxV4i1bSdB1OKw06WDUkt5rmCKV/NtopejgYwwB69OhNdedQsxeG0N3ALkAEw+aN4B6fLnNeR/DzWPDnhXwvpOpf27Hd3mraZp9lHpzX3myCcZXaikkouZOR0GDwKxtl9oXxmjNnNa+IdD1rXm8y1kx9q066AKswHUKFB5+6U4OODW0kvacq7v9NP6/Uxi/c5n2X5Xv8A1+h7BofjHR/EWqanY6TdxzvpswglZXBDPty231Azgn1qPw94huta1HVzNHZw6fZTmG3dLkSSyBeruBwgyDgHkjnivDfDMnh/S/DHxVt9Zjlgmi1C5zHYqqXSQEgfISDtUkgZPFXfhxqqyfHC2nmurZILzwpFsCSZVgu3Cs5wJHVVO5gByG4GKzTvZ+Sf3pv9LfMuWl/X8ml+tz3xdU09niRb62LTMViUTLlyOoHPJ+lUvEuuR6Fod3dLNbC6it5JoYJnx5xRSxUDOT07dK+UbEabb/DDSr+I28d+njQYnBAkWMLng9Qvf0r0TxBqFvafFf4hx+K5Y0W88PhNI+0fdlj2A7YvU7+cDnIPpSlfl07P/wBJT/UqK96z/r3mv0PWfAvjJfFfw9sPE2oxw6ct0jM6mX5I8OV+8celb66jZNZrdreW5tn+7MJV2N9GzivnbRNY02x+D/wz864mW9GqOLUi4EdtHJ5jAm4ODlQGB2jBOTyOtZ+l3Ua/s+/EqzubiLzIdYk2xH5Nu50xhCcqCQcD2NXUsnO3S/4W/wAyKeqjfr/wf8j6ciu7aeZoobiKSRVDsiOCQp6HHofWkub60s2jW7uoYDK2yMSyBd7egz1NcZ8LfC+g6d4V0nXNLtYxqF9pVulzdrIWMuEBwecZB4/ADsK4DxcY7n44a9o3i7VY9J0zVtES20+6ukBTbwXWNmICtuyfqB7USXLPk9fwuEXzR5vT8bHuM2oWdvcJb3F3BFM43JG8oVmHqATk1lW3jDR7zxhd+G7W7jkv7OFZJwHGELEgJ7tgZI7DFeI+LbW/8NeKY9U0jUI/EdpJHp9jqmk6gu25chU8mVAfmySQcjkMTkEZxp6KdH0z47/ET+1Ylt2azjmtljjAmx5WXeHjO7GTkd6V1f8A8C/D+rj1t934nt8Oo2VxdyWsF5by3EX+shSVS6fUA5Fcv8SfHQ8D+Er3VbMWt5d2fls9lJLtZkZwmeORy3XFeIeDtWtn+IfwzuLK5EWneVeWsHnTb5guXASaQAKXJIIUAYBXrnNZ+t30CfDH4j6d4kkjHiZtfWbypv8AXMm9ArKOu0DcM9ACPUUpXS0/qzS/W4425rPy/FP/ACPok+JdRur7QLbTLO1f+0IBcXsk1xt+zJtUgKvV2OTgegJNbn9r6dic/wBoWuLYMZv3y/utvXdzxjvmvDr+7s5PjZ8NmW5jwdBdWeNxkZhcDn19KzvBVtf6fqd74Zm+x+JdJl0O7n0vU4VDSxROdxjlHXJcD5W5DdD1qqmnNbpzfg3/AJEw1tf+7+P/AA56rcfEF9W8GprPgWCy1OaS6MKQ3d4tuGjWQoz5J9FyB1wfwrr59QtLMwre3UFu8x2xrJKF3n0GetfKt3PpI/ZR0uKBrUagmqILkKFEgPmykBj1yF5wegPoa7m7k0bUPi94o0T4iXCQ6ZrOmWo0q4lm8tGiTDbY36Al+eOpFO3vOK7/AKJhfS7/AK96x7lcX9nZyRR3d3BA8x2xrLIFLn0APWp2ztO0gHHBIzXzx4kU2nir4kJrjEQyeG449G+1E5eLaAAm7ktvxkdd3vXsPw5XU4fhnoI8Ql1v0sU8/wA4/MOON2e+MZzSWsb/ANdf8tRvR2/rZf5mD4N+JV14h8WeKtL1W2s7C18Ny+VJciRv3vzMN3PCj5M9+taV14x1PRPCeteJfEOnxRadYqz2kUW4TXCA4VmVv9XuJHByQDk46V4LZ6BdeLPF/wAS28Oa41nqVlqa39ksVwFS5MckpwecHHBB6A4r07wv8X9D8afC27l8QwRTXluiW+q6djJkRmVGkRRyVIYnA6EY9DUK8qd1vZfj1+/7vybsqjT2v/SOx0fxLq+pW+iX0MWm6jpuqkeZcWMjf6JmNmwQc7xkBSflwT93066vn/S/B/8AwgPxO8PzfDHxA99o+s3JW90rzhKscIGWkJH8IHQkZBwMnNfQFaOzV0RrezCiiipKCiiigAooooAKKKKACiiigAooooAKKKKACiiigAooooAKKKKACiiigAooooAKKKKACiiigAooooA4jTvH+raxYR3+keBdYurKbJhmF3ZpvAJGdrTAjp3FWv8AhLPEn/RPNY/8DrH/AOP0nws/5Jfon/XFv/Q2rrqAOS/4SzxJ/wBE81j/AMDrH/4/R/wlniT/AKJ5rH/gdY//AB+utooA5L/hLPEn/RPNY/8AA6x/+P0f8JZ4k/6J5rH/AIHWP/x+utooA5L/AISzxJ/0TzWP/A6x/wDj9H/CWeJP+ieax/4HWP8A8frrc0m6gDk/+Es8Sf8ARPNY/wDA6x/+P0f8JZ4k/wCieax/4HWP/wAfrq99AkFAHKf8JZ4k/wCieax/4HWP/wAfo/4SzxJ/0TzWP/A6x/8Aj9dXvFLmgDk/+Es8Sf8ARPNY/wDA6x/+P0f8JZ4k/wCieax/4HWP/wAfrraKAOS/4SzxJ/0TzWP/AAOsf/j9H/CWeJP+ieax/wCB1j/8frraKAOS/wCEs8Sf9E81j/wOsf8A4/R/wlniT/onmsf+B1j/APH662igDkv+Es8Sf9E81j/wOsf/AI/R/wAJZ4k/6J5rH/gdY/8Ax+utooA5L/hLPEn/AETzWP8AwOsf/j9H/CWeJP8Aonmsf+B1j/8AH662igDkv+Es8Sf9E81j/wADrH/4/R/wlniT/onmsf8AgdY//H66zNIWwaAOU/4SzxJ/0TzWP/A6x/8Aj9H/AAlniT/onmsf+B1j/wDH66vzBRvBoA5T/hLPEn/RPNY/8DrH/wCP0f8ACWeJP+ieax/4HWP/AMfrrN1GaAOT/wCEs8Sf9E81j/wOsf8A4/TB4m8QCTzB8ONWD4xu+22Gcdevn12FFAHHf8JNr5Lk/DjVsyDD/wCmWHzfX9/zSjxN4gVlZfhxqwZV2qReWGQPT/X9K7CigDkv+Es8Sf8ARPNY/wDA6x/+P1G/ibX5WBk+HGrOVBALXlgcZ6/8t67GigDj28T+IGChvhzqxCHKg3th8p9v39KvijxChYp8OdXUscti9sBk+p/f119FAHJf8JZ4k/6J5rH/AIHWP/x+mP4n8QSMpk+HGrOUOVLXtgdp9R+/rsKCaAOPPibxA0iu3w41YupyGN7YZHb/AJ70f8JR4h8zzP8AhXOrb8bd322wzj0z59deTik3igDkB4k15dm34b6qPLyUxeWHy/T9/wAUN4l19pC7fDfVS5ABY3lhk45H/Leuu8wUu+gDk/8AhLPEn/RPNY/8DrH/AOP01PE/iCNmaP4caspbG4re2Azj/tvXX5paAOQTxR4hjBEfw51dASSQt7YDJ9f9fSP4n8QSMjP8ONWZkOVJvbAlT7fv+K7CigDj38TeIJGUyfDjVnKHKlr2wO0+o/f8U/8A4SzxJ/0TzWP/AAOsf/j9dbRQByX/AAlniT/onmsf+B1j/wDH6Q+K/EZ6/DvWD9b6x/8Aj9ddRQBx6eJvEEbu8fw41ZWc5ZlvLAFvr+/5p/8AwlniT/onmsf+B1j/APH662igDkv+Es8Sf9E81j/wOsf/AI/R/wAJZ4k/6J5rH/gdY/8Ax+utpM0Acn/wlniT/onmsf8AgdY//H6P+Es8Sf8ARPNY/wDA6x/+P11ZbFG8UAcp/wAJZ4k/6J5rH/gdY/8Ax+j/AISzxJ/0TzWP/A6x/wDj9dWHBpQc9KAOT/4SzxJ/0TzWP/A6x/8Aj9H/AAlniT/onmsf+B1j/wDH66zNLQByX/CWeJP+ieax/wCB1j/8fo/4SzxJ/wBE81j/AMDrH/4/XW0UAcl/wlniT/onmsf+B1j/APH6P+Es8Sf9E81j/wADrH/4/XW0UAcl/wAJZ4k/6J5rH/gdY/8Ax+j/AISzxJ/0TzWP/A6x/wDj9dbRQByX/CWeJP8Aonmsf+B1j/8AH6P+Es8Sf9E81j/wOsf/AI/XW0UAcl/wlniT/onmsf8AgdY//H6P+Es8Sf8ARPNY/wDA6x/+P11tJmgDk/8AhLPEn/RPNY/8DrH/AOP0f8JZ4k/6J5rH/gdY/wDx+ur30nmCgDlf+Es8Sf8ARPNY/wDA6x/+P0f8JZ4k/wCieax/4HWP/wAfrq94PSlzQByf/CWeJP8Aonmsf+B1j/8AH6P+Es8Sf9E81j/wOsf/AI/XWiigDkv+Es8Sf9E81j/wOsf/AI/R/wAJZ4k/6J5rH/gdY/8Ax+utooAwfDXid9fuNStbrSbvSbzTZUjnt7l4nPzoHUho2ZTwfWt6uS8M/wDJQfGv/Xzaf+kqV1tABRRRQByPws/5Jfon/XFv/Q2rrq5H4Wf8kv0T/ri3/obV11ABRRRQAU0mlY4qF3wpNIYrOBULS46VxHjv4maf4RU26D7ZqTLlbdW4UerHt9OteKav8SPFWtTuz6lJaxE8Q2x2BfbI5NYyqxi7M9LDZbWxC5loj6dNxjvR9pGetfJP9t60G3DVr7Pr9of/ABra0b4leJ9GmUtfPewL1huTuBH16io+sJvY66mS1oq8ZJn1AtxnvUqSZrz3wd8QLDxXBtjPkXiDMlu55HuD3FdlDcZxWyknsePUpSpS5ZqzNYMKdVSKXNWVbNWZWHUUUUxBRRRQAUUUUAFMJpGbANVLq8jtYHmnkWONBlmY4AFJtJDS1JmlAqJp/evM9d+ItzcyNBoS+VHnH2hx8zfRT0rmZdT1a6ctPqNyxz/z0IH6V5dXMqUHZano08BUmrvQ9v8AtHvTluPevDE1DVbZg0OoXKkf9NSf510OkePrq3dItZXzY+86j5h9R3opZlSm7PQKmAqQV1qerJLnvUytmsG01GO4iSWB1eNxkMpyCK0oZ9xFekmnqjz2raM0AaWokfIqQGrJFooooAKKKKACiikNAAeKjZwKa74rifHnxH0vwVa4uD9ovpFJhtUPLe7H+Ee9S2ikrnZPMB3qIz89a+Wtd+K/izXbh2XUH0+3b7sFqduP+BdTXOnxBrZfedYvy3r9pf8AxrnddX0NFTZ9jfaPenrPnvXyfpHxJ8V6NKrR6pLdRKeYbo+YGHpk8/lXs/gf4oWHi1RbSj7HqSjLW7HIYeqnv9OtXCqpCcGj09Zc1KrCsmG5DLV2KXOM1qmQy4DRTFbNPFUSFFFFABRRRQAUlLTGbFACk1C8gFRXFwsETSSuERQSWY4AFeU+KPitI00lp4aQMF4N247/AOyO/wBTUNkzqRgtT1Vp/Q037R7186XGv69fOWudVu2PcCUqPyFMj1bWbdw0Gp3akf8ATZj/AFpNnN9bhe1j6OW45qRZvevE9C+Jmo2Miw62v2uDPMyjDoPp0NeoabrFvqNrHc2cqywyDKspp8x0wqRmtDo1cHrTwcms+KfNW0fgVSLsT0UgOaWmIKKKKACiiigApCaCeKid8CgBzNjrUDTAd65zxf4107wnYCa+ffNJkQwJy0h/oPevEtc+KHibWpm+z3B063PSK36/i3U1tSw86uxyYjGUsPpJ6n0WbjnrSfaPevlVtY1qQ7pNVvmb1Nw3+NX9P8ceJ9KlUw6pNKgPMcx3qfzroeBqJaM4Y5xSbs0fTqz56Gp0lyOteX+DviZa+IJFtL5RZ356Jn5JP90+vtXfQXOe9cM4yi7SR69KpGrHng7o11YGn5qlFKDVpWyaRY+iiimI5Lwz/wAlB8a/9fNp/wCkqV1tcl4Z/wCSg+Nf+vm0/wDSVK62gAooooA5H4Wf8kv0T/ri3/obV11cj8LCP+FYaJ/1xb/0Nq67NABRRmkNADHbFcd8Q/Fi+FPC896uDcyfurdT3cjr+HWusmbivn/456k9x4lsdP3fu7eDzCP9pj/gKyqy5Y3O7A0Pb14wex5vNPPf3kt1eStNPMxeSRjksTTxGBTYl+XmrMdvNLG8kUMron33RCQv1PavM1Z99CMYK2xFsFMaIYqwIZWt2nWKQxKcNIFO0H3NPawvFEJe1mUT/wCqzGf3n09aNSm43sU7S8udKv4r2xlaKeE7lZf5fSvovwl4lTxDoVvfpw7jbIo/hcdRXzlMuCQRgjrXoXwf1Fo7i/sGPyELMo9D0P8ASt6UrOx4eb4eM6XtFuj3m3nyBV+JsisCylzjmtmBsgV3RPj2XQeKWmKeKdmrJFoozRmgApCcUZprn5aAIZn4Irybx54gk1LVG0u3ci1t2xIB/G/v9K9J1e6+yadc3H/PKJn/ACFeIWkUt07yiN5GJLOVUnGeTXj5nWlCChHqepl9JSlzy6EsEA21bWIClijby2dUZlX7zAcD6mgNkgDknoBXyTcmz6FWQ1ohVWe3B5q+EkMnliNi/TaFOfyppgnkD7IZG8v7+FJ2/X0pxckwbRN4U1p9MvxYyufs8x+Xn7rf/Xr0u1ud2Oa8YvEeHZLtZT95TjGa9L0i98+0gkz99AT+VfU5dWcouEuh4GPpJSU11OyglyBzVxDmsa0kzitWJuBXso8onopAaXNUIKKM0ZoADUbninZqGY4oA5zxr4oh8KeGLrVZvmaNdsSE/fkP3RXyZqWpXetapPqOpTNNc3Dbndv0H0Feu/tB6oxl0jSlYhCGuXHqfuj+Rrx4wyRKjSxuiuMoWUgMPUetcNaV3ZHRTVlcRVpcCnyRyRECRGQkZAYYyOxp6WlzJAZo7eVohnMioSox15rlNCArRFPPZXUV1aSNFPCwdJFOCpHepjbzrbi4MMghJ2iQodpPpnpmnT6ZfwzJFNZ3CPIpdFaIgso5JAx0qo3TA+h/AHi7/hJvDkNzIQLqM+XcKP747/j1ruracEDmvnD4Pam1t4lurHdhLiHdt/2lP+Br32ymyBzXbTldGEkdHFJmrAPFZ9u3Aq8h4roWxmPopM0uaYgoozSZoADxUEr4qVjxVG8mEULu33UUsfwpMd7HlHxU8VyT3n9gWUhWJADdEH7xPIX6d/xrgYIQFpzNPq2qXN0EeV5ZWkbapbGTVqOFwWXy23L94beR9aUTxK9RzlcasYA6UpjBFOzT2t51ZFeGQGQZQFT8w9vWnY5vMozRA1reDtfl0HV1t5JD9iuGw6nojHow/lVZbO5ld44reV5EGWRYySv1FZl3C6xh2RgrE7WIwDj0qWjpozcXc+grS6zjmteCYHHNcF4W1FrzRLOZzlmiGfqOK6+zkzioiz3N43Rtoc1Jmq0LfLVgGthC0UZozQIKKM0maAGucA1jeINZg0LRrrUbs4it0LEf3j2H4nitaQ9a8j+OOpNFolhp6tgXM5d/cKP8SKqnHnmomNeo6VJz7Hkur6ve+JNYm1LUpDJNKeBnhFzwo9hTI4hio4E4q5FG8rrHEjO7cKqjJP4V9TRpxjE+Eq1JVJtsZsFMaEHNWBbXBaRBBKXiz5gCH5MevpR9lufsn2nyJPs+cCXYdufr0rZ8pkoyXQzZFaJ1kiYo6HcrKcEH1r234feLX1/RNt0+by1ISb/a9G/H+leN3MLxsUlQo46qwwRW58Or9rLxisQJCXMbI31AyP5GvJx9FOHMt0ezleIlCsovZn0NbT5A5rSifIrm7GfIHNblu+QK8CLufYNGgp4p1RoakzWhJyXhn/koPjX/AK+bT/0lSutrkfDH/JQfGv8A182n/pKlddQIKKKKAOJ+G1ot38LdDVpJY8RMcxOVJ+dq6T+xo/8An6vP/Ahqw/hZ/wAkv0T/AK4t/wChtXXUrAZv9jR/8/V5/wCBDUHRosf8fV5/4ENWlSGiyGY02kxBT/pF2f8At4avn74w2Zs/G8Z3SOklspVpG3Hgkda+kLgcHFeRfGjw69/osOrW6FpbEnzAB1jPU/gcVhWjeGh6WW1VTxKbPOfANvpl34stY9YZfLwTEj/cklH3FY9gTXY+G21+zGqahPbv/Z8c00Q061jDLNM2RjA/gHqeK8nic8EHBHIIPSrkd/dRrtiuZUUnJCyEAmuFOx9dWw0qrbvvbfX7vU9W0gIvhvT1Kqukf2Vcm/XGEE2eN3+10xVHR9Zm8QacpmjjtJd/lWsm8v8AvVh2syL2wi9B1ZhXmgnlELQiV/LY5ZNxwx9SKjE8qbNsjjyySmG+6fUVftGzD+z073evQ0PEektouqG1ebzt0ayhiu1gGGcMOx55FbnwutvO128kLOqpCFJRsclv/rVxk87yuXldndjksxyTXrXw30VtO0Tz7hSs12RIQeoXGB/jRFa6GOY1OTDcknq9D0Cx09DjM9z/AN/mrdt9KjIH+kXf/gQ1Z1gvIrftxwK74o+PluNXR4/+fq8/8CGp39jR/wDP1ef+BDVfXpT6uyIM3+xo/wDn6vP/AAIaj+xo/wDn6vP/AAIatKiiwjN/saP/AJ+rz/wIamPpEYU/6Vef+BDVq1HJ0osgOS8QaSp0W8CT3TN5LYDTEg8Vxfgf7fFC93H5n2GBsyRRrkysRgLj0r029UOjBhxjBrxjVILnQtbntFkkSIsXj2sQCp6V5GPXI41ex6mDtOLp9zu9HYm0ssRiO3aWf7cgGAvBwGrE0eHTV1WCU3qkRhpGSVdihh90ZPXn+Vc7HcybGXzGCv8AeG7r9afweteFPEJuL5dv+AepHDtKVpbndS24t7u9ktnja+msVkj8psksT8xFQ3WoeTr8lnAkZMgWSV92AjeXhiwHUYJ49a443EpkDmV96jCsW5A9KqyTspJ3Nk9TnrWv1y/wqxCwn8zua3irT/8AQRqMc37lQiRxbcAIRwFPfpz7mtPQ7JfsFvulnU7BwshHauNgWbUr2G13M0ancQTwo716Hp8eAoAwBwK9TBJSbmla5w4puKUG72Nqz06MqP390PpO1bEOkxMv/Hzef+BDVVsV+UVsQdK9mJ5TK/8AY0f/AD9Xn/gQ1L/Y0f8Az9Xn/gQ1aI6UtVYRm/2NH/z9Xn/gQ1H9jR/8/V5/4ENWlRRYRm/2NGP+Xq8/8CGqvNpMf/Pzdn/tu1bB6VWm6UWQz56+NWlKPGOiCS4ZILiLymmnkJCfOcnJ9mzVrxzZ2Y0Sw1XRn069W0vY7WyRG83fGqDCFehy2SR711Pxl8OPrnhP7TbJuudPbzlA6smPmH9fwr55ivbj7Klus8ghjfzEjDnarf3gPX3riqaNm8dT0T4g2kdx4u0+TxDLJpsU2lQlpUti37wLyoUY7n8Kv6BMmpfDy70a3l1Owgs47ic6iFEdvcAnhWz1yO1eYT3VxclTczyS7ehkctj86kOoXhsRZm7mNqrblgMh2A+u3pWN9bltXR7FcskPhW5crGdAj8PRSWuVBj+17s8f7ec59qo2+pzeLNFMsiixurmK5NuyFp5fLJXzyg4PJARVHbdXkzXExgEBmcwhtwj3HaD646VEbuaJ43jmkV4xhGDEFR7enWq5rsnlO58H6E+l/E25095/MFnG4aWI7c5Ax9OvSvaLCwQ4/f3H4TGvL/hZoslvYTarc5829I2Fuuwd/wATXrWnJyK3pqxMjWttLjIz9ou/+/7VoLo8Rx/pN5/4ENTbUYWtGPoK6UYlL+xo/wDn6vP/AAIaj+xo/wDn6vP/AAIatKinYRm/2NH/AM/V5/4ENR/Y0f8Az9Xn/gQ1aVFFgMttIjA/4+rz/wACGrM1LSEazmVbi6LNGwGZ2POK6N+lZ90ODSew7vY8R+H101rd3loIL1pLrZB59ovMHzcsSen/ANY1u6PFcpceI7G3AvIlilBuRHl5H7Dd/SuX8WWd54a8T3a2s0sFtfEyr5blQwJ5U49CTWXbXksSkRSugPUKxGaUWeTOTg7djqPC9lpE+tad9qumkkaQmS2eLC8BiBuPB5A4966UW6DWBfq9yl7c2U5t7a7I8yF14XaO2ewrzUHkEZyO+aV7iZ5vNeVzIMfOWOfzq7mMKiStY7+71eax1qwtooBLf3VrAbjLlGEq5OWI/UGsHxfpa3Ok/wBo210ptbeIeVGIyFKlypO7puLAtj0IrmJbh/MMhkbzD1bPJ/Gq8CXGpXUWnxSOUd87dxwvqcfSobNYT53y2PQvCVmDoVoXkmUlM4WQgcmu1stNjYD9/df9/wBqw9LtlhhjjjGFRQAPSupsV+UVlE9pK0Ui5BpUZH/HzeD/ALeGqyNGi/5+rz/wIapoPu1aFb2IM/8AsaP/AJ+rz/wIaj+xo/8An6vP/Ahq0qKLCM3+xo/+fq8/8CGo/saL/n6vP/Ahq0qDRYDHl0mMD/j5vP8AwIavH/jVp/2ZdJnV5nj3SITJIWwSAR/I17fMOtcL8SfD7eIPCc8Nuu65hPnQj1YdvxGRW1GShUTObFwdShKKPD/D3mtrdmLeGOeYzKEilHyuc9D7V6dY2OhWmqa7JpUc9xcI0USx2mC8Bf75jJ7A968bglZfVWB/EVdiupYn3wyvG+D8ysQa+glT9qtJHyFOsqDs43/4Y9a0qxOnSPbaTcNdMuthb6UkMzQbc/OfTk59xWRYa3DdS3diIIxpto5RXLnY6+aTGu3pksevoK88S4mi3+VK6eYMPtYjcPeozKwUqGIUnJGeKn6t3dy/ri0UVZG/4x0ibS71Z7m6NxJdl2bchRgwbB4PY9j6Vn+DoftPjCzUFgF3sSpwQAprKubmSX5ppGkYDGXbPFdp8NtJbfPqky4D/uofcfxH+Vc2LqclFxb1OjAU/a4pOK03PTrCwRgMz3P/AH+Nb9rpcZA/0i6/CdqzNPXpXQ2gwBXz8Uj7GQqaPGRn7Tef+BDVJ/Y0f/P1ef8AgQ1XY/u1LWtkQcZ4QgFv468aRK7uBc2nLtuP/HsneuzrkvDP/JQfGv8A182n/pKldbTEFFFFAHI/Cz/kl+if9cW/9DauurkfhZ/yS/RP+uLf+htXXUAFIaWigCtKvWsq/t1njeORQyOCGUjqK2nXNU54s1LKR84+OPhxd6HdS32jxNcaexLNGoy0H19R71wwkxX1jdWu7OR+lcZrXw/0LVZjLc2CrL3khJjJ/I4/SuOdLsfQ4TNnCPLVV/M8C8ymNJk4HUntXsJ+FGhhs7rvHoZR/hWrpfgjR9Ik32dkvmf89JCXb9en4VmqTOyec0uX3U2zz3wj4FuL24jvtXjMdupDJC4wZPQn0FevWdtjAAwB0FSQ2XP3a1bW0xW8YWPAxWKnXlzSLFlDjFbEK4UVXt4cdqvxJiuiJwtkqjinUUVZIUUUUAFMfpT6Q80AZ9wmc1yHijw7HrNsBny54+Y5PT2PtXbypms+5g3CsakFUjys0hJwd0eG3VvdaZcGC9jaNh0J6N7ilW5HrXq2oaXDcxlJ4kkX0Zc1zFx4M0/d+7SSMHsrnH614VbLHf3GezTzBW95HIPcjHWoY1nvpvKtULnv6D611y+ELFW+ZZJPZn/wrVttKjt0CQxqijsBU0stkn746mPVvdMfRdFWxj/vyt99/WupsrbGKW2ssdq17W12mvap01BWR5M5uTuyzaxbQK04V4qGGPpVtFxXUjBjxRRRTEFFFFACYqGZeKnpjrxQMxruEOpBGQa8A+IfwuudPu5tV8OxGa1c75LZBlovUj1H8q+jJo6y7q1DZ4/SsqkeZGilY+OQ/ZuCOCDTtwr6R1/wBoOtyeZfacnm9pIiY2/NcZ/GuXf4PaAHOGvAM9PNH+Fcnsma8x4oZOPX6V2HhDwFd61Ol5qcbW9iCGCsMNN7D2969P0r4eaDpEoltrEPMOjzMXI/Pj9K6WCxwcAcdsCqVMXMVbCxWKNI41CogAUDsK6OxtyMVFbWeO1bFtDjFbxRnJli3TAq8owKiijxU46VuZi0UUUCCiiigBrDiqVwuc1eNQyoDSY0cV4r8NweINNa3m+WRSWilA5RvWvGNU0q+0G7MF/EVXJCSD7rj1Br6LuYc5wKxL/TIrmMx3EKSIequuRWbVtTKrRjU9TwhLkYFK1wOea9Hu/h7o0khaKCSDn/AJZyHH5HNVk+H2lRtllmk9mkOP0pcxyfUpXPPYknv5xBaRtJIegWu88NeGxpkZklw9zIPmYfwj0Fb9lotvZpstYViX0UdfxrVt7IjtUO7Ouhho0tXuJZW5BHFdBaRkKKr2trt7VqwRelaRjY6GyxAMCrApka4FSVqZhRRRQAUGijNAEMgzWddRZBzWowqrNHuFJlI8P+IHw7mN1Lq2gRbi53TWqjknuy/wCFeZeaUYpICrqcMp4Ir6purfOeK5TXPB+k6z81/ZI7/wDPRflb8xiuyjjJUlZ6nkYrK4VnzQ0Z4IJRjrUbTCvWJfhZo24lWulHp5oP9KtWHgDRdPlEkVp5kg6NMxfH4Hj9K6pZlC2lzz4ZNVb1aR514d8J3muzJLcI0FlnJdhzJ7D/ABr17TNPjtoI4IECRxqFVR2FWoLDbgBePYVqW1njFeRWrTryvI+gw2Fp4aNo79yaygwBW3bpjFVbeDaBWjEmKUVY6GyZBgVJTR0p1WQcl4Z/5KD41/6+bT/0lSutrkvDP/JQfGv/AF82n/pKldbQAUUUUAcj8LP+SX6J/wBcW/8AQ2rrq5H4Wf8AJL9E/wCuLf8AobV11ABSGlppNACMRUMmDXN+N/GsXgyzsrie2a4W6uBCQrY2DGS34AVWXxzby/EA+GYoSx+z+cbjdxnGduPoQahyV7MvlZ0csYNU5bZWqCz8S6Pqd9NZ6fqVtcXMGfMijlBZccGsmPxrp974tttF0y4t7wPHK08kUu4wsmOCB60m0CuabWYz0pBZjPSqN34u0ptK1O40m9tr+fToHleGOUHBUd8fTFSjxVpFtaafJqt/a2U99CkkcMsoBO4Dpn3OKV4j1NCO0A7VchhAHSq15qVlpdp9q1G6itoMgeZKwVcnpzUNv4o0O40ufUoNVtJLK3bbLOso2IfQn8qNBam3GoFTrWXpesWGsWa3elXcV3bsSBJE24ZHUVoI9WtSWWKKapzThVCCiikNAATTSwxQx964vU/Gt6nia60XQtG/tKayiWS4JuVixu6BQfvHH4VLkluO1zsWNQOoNY134t0awvIbPU9RtrO9mCkW0ko3gnoKybr4gaf52s2li8Ml7pSZMc0wRZCPvc9gOhNS5JFWZ0ksIOeKpyWgPaqr+LdHgntLW+1C1t726jR0tzKCSW6AfU9PWsLTviHY3mq6ot5c2Fpp9jIYhLJcfO5Bxnb0wealyQ9ToPsYz0p62Y9KhbxJog0caq2qWosC20XHmDYTnGM+tVIvG+hy+ILTSYLyKWS7txNFIjgq2Two9SetF4hqbcVuB2q5HGAelZFp4n0S9uLiCy1S1nltgWmSOUEoB1J+lVR4zsbnUdPt9GubO+jupzFK6XABj+QsMD+I8dKacRWZ1a4FSoawbTxPo97qkum2ep2017DnzIEkBZcdePatdZKtNdBMs5paiUmpBVCFooooEFIaWkNAETqDVSWLParjnFcBrPxEuNL1bVYl0R57HSnjF1cpcKCoYA5Cnr1qJSS3LSudNLbg9qqvZA9qdJ4g0pI5nkvoYxbxpLMHbBiV/ulvTNR3XiHSLPUIbG71K2hurgAxQvIAzg9MCp0HqH2Jc9KmitAO1VH8UaCmprp76vZi8aXyhAZRu3/3cetWB4h0ZdZGktqVqNQPAtjIN+cZxj1oVmGpoRQYHSrkUeAKjQ+lWVqkSPUU+kFLVkhRRRQAUUUhoACeKiY02eXy4mc/wqTXnEfxbtZvBF7r/wBgcSWtyLf7LvyXJ6EHHcZP4VEpJblJHoTgGqskQbqKoWviXT7i0hlkuYoZJbNbxomcZSMgHcfYetOXxDpMlvcTpf25itkV5n3jEakZBJ7ZHNLmTQahJaKe1QmyXPSqXiXxM+j2+mvp9n/aMmo3K28CLKEBLKWByeMcfrUWi+L7XUrWdtRj/sy4t7r7HLDLICPNPRVYcHNTdXsVrY01s1/u1ajtgMcVVl13SrW1ubmfULeOC0k8qeRnAEb/AN0+/IpknizQYNPgvptXs0tbjPlTNKAr464PtT0FqzajiAq1GoUVgyeK9Dt9Ji1OfVbVLGY4juDKNrH0BrUtL2C8tY7m1lWaGVQySIcqw9QapNC1L6mn1Aj5qUHNUIdRRRTEITTS1DGuO1jxdqVr4qbQ9H0T+0ZktluXc3KxAKWK9x7VLlYaR15emPgisQ+J9KRWFxqFtFLHIsMsZlGY5SM7D71mab8QtA1G1urg6hDbx21wYGaaQDnOAfoSDj6UnJdxpM6aRAapy24Pas7/AITXw41xbwDWrPzbkKYU84ZcN0x9amm8R6PFrCaVLqVsl+5AW3Mg3knoMUm13HZg9mD2qP7EOwpp8S6Ibq4txqlr51srtMnmjMYX7xPpjNc//wALAguRq8mlLZ3dvYGERz/aQqS7+Dk9BipvEep08dqB1q5DAoxWVN4q0K1v1sbrVbSK7Mgj8h5QG3HGBj8am/4SjRE1kaSdUtft5baLbzRvzjOMetO67hqbcSKKnBxXIap440+2t5hpV3Y3l5DIqSQNchNgLhCSe2Dxj1rUk8T6PBq6aVPqdtHfvgLbtKN5J7Yp8yFZm8G4p+aqJJU6PmtCTlvDH/JQfGv/AF82n/pKlddXI+F/+SgeNf8Ar5tP/SVK66gQUUUUAcj8LP8Akl+if9cW/wDQ2rrq5H4Wf8kv0T/ri3/obV11AAajfoakNMfpSGjg/HegXPiLVdHt1gZ7NRcGeTsm6PaufxNcboXhPXLaTSr2/hcX0z3CXchI/dKY9iE8/wCyK9ilHauYm8RwHxPJosUEskkMYknmDKEiDdM5OT+FYSjG92aJs4bTfD2rz/2PZnTn059KsruCa7YrtmaRdq7cHJGfmpNK0XVpZtLtH0ebT/sWlz2Ul0xXa8jLgEYOcZHX3r0lpEUnLgcZPzDpSLKjA7HVtpwcHpS5UO7PM9K8Nak2lTQ3VjqCXsGlTWcbymJYmJH3V2gE5PIJzT7nSdYWG7P9iTXX9p6NDZRg7c2siLtIbJ4GfmyK7261WO2urOJY5JxdymMSRDcqcZyx7CrglQyFA6ll+8u7kUuRBdnO+INGvLnwFZaXHF9quIXtRIBg7gjLuP6GsbU/DepfaNXuLPTy8S6zb3sVuuF+0RIoyFHT8Pau9SeNmwkiscdAwNSRzJKxCSKxX7wVs4qnFPqK7sYPgyyvLe81zULu0ewj1G886G1kxuRQoXJA6ZIrsY2qolWYxWkdFYi5bTtUwqGMVMKsTCkPWlpD1piInryz4gaQ+tXtwtt4UvH1ONAtlqtvcCMA44LEEHAPqDXqj81UlXNROKkiloeQeKNK8VXck1lLaz3iC3thHNbRxBZXQAyGRyN2cg4GauahpWpl/FltHpkz/wBqW6Pbyrt2khACvXrmvSWQ1GY8msvZ63K5mea3emazaa9b3OhWN7BeOtvHcySeW9tKiqN2c8qRz05zTptO16wsNRNjZOTNrhmbZEjyGD+8gbjPv2r0fyqPKNHs0PmPK7DRNZs7PT7qbSrmcWerzXMlq5QySI68NjoSK3p7bUbnxVZ36aRNbxXWlSWjAbf9FcvkFsHjj09a7byqUR8UvZhzHmOj6BrDNpEEmkyWTaTZTwzTkri4ZhgBcdQTzzV7T/Dt9b6b4MiSyML2bu12QAPLLRsMt+NeghKXZTUELmZ5r4e0DV4r/wAPWc+lvbHR7i4kuL5iu2dWzgKRyc5BOa9TjaoQnSpo0xVxjyivctxniplPSoYxxUyjpWpLHUUUUCCkalpDQBBIa8Z8V+Fb6+8Ua/LH4cury4umiOn3yzBEhYKPmIzzg+oPSvZ3HWqkiYrOceYtOx5J4h0nxAJtagXTJ7+TVLG0QXEJUIHj+/nJ49qXVPDeoy+INR+02l/cWeomCRTaGLClQPlYsMjBGeDXqToTTPLrP2ZXOzzi48M37yalKLAvJJr1vcRvgbmhXbls+gwajfw9q7XkmljTZCz68NRXUwV2CLIbr1zjjFel7DmnonNHIhczJkbpVpCeKqovNWowa2Qiwp4p1NUcU4VRAUUUUAFNboadTW6GgDO1YStpV0LdS8phcIo6lscCvG7TwBqy3GnxTW7LZtpvm3MZxxdLG6KDz1+avbZF3CqsiVlOCk7stOx5I+la7Y2tm39jXFzJN4e/s51jZf3Ug/vZPAqLVdJu/wC09F0pE8s6zYwW+oRbhujEJDEn8MjNesGM5qudPtvtv2z7PH9p2bPO2jdt9M+lZ+zK5tNTkviJpU+qWOjLb6bLqEFtfpLNbQttYxhGBAORiudh8P6za6BKbfSZoLWPV4by100yh5UjX7/OeSTzgmvVdlL5dN07u4c9jyufQ9dvNPnvE065tpBrZvxbAoZHjKgZGcqSPQ1esvDk/wBr0OUaddeUuqz3V0t75ZZd0eNxC8AEjpXovlY6Uuyj2aFznmNhoWq6VFol5JpEt2lnNdiSzTbuAkYlWAPHT+ddl4C0y60fwrDbXyeVM0skvlZz5QZyQv4Ct1UqVE5FVGPK7g5XVi1EasqarRrzVlRzWpA8dKU0g6UppiInPWvLfF2jSy/ET+07nw3eazZixjSM28mzZIHJ/vDPBr1JxVWVazlHmKTseVXWl6zd+PYvFS6GY4IJI4PsjgeZIpUgzdcZXP5VC2hak+hXulSaTKT/AG6t0GYKUliMoORz2XrXqTJ1qMxms/ZornZ5f4t07xBfa1eQW+nTyWaz272v2WOJY2RSC25sbiwxgDNLfaBq73WoaemmO7XmqxXseo5XZGgIJyc5BGCMV6d5dHl0vZhzHnGoeF9QuPD/AIlSGzH2q51QXEYYAG5iVkbbn0ODVS+0jVtWh8R3EWiT2f25rXyIH2hmCEbuAcV6j5dL5Zo5EHMeb6v4b1C4n8Ryx6eZJLm7tHt32jLKm3cQfbFQahYeI7zxUj3Gn3DwQavHPG0KRLD5A43ZxuZvXJr0/wAo0eWaPZoOax53P4cv/wDhGdXijsD9rudaNwuANzxeaGBz6Yyar6n4f1iW81XTotNklOoarFeRakGXbEg2k5OcgjaRivTRHTglP2aDmZNG3QE1aj6VVjTNWoxgVsrok5rwt/yP/jX/AK+bT/0lSuvrkPC3/I/+Nf8Ar5tP/SVK6+qJCiiigDkfhZ/yS/RP+uLf+htXXVyPws/5Jfon/XFv/Q2rrqACmsOKdSGgCrKua8m8TaH5+u+M54LBnuDpiGGRUOSxUhtp7nA7V67ItVZVrOUeYuOh4jfXQ1ey157KK5eP+x7SJGMLrl0b5gMgdM9qmv8ATLnTYvE1ro0E8VuYrR2SLdlh/wAtCvqcZzivYHj9qhMVZ+zK5jzpRpkt54c/4Ri2khtE1Fy48l0Xd5Lc/N26c9Kx/D8Ex1bR444LlNbjnuf7YkeNxujy2NzHgj7uMGvXPKpfLo9mHMeRaDpr6dceH763spjcTQ3v2j7wMgAOxTnp7VP4AmD+NIZobYWsdxp7+dHFbyoqyhwdrM5O5gO/vXq3l09Y8dqPZ6g5D4845q5EtQRr61ajHFbJakE6in01elOqhMKKKKBDWFQulWKbtoHcpNFzTfJx2q7sFG2lYCl5XtR5XtV3Z7UbPaiwFLyval8n2q5s9qNtFgKfk0vk+1W9tG2iwFXyqesdT7acFosFxiipBRilpiCiiigAooooAYwqF0zVgikK0rDuU2izTfIq5to20WAp+RSiGre2jbRYCBY6lVKeFFOxjpRYLgOKWiimIKKKKACkIpaKAI2UVA8eatYzTSooHcpmGk8mrmykKUAVPJo8mrfl0uygCn5FHke1XNtG2lYCn5OKesdWdtKFosFyNVxUqilC+tLigAooopiGMKiZM1Ypu2gZUaPmm+TVwoKTbSsBT8ijyKubaNtFgKfkUeT7Vc20baLAVPJ9qPJq3to20WAp+TSiGre2l2CiwFdY8VKq1JtFLimFzkvC/wDyUDxr/wBfNp/6SpXXVyPhj/koPjX/AK+bT/0lSuuoEFFFFAHAeH9C8feG9Ct9Isrnw3Pb2u5YpJY5w7KWJGQDjPPatHHxG/veF/8Avm4/xrrqKAORx8Rv73hf/vm4/wAaMfEb+94X/wC+bj/GuuooA5Ap8RT/AB+F/wDvm4/xqNrb4iN/H4X/AO+bj/GuzooA4o2XxDP/AC08Mf8AfNx/jTfsHxC/56eGP++bj/Gu3opWA4j7B8Qv+enhj/vm4/xo+wfEL/np4Y/75uP8a7einYDiPsHxC/56eGP++bj/ABpfsPxC/wCenhj/AL5uP8a7aiiwHFi0+IY/5aeGP++bj/GniL4ij+Pwv/3zcf412NFAHIgfEYfxeF/++bj/ABox8Rv73hf/AL5uP8a66igDkcfEb+94X/75uP8AGjHxG/veF/8Avm4/xrrqKAORx8Rv73hf/vm4/wAaMfEb+94X/wC+bj/GuuooA5Hb8Rv73hf/AL5uP8aNvxG/veF/++bj/GuuooA5Hb8Rv73hf/vm4/xo2/Eb+94X/wC+bj/GuuooA5Hb8Rv73hf/AL5uP8aNvxG/veF/++bj/GuuooA5Hb8Rv73hf/vm4/xo2/Eb+94X/wC+bj/GuuooA5Hb8Rv73hf/AL5uP8aNvxG/veF/++bj/GuuooA5HHxG/veF/wDvm4/xox8Rv73hf/vm4/xrrqKAORx8Rv73hf8A75uP8aMfEb+94X/75uP8a66igDkcfEb+94X/AO+bj/GjHxG/veF/++bj/GuuooA5HHxG/veF/wDvm4/xox8Rv73hf/vm4/xrrqKAOR2/Eb+94X/75uP8aNvxG/veF/8Avm4/xrrqKAOR2/Eb+94X/wC+bj/Gjb8Rv73hf/vm4/xrrqKAOR2/Eb+94X/75uP8aMfEb+94X/75uP8AGuuooA5HHxG/veF/++bj/GjHxG/veF/++bj/ABrrqKAORx8Rv73hf/vm4/xox8Rv73hf/vm4/wAa66igDkcfEb+94X/75uP8aMfEb+94X/75uP8AGuuooA5HHxG/veF/++bj/GjHxG/veF/++bj/ABrrqKAOR2/Eb+94X/75uP8AGjb8Rv73hf8A75uP8a66igDkdvxG/veF/wDvm4/xo2/Eb+94X/75uP8AGuuooA5Hb8Rv73hf/vm4/wAaNvxG/veF/wDvm4/xrrqKAOR2/Eb+94X/AO+bj/Gjb8Rv73hf/vm4/wAa66igDkcfEb+94X/75uP8aMfEb+94X/75uP8AGuuooA5HHxG/veF/++bj/GjHxG/veF/++bj/ABrrqKAORx8Rv73hf/vm4/xox8Rv73hf/vm4/wAa66igDkdvxG/veF/++bj/ABo2/Eb+94X/AO+bj/GuuooA5Hb8Rv73hf8A75uP8aNvxG/veF/++bj/ABrrqKAOR2/Eb+94X/75uP8AGjb8Rv73hf8A75uP8a66igDkdvxG/veF/wDvm4/xo2/Eb+94X/75uP8AGuuooA5Hb8Rv73hf/vm4/wAaNvxG/veF/wDvm4/xrrqKAORx8Rv73hf/AL5uP8aMfEb+94X/AO+bj/GuuooA5nwnoesadqet6n4gnsZLrVJ4n2WKuEjVIljH3ucnGa6aiigD/9k=)\n",
        "\n",
        "Por tanto, podríamos considerar un KS de 42.05% como bueno."
      ],
      "metadata": {
        "id": "p1c7i1RxIX3W"
      }
    },
    {
      "cell_type": "markdown",
      "source": [
        "**i. Un KS de 58,64% para Comportamiento, ¿qué tal es?**"
      ],
      "metadata": {
        "id": "p9_szNz2IcW4"
      }
    },
    {
      "cell_type": "markdown",
      "source": [
        "Teniendo en cuenta mi respuesta anterior, podemos decir que este es un puntaje de KS muy bueno."
      ],
      "metadata": {
        "id": "H9-OVqGWInfE"
      }
    },
    {
      "cell_type": "markdown",
      "source": [
        "**j. ¿Qué quiere decir que el Score ordena a los clientes? ¿En qué parte de la Tabla (tomar cualquiera de las dos) puedo evidenciar esto?**"
      ],
      "metadata": {
        "id": "1zzs_3hfLlW5"
      }
    },
    {
      "cell_type": "markdown",
      "source": [
        "Esto se puede evidenciar en la columna de Score, donde hay algunos rangos oredenador de mayor a menor, con los puntajes más altos en la parte superior de la tabla Des esta forma se puede ordenar y categorizar a los clientes."
      ],
      "metadata": {
        "id": "YyBs0hikLn1s"
      }
    },
    {
      "cell_type": "markdown",
      "source": [
        "**k. Interprete la razón de odds (buenos/malos) para el rango que contiene el punto de corte.**"
      ],
      "metadata": {
        "id": "rqV92QdNPeY_"
      }
    },
    {
      "cell_type": "markdown",
      "source": [
        "Interpretando los odds y teniendo el valor de odds para el rango que contiene el punto de corte, podemos decir que para los Odds de M90 es 18.5 veces más probable que alguien sea un buen cliente a que no lo sea. Y para los odds Acum, es 40.42 veces más probable que alguien sea un buen cliente a que no lo sea."
      ],
      "metadata": {
        "id": "nbqpfAN1Pjyl"
      }
    },
    {
      "cell_type": "markdown",
      "source": [
        "**l. Suponga que la entidad bancaria desea aprobar más créditos y su punto de Corte es C1.**"
      ],
      "metadata": {
        "id": "D0UTKRezP6it"
      }
    },
    {
      "cell_type": "markdown",
      "source": [
        "Colocaría el punto de corte en el rango de score de 700 a a 719 para asegurar por lo menos que el valor de odds Acum sea mayor a 30 y por tanto, que por lo menos sea 30 veces más probable que alguien sea un buen cliente a que no lo sea. "
      ],
      "metadata": {
        "id": "ESAHOv63Q6v2"
      }
    },
    {
      "cell_type": "code",
      "source": [
        ""
      ],
      "metadata": {
        "id": "hapTGOp1xl41"
      },
      "execution_count": 33,
      "outputs": []
    }
  ]
}